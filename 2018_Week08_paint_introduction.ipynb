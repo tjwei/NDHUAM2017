{
  "nbformat": 4,
  "nbformat_minor": 0,
  "metadata": {
    "colab": {
      "name": "2018-Week08-paint-introduction",
      "version": "0.3.2",
      "provenance": [],
      "collapsed_sections": [],
      "include_colab_link": true
    },
    "kernelspec": {
      "name": "python3",
      "display_name": "Python 3"
    }
  },
  "cells": [
    {
      "cell_type": "markdown",
      "metadata": {
        "id": "view-in-github",
        "colab_type": "text"
      },
      "source": [
        "<a href=\"https://colab.research.google.com/github/tjwei/NDHU_AM1130/blob/master/2018_Week08_paint_introduction.ipynb\" target=\"_parent\"><img src=\"https://colab.research.google.com/assets/colab-badge.svg\" alt=\"Open In Colab\"/></a>"
      ]
    },
    {
      "metadata": {
        "id": "tiuAiUDgwSmi",
        "colab_type": "code",
        "colab": {}
      },
      "cell_type": "code",
      "source": [
        "%matplotlib inline"
      ],
      "execution_count": 0,
      "outputs": []
    },
    {
      "metadata": {
        "id": "d2xiZPa9wsCG",
        "colab_type": "code",
        "colab": {}
      },
      "cell_type": "code",
      "source": [
        "import numpy as np\n",
        "import matplotlib.pyplot as plt"
      ],
      "execution_count": 0,
      "outputs": []
    },
    {
      "metadata": {
        "colab_type": "code",
        "outputId": "2e5c8d95-ca42-465a-d9b3-5652d1c4693f",
        "id": "hEFuU1EWxVn1",
        "colab": {
          "base_uri": "https://localhost:8080/",
          "height": 286
        }
      },
      "cell_type": "code",
      "source": [
        "img = np.zeros((600, 800, 3))\n",
        "for x in range(0, 800, 100):\n",
        "  img[:, x:x+100, 1]=x/700 \n",
        "for y in range(0, 600, 50):\n",
        "  img[y:y+50, :, 0]=y/550 \n",
        "plt.imshow(img, interpolation='bilinear', vmin=0, vmax=1.)"
      ],
      "execution_count": 23,
      "outputs": [
        {
          "output_type": "execute_result",
          "data": {
            "text/plain": [
              "<matplotlib.image.AxesImage at 0x7fec4db2cda0>"
            ]
          },
          "metadata": {
            "tags": []
          },
          "execution_count": 23
        },
        {
          "output_type": "display_data",
          "data": {
            "image/png": "[encoded data removed]",
            "text/plain": [
              "<matplotlib.figure.Figure at 0x7fec4dbee0f0>"
            ]
          },
          "metadata": {
            "tags": []
          }
        }
      ]
    },
    {
      "metadata": {
        "id": "YuG-ALfZzjY9",
        "colab_type": "code",
        "colab": {
          "base_uri": "https://localhost:8080/",
          "height": 286
        },
        "outputId": "9b780466-9d2e-4c6d-b004-d6f66ff53177"
      },
      "cell_type": "code",
      "source": [
        "img = np.zeros((600, 800, 3))\n",
        "y, x = np.indices(img.shape[:2])\n",
        "img[:, :, 0] = y/600\n",
        "img[:, :, 1] = x/600\n",
        "plt.imshow(img, interpolation='bilinear', vmin=0, vmax=1.)"
      ],
      "execution_count": 31,
      "outputs": [
        {
          "output_type": "execute_result",
          "data": {
            "text/plain": [
              "<matplotlib.image.AxesImage at 0x7fec4d9290b8>"
            ]
          },
          "metadata": {
            "tags": []
          },
          "execution_count": 31
        },
        {
          "output_type": "display_data",
          "data": {
            "image/png": "[encoded data removed]",
            "text/plain": [
              "<matplotlib.figure.Figure at 0x7fec4db53eb8>"
            ]
          },
          "metadata": {
            "tags": []
          }
        }
      ]
    },
    {
      "metadata": {
        "id": "Hxv18sWczpM8",
        "colab_type": "code",
        "colab": {
          "base_uri": "https://localhost:8080/",
          "height": 137
        },
        "outputId": "944c138a-891a-46bc-d734-12647586375c"
      },
      "cell_type": "code",
      "source": [
        "x"
      ],
      "execution_count": 27,
      "outputs": [
        {
          "output_type": "execute_result",
          "data": {
            "text/plain": [
              "array([[  0,   1,   2, ..., 797, 798, 799],\n",
              "       [  0,   1,   2, ..., 797, 798, 799],\n",
              "       [  0,   1,   2, ..., 797, 798, 799],\n",
              "       ...,\n",
              "       [  0,   1,   2, ..., 797, 798, 799],\n",
              "       [  0,   1,   2, ..., 797, 798, 799],\n",
              "       [  0,   1,   2, ..., 797, 798, 799]])"
            ]
          },
          "metadata": {
            "tags": []
          },
          "execution_count": 27
        }
      ]
    },
    {
      "metadata": {
        "id": "e1ElPMZcz1g9",
        "colab_type": "code",
        "colab": {
          "base_uri": "https://localhost:8080/",
          "height": 137
        },
        "outputId": "67d24b06-ac4f-47d2-e296-4b2569eb189f"
      },
      "cell_type": "code",
      "source": [
        "y"
      ],
      "execution_count": 28,
      "outputs": [
        {
          "output_type": "execute_result",
          "data": {
            "text/plain": [
              "array([[  0,   0,   0, ...,   0,   0,   0],\n",
              "       [  1,   1,   1, ...,   1,   1,   1],\n",
              "       [  2,   2,   2, ...,   2,   2,   2],\n",
              "       ...,\n",
              "       [597, 597, 597, ..., 597, 597, 597],\n",
              "       [598, 598, 598, ..., 598, 598, 598],\n",
              "       [599, 599, 599, ..., 599, 599, 599]])"
            ]
          },
          "metadata": {
            "tags": []
          },
          "execution_count": 28
        }
      ]
    },
    {
      "metadata": {
        "id": "d2QcwQC30IQs",
        "colab_type": "code",
        "colab": {
          "base_uri": "https://localhost:8080/",
          "height": 286
        },
        "outputId": "bfead3a8-fa39-4695-bf97-aa449b138749"
      },
      "cell_type": "code",
      "source": [
        "img = np.zeros((600, 800, 3))\n",
        "y, x = np.indices(img.shape[:2])\n",
        "#circle = (x-400)**2 + (y-300)**2 < 200**2\n",
        "line1 = x > 100\n",
        "line2 = x-y<100\n",
        "line3 = x+y < 500\n",
        "img[line1 & line2 & line3] = 1\n",
        "plt.imshow(img, interpolation='bilinear', vmin=0, vmax=1.)"
      ],
      "execution_count": 40,
      "outputs": [
        {
          "output_type": "execute_result",
          "data": {
            "text/plain": [
              "<matplotlib.image.AxesImage at 0x7fec4d53e240>"
            ]
          },
          "metadata": {
            "tags": []
          },
          "execution_count": 40
        },
        {
          "output_type": "display_data",
          "data": {
            "image/png": "[encoded data removed]",
            "text/plain": [
              "<matplotlib.figure.Figure at 0x7fec4d7aa748>"
            ]
          },
          "metadata": {
            "tags": []
          }
        }
      ]
    },
    {
      "metadata": {
        "id": "L1vKMJtf01Ul",
        "colab_type": "code",
        "colab": {
          "base_uri": "https://localhost:8080/",
          "height": 286
        },
        "outputId": "b4adcc46-5a08-4e1a-84a3-bde2f80e932d"
      },
      "cell_type": "code",
      "source": [
        "img = np.zeros((600, 800, 3))\n",
        "y, x = np.indices(img.shape[:2])\n",
        "#circle = (x-400)**2 + (y-300)**2 < 200**2\n",
        "line1 = x - 100\n",
        "line2 = x-y -100\n",
        "line3 = x+y - 500\n",
        "t = line1 * line2 * line3 > 100000\n",
        "img[:,:,0][t] = (1-x/800)[t]\n",
        "img[:,:,1][t] = (1-y/600)[t]\n",
        "\n",
        "plt.imshow(img, interpolation='bilinear', vmin=0, vmax=1.)"
      ],
      "execution_count": 52,
      "outputs": [
        {
          "output_type": "execute_result",
          "data": {
            "text/plain": [
              "<matplotlib.image.AxesImage at 0x7fec4d1496a0>"
            ]
          },
          "metadata": {
            "tags": []
          },
          "execution_count": 52
        },
        {
          "output_type": "display_data",
          "data": {
            "image/png": "[encoded data removed]",
            "text/plain": [
              "<matplotlib.figure.Figure at 0x7fec4d39f780>"
            ]
          },
          "metadata": {
            "tags": []
          }
        }
      ]
    },
    {
      "metadata": {
        "id": "M0nK3akl1tFc",
        "colab_type": "code",
        "colab": {
          "base_uri": "https://localhost:8080/",
          "height": 286
        },
        "outputId": "1012381d-b716-474f-925e-c607f8dc91fe"
      },
      "cell_type": "code",
      "source": [
        "#img2 = img[::, ::, ::-1]\n",
        "#img2 = np.rot90(img, -1)\n",
        "#img2 = np.swapaxes(img, 0, 1)\n",
        "img2 = np.transpose(img, (1, 0,2))\n",
        "\n",
        "plt.imshow(img2, interpolation='bilinear', vmin=0, vmax=1.)"
      ],
      "execution_count": 68,
      "outputs": [
        {
          "output_type": "execute_result",
          "data": {
            "text/plain": [
              "<matplotlib.image.AxesImage at 0x7fec4cb60cc0>"
            ]
          },
          "metadata": {
            "tags": []
          },
          "execution_count": 68
        },
        {
          "output_type": "display_data",
          "data": {
            "image/png": "[encoded data removed]",
            "text/plain": [
              "<matplotlib.figure.Figure at 0x7fec4cbe5438>"
            ]
          },
          "metadata": {
            "tags": []
          }
        }
      ]
    }
  ]
}