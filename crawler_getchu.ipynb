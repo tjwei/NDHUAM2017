{
  "nbformat": 4,
  "nbformat_minor": 0,
  "metadata": {
    "colab": {
      "name": "crawler_getchu.ipynb",
      "version": "0.3.2",
      "provenance": [],
      "collapsed_sections": [],
      "include_colab_link": true
    },
    "kernelspec": {
      "name": "python3",
      "display_name": "Python 3"
    }
  },
  "cells": [
    {
      "cell_type": "markdown",
      "metadata": {
        "id": "view-in-github",
        "colab_type": "text"
      },
      "source": [
        "<a href=\"https://colab.research.google.com/github/tjwei/NDHU_AM1130/blob/master/crawler_getchu.ipynb\" target=\"_parent\"><img src=\"https://colab.research.google.com/assets/colab-badge.svg\" alt=\"Open In Colab\"/></a>"
      ]
    },
    {
      "metadata": {
        "id": "TZUuOeUh0TNX",
        "colab_type": "code",
        "colab": {}
      },
      "cell_type": "code",
      "source": [
        "import requests\n",
        "from bs4 import BeautifulSoup"
      ],
      "execution_count": 0,
      "outputs": []
    },
    {
      "metadata": {
        "id": "jhZmzOGz1BSc",
        "colab_type": "code",
        "colab": {}
      },
      "cell_type": "code",
      "source": [
        "url = \"http://www.getchu.com/soft.phtml?id=1014493\"\n",
        "r = requests.get(url)"
      ],
      "execution_count": 0,
      "outputs": []
    },
    {
      "metadata": {
        "id": "ncN_2e_x1SCo",
        "colab_type": "code",
        "colab": {
          "base_uri": "https://localhost:8080/",
          "height": 34
        },
        "outputId": "673c8683-5ffc-4f2a-8823-c5394be2f5db"
      },
      "cell_type": "code",
      "source": [
        "r.encoding"
      ],
      "execution_count": 3,
      "outputs": [
        {
          "output_type": "execute_result",
          "data": {
            "text/plain": [
              "'EUC-JP'"
            ]
          },
          "metadata": {
            "tags": []
          },
          "execution_count": 3
        }
      ]
    },
    {
      "metadata": {
        "id": "ICnVVdgJ1Jda",
        "colab_type": "code",
        "colab": {}
      },
      "cell_type": "code",
      "source": [
        "html = r.content.decode(r.encoding)\n",
        "soup = BeautifulSoup(html)"
      ],
      "execution_count": 0,
      "outputs": []
    },
    {
      "metadata": {
        "id": "4tNYu_Ph1ahX",
        "colab_type": "code",
        "colab": {
          "base_uri": "https://localhost:8080/",
          "height": 35
        },
        "outputId": "e8f653a8-fcca-494e-be9b-a7ac8d3caa9b"
      },
      "cell_type": "code",
      "source": [
        "for img in soup.find_all('img'):\n",
        "  img_src = \"http://www.getchu.com/\"+img.attrs['src'][2:]\n",
        "  if 'chara' in img_src and 'charab' not in img_src:\n",
        "    print(img_src)\n",
        "    break"
      ],
      "execution_count": 21,
      "outputs": [
        {
          "output_type": "stream",
          "text": [
            "http://www.getchu.com/brandnew/1014493/c1014493chara1.jpg\n"
          ],
          "name": "stdout"
        }
      ]
    },
    {
      "metadata": {
        "id": "J7rkSJJm1fWZ",
        "colab_type": "code",
        "colab": {}
      },
      "cell_type": "code",
      "source": [
        "r = requests.get(img_src)"
      ],
      "execution_count": 0,
      "outputs": []
    },
    {
      "metadata": {
        "id": "Z0bicVF63ZRW",
        "colab_type": "code",
        "colab": {
          "base_uri": "https://localhost:8080/",
          "height": 55
        },
        "outputId": "1106325e-5782-4477-9e32-5613c77baeb1"
      },
      "cell_type": "code",
      "source": [
        "r.content"
      ],
      "execution_count": 24,
      "outputs": [
        {
          "output_type": "execute_result",
          "data": {
            "text/plain": [
              "b'\\xff\\xd8\\xff\\xe0\\x00\\x10JFIF\\x00\\x01\\x01\\x00\\x00\\x01\\x00\\x01\\x00\\x00\\xff\\xdb\\x00C\\x00\\x03\\x02\\x02\\x03\\x02\\x02\\x03\\x03\\x03\\x03\\x04\\x03\\x03\\x04\\x05\\x08\\x05\\x05\\x04\\x04\\x05\\n\\x07\\x07\\x06\\x08\\x0c\\n\\x0c\\x0c\\x0b\\n\\x0b\\x0b\\r\\x0e\\x12\\x10\\r\\x0e\\x11\\x0e\\x0b\\x0b\\x10\\x16\\x10\\x11\\x13\\x14\\x15\\x15\\x15\\x0c\\x0f\\x17\\x18\\x16\\x14\\x18\\x12\\x14\\x15\\x14\\xff\\xdb\\x00C\\x01\\x03\\x04\\x04\\x05\\x04\\x05\\t\\x05\\x05\\t\\x14\\r\\x0b\\r\\x14\\x14\\x14\\x14\\x14\\x14\\x14\\x14\\x14\\x14\\x14\\x14\\x14\\x14\\x14\\x14\\x14\\x14\\x14\\x14\\x14\\x14\\x14\\x14\\x14\\x14\\x14\\x14\\x14\\x14\\x14\\x14\\x14\\x14\\x14\\x14\\x14\\x14\\x14\\x14\\x14\\x14\\x14\\x14\\x14\\x14\\x14\\x14\\x14\\x14\\xff\\xc0\\x00\\x11\\x08\\x01,\\x00\\xfa\\x03\\x01\"\\x00\\x02\\x11\\x01\\x03\\x11\\x01\\xff\\xc4\\x00\\x1d\\x00\\x00\\x02\\x02\\x03\\x01\\x01\\x01\\x00\\x00\\x00\\x00\\x00\\x00\\x00\\x00\\x00\\x00\\x06\\x07\\x08\\x03\\x04\\x05\\x02\\t\\x01\\xff\\xc4\\x00H\\x10\\x00\\x02\\x01\\x03\\x02\\x04\\x04\\x04\\x03\\x05\\x04\\x08\\x04\\x06\\x03\\x00\\x01\\x02\\x03\\x04\\x05\\x11\\x00\\x06\\x07\\x12!1\\x13AQa\\x08\"q\\x81\\x142\\x91\\x15#BR\\xa1\\x16$br\\t3C\\x82\\xa2\\xb1\\xc1\\xd14S\\x92\\xb2\\x17%&cs\\xf0\\'\\x83\\xf1\\xff\\xc4\\x00\\x1b\\x01\\x00\\x01\\x05\\x01\\x01\\x00\\x00\\x00\\x00\\x00\\x00\\x00\\x00\\x00\\x00\\x00\\x00\\x02\\x03\\x04\\x05\\x06\\x07\\x01\\xff\\xc4\\x007\\x11\\x00\\x01\\x03\\x02\\x03\\x04\\x08\\x06\\x02\\x02\\x02\\x03\\x00\\x00\\x00\\x00\\x01\\x00\\x02\\x03\\x04\\x11\\x05!1\\x12AQa\\x13q\\x81\\x91\\xa1\\xb1\\xd1\\xf0\\x06\\x14\"2\\xc1\\xe1#BR\\xf1\\x15b$3\\xb2\\xff\\xda\\x00\\x0c\\x03\\x01\\x00\\x02\\x11\\x03\\x11\\x00?\\x00\\xfa\\xa7\\xa3F\\x8d\\x08F\\x8d\\x1a4!\\x1a4h\\xd0\\x84h\\xd1\\xa3B\\x11\\xa3F\\x8d\\x08K\\xbb\\xdbt&\\xd0\\xb0O^PM9\"*xK`I+tPO\\x92\\x8e\\xec@8Uc\\x8e\\x9a\\xa3\\xdbK\\xe3\\x0f}\\xd9o\\xafWv\\xb9%\\xf6\\xd9,\\xa5\\xbf\\x0f54q\\x85\\x8c\\x9c\\x80\\xa5\\x140\\xc0\\xc7\\x99\\xc7\\x98lu\\xb1\\xbcm\\xbc=\\xc7y\\xd3\\xd9\\x10\\x93\\x15\\xbe\\xcfQ\\\\\\xca\\x0fF\\x9a\\\\\\xc5\\x19\\xf6*\\xab(\\xfaK\\xa8\\xc7y|\\x11\\xc15\\x8e;\\x8e\\xc6\\xbbM3<+*[\\xae\\x8c\\xa7\\x99J\\x82\\x02\\xcc\\x00\\xc1\\xc1\\xe8\\x18\\x10|\\xd8w\\xd2\\xa2sK\\x9c\\xd7rZ\\x1aX\\xe9\\xe1\\x85\\xae\\xa8\\x1f}\\xed\\xd9\\xe4\\xacW\\x0c8\\xb5b\\xe2\\xad\\x9dj\\xedSxu(\\xa1\\xa7\\xa3v\\x05\\xe3\\xcf@A\\x1d\\x19N:0\\xfa\\x10\\x0e@z\\xd7\\xcbM\\xbf\\xb9\\xf77\\x03w\\xa8\\x95R\\xa2\\xdb]E.\\'\\xa4\\x99J\\x91\\xdb \\xa9# \\x8cdg\\x0c0A\\xecG\\xd1n\\x14\\xf1.\\xdb\\xc5}\\x9fI|\\xb72\\x8e\\x7f\\x92zp\\xd90\\xca\\x00%I\\xc0\\xc8\\xc1\\x04\\x1e\\x99\\x04d\\x03\\x90\\x16\\xf6l\\xe64P\\xabh\\xfe\\\\\\xed\\xb0\\xdd\\xa5:\\xe8\\xd1\\xa3M*\\xb4h\\xd1\\xa3B\\x11\\xa3F\\x8d\\x08F\\x8d\\x1a4!\\x1a4h\\xd0\\x84h\\xd1\\xa3B\\x11\\xa3F\\x8d\\x08F\\x8d\\x1a4!\\x1a4h\\xd0\\x84h\\xd1\\xa3B\\x11\\xa3F\\x8d\\x08F\\x8d\\x1a4!\\x1a4h\\xd0\\x84h\\xd1\\xa3B\\x15{\\xe2E;\\xd1\\xf1\\xc1\\xdeU\\xcc\\x15\\xb6h\\xccm\\xe4\\xc5%ne\\xfb\\x0c\\x13\\xfea\\xa9c\\x86U\\xbf\\x8d\\xd8vnc\\x99i\\xa0\\xfc\\x1c\\x84\\x9c\\x92\\xf0\\x93\\x13\\x13\\xf5(O\\xdfK|j\\xb1\\xf8\\xd1X\\xaf\\xb1\\xae^\\xdfVi\\xe5#\\xff\\x00&|F\\x7fI\\x04$\\xfa\\x0emy\\xe1\\x15\\xd7\\xc0\\xb8]m\\x12t\\xf1\\x08\\xaf\\x83\\'\\xbe@IT\\x0f \\x19Q\\x8f\\xa9\\x9bQo\\xb39\\x1cG\\x92\\xbf\\x97\\xf9\\xf0\\xd6<j\\xc3c\\xef\\xb9k\\xf1\\xeb\\x80\\x96\\xae4X_\\x0b\\x1d\\x0e\\xe3\\xa7\\x8c\\x8a;\\x8f/|d\\x88\\xe4\\xc7VBO\\xd5I\\xc8\\xf3\\x06\\xa2|:\\xf1\\x02\\xeb\\xf0\\xfd\\xc6\\t\\xf6\\xd6\\xe5\\x8e[}\\x05\\\\\\xe2\\x86\\xe1O)\\xe9\\x0b\\xe7\\xe4\\x94\\x10p@-\\x9ea\\x90U\\x98\\x8c\\xe4k\\xe8\\xae\\xab\\xdf\\xc5g\\xc3\\xe2qSo\\x9b\\xf5\\x92\\x0cn\\xcbdD\\xa2\\xc6:\\xd6\\xc42LG\\xfcC\\xa9R|\\xf2\\xa7\\xa3dX\\xb1\\xe2\\xdb\\x0e\\xd0\\xa8t\\xb5\\x004\\xc11\\xfa\\x0f\\x82\\xb0\\x9a5\\x11|0q\\n^\"\\xf0\\x8a\\xd7QT\\xc5\\xaev\\xe2m\\xd5e\\xbf1x\\xc0\\xe5c\\x9e\\xb9d(N|\\xc9\\xd4\\x9fUz\\xb7\\xd07-Mu5;\\x0e\\xeb$\\xaa\\xa4}\\x89\\xd3$\\x10lT\\x07\\xb0\\xc6\\xf2\\xc3\\xa8[\\xda5\\xa5Iv\\xa1\\xaf SVS\\xd4\\x13\\xe5\\x14\\xaa\\xdf\\xf2:\\xdd\\xd7\\x89\\xb4h\\xd1\\xa3B\\x11\\xa3F\\x8d\\x08F\\x8d\\x1a4!\\x1a4h\\xd0\\x84h\\xd1\\xa3B\\x11\\xa3F\\x8d\\x08F\\x8d\\x1a4!\\x1a4h\\xd0\\x84h\\xd1\\xa3B\\x11\\xa3F\\x8d\\x08F\\x8d\\x1a4!\\x1a4kB\\xe9t\\xa5\\xb3\\xd0MY[P\\x94\\xb4\\xd1\\x0c\\xbc\\xb2\\x1c\\x05\\xc9\\xe9\\xf5$\\x90\\x00\\xeeI\\xc0\\xeb\\xa1\\x0b\\xf2\\xf1k\\xa7\\xbeZ\\xea\\xed\\xd5J^\\x9a\\xaa\\x16\\x86@\\xa7\\x07\\x95\\x86\\x0e\\x0f\\x91\\xc1\\xe8F\\xa0\\xd9\\xab\\xea\\xb6u\\xd6\\x1b\\xac\\xb1\\xb4\\xf5\\x96\\xb9\\x99j\\xe2\\x85@i@\\x00N\\xa0\\x12\\x07\\xce\\x8c\\x93($\\x0c\\x98\\xf2q\\x9df\\xde\\x1cg\\xac\\xdc\\x89-6\\xdf\\x9d\\xedv\\xdc\\x955\\xaa\\x07\\xe2f\\x03\\xa1\\x08H\"0NFp[\\xd3\\x94\\x8d&m\\x8b\\x8d%\\x96\\xee\\x16o\\x92\\xdf\\\\\\xc2:\\x87f,VS\\x90\\x93\\xb31%\\x89\\'\\x95\\x98\\x92NT\\x93\\x85\\xd4\\t\\xde\\t\\x1b?pZ\\xbc>\\x86h\\xa2{\\xa6\\x1fC\\x86c\\x7f_+&{\\x87\\x1d\\xf7N\\xec\\xaf\\xa9\\xa2\\xdbTT6Zx\\x97\\x98\\xd6V7\\xe2\\xa5 \\x9c\\x02\\x02\\x1eE$u\\xc6\\\\{\\xe9j\\xf1_\\xbacU\\x9e\\xe7\\xc4\\x1b\\xb2\\xcc\\xe7\\t\\x15\\x1cb2\\xe7\\xd1#\\x8c\\x8ec\\xf4\\x1a\\xe5P\\xd2\\xbf\\x0f\\xf7%\\xd6\\xd2\\xeb\\xfd\\xdaf\\xfcE#c\\xa7\\x86\\t\\x0f\\x18?\\xe0f\\x18\\xff\\x00\\x0b/\\xa6\\xb0\\xdc\\xaf\\tz\\xac\\x99c\\x9aZ(\\x07\\xee\\xaa*)\\xce\\'\\x97\\x1d\\xe3G9(\\x83=H\\xeaN@\\xecIh\\xcf+\\x9d\\xf4\\x9b5^\\xc3AM\\x1bF\\xc3\\x01\\xeb\\xcd!\\x8e\\x0b\\xeeK\\xd5\\xd2\\xe91\\xbd\\\\\\xed\\xf6\\xeb\\x85CUT\\xc15k!\\x9aV$\\x99$D\\'$\\xe4\\xf4$\\xe3=\\xf5\\x86\\xe5\\xc1k6\\xd2T\\x15{\\x82\\xdbO,\\x99*\\xb5\\xb0\\x0c\\xb9\\xf5\\'\\x04\\xfd\\xce\\x9e)\\x92\\xc9f\\x9a)\\xed\\x94\\xf2\\xd1O\\x19\\xc9t\\x95\\x8f\\x88\\x0fB\\x1c\\x12C\\x83\\xef\\xd4\\x1e\\xa3^\\xee{\\x8a\\n\\xf8\\xe4\\x8eZh\\xe7G\\x05Ye@\\xdc\\xc0\\x8c\\x10r3\\xa7~bw8g\\x97P\\xfd\\xa9\\x82\\x18\\xda2\\x16Q\\xcc\\x16\\xfa\\x1b]t)W\\x05\\xb2\\xa2\\x98\\x90\\xa6\\xae\\x88\\x85e\\x07\\xa76W\\x07\\xa7\\x98#\\xae\\xa4;e\\xea\\xf1\\xb3\\xc8{>\\xe2\\x9eJ\\x15 \\x85j\\xa6h\\x06z\\x8c\\xb4g\\xe5\\xc8\\xec]\\x1d}t\\xb5\\x05\\xf1\\xad\\x11\\xa5\\x9a\\xa65\\x9e\\xd5)\\xe5\\xa2\\x96E\\x05\\xa9\\xdf\\xa9\\x11\\x12GU=\\x86{v\\xcfm`\\x92\\xd3\\x17\\x88\\xd2\\xd3\\x17\\xa2\\x94\\x82\\x0b@H\\x18=\\xc1\\x1d\\x88\\xf6\\xd4\\xb6\\xcc\\xf6\\x9b\\xde\\xde \\xf6&_\\x0cR\\xb7fF\\x83\\xef\\x8a\\x9e6\\xcf\\x1fn\\xd4m\\r=\\xce4\\xadw^e\\x8a\\xaf\\x96\\x19\\xa4\\x1d2\\xd1\\xcd\\x181J\\x00\\xec\\x02\\xa9\\xf5#R\\xe6\\xd5\\xe2\\r\\x9bx\\x13\\x1d\\x1dA\\x8a\\xb5W\\x9d\\xe8\\xaa@I\\x94g\\x19\\x03$2\\xff\\x00\\x89I_,\\xea\\x98B\\x95\\x11\\xd2KM,1\\xd5\\xd2\\xc8y\\xa5\\xa4bDr\\x91\\xd9\\xd0\\x82\\x0cR\\x0e\\xe1\\x94\\x8e\\xba\\xe6S\\xee\\x1a\\xcd\\xb3q\\xa7\\xa7\\x92\\xaa\\xaaj\\x19\\x1b\\xc4\\xa2\\xac,Vda\\x9c\\x80\\xe0\\x82\\xb2\\xa8\\xc8%H$d\\x8cu\\x1a\\x99\\xd2\\xc33l[\\xb2\\xee#C\\xd8}}\\x16v|\\x18\\x12LN\\xb7Z\\xfa\\tUU\\x1d\\x15,\\xd5\\x137$1!\\x91\\xdc\\xf9\\x00\\t\\'\\xec\\x06\\x96\\xaf\\xd7\\x1b\\xbf%8\\xa0\\x7f\\x06\\xa5\\xf0\\xc2/\\x00J\\xa0c!Xd\\x13\\xef\\xcaF<\\x8f\\x9e\\x92x5}\\xb8\\xf1\\'m\\xcd-\\xfa\\xe0\\xb7:X$4\\xf1x#\\xc2\\xf1\\xc0\\nKN\\x01\\x1c\\xcd\\xf3\\x05 \\x00\\xa4\\x02J\\xe4\\xf4\\x96W\\xc2\\x15,\\xe0\\x8ep1\\xa6\\x85\\x9asY\\x89#tO,v\\xa1*U]\\xb70\\x83\\xf1Eh\\xa8b\\x88\\x0ex\\xccM71\\xecI%\\x94\\x80O`\\x06G\\xa9\\xed\\xae\\xd5\\x83q\\xd3_ \\x8cx\\x90\\xc5]\\xc9\\x99h\\xd6ew\\x8c\\x83\\x83\\xd3\\xa1+\\x91\\xd0\\x9020p3\\xaev\\xfd\\x92CjU\\x8d\\xc8R\\xdf0\\x1ec\\xb8\\xfd5\\x19\\xcdQP\\x96\\xfa\\xa6\\x81\\xc8\\xad\\xa6F\\xa8\\xa5a\\xf9\\x92e\\x04\\xa9\\x1ex$r\\x90:\\x10H9\\x07O\\xb61+.2\\xb2E\\x94\\xf1\\xa3^\\x10\\x96PH\\xc1\\xc6H\\xf4>z\\xf7\\xa8\\xa9(\\xd1\\xa3F\\x84#F\\x8d\\x1a\\x10\\x8d\\x1a4hB4h\\xd1\\xa1\\x08\\xd1\\xa3F\\x84#F\\x8d\\x1a\\x10\\x8d\\x1a5\\x86YR\\x08\\xd9\\xdd\\x82F\\x80\\xb3\\x168\\n\\x07rO\\x90\\xc6\\x84.^\\xe8\\xdc\\xf6\\xed\\x9dd\\xa9\\xbb]g\\xf0(\\xa9\\xc0$\\x81\\x96f$\\x05E\\x1d\\xd9\\x98\\x90\\x00\\x1d\\xc9\\xc6\\xaa\\xc6\\xf5\\xdeW\\xde(\\xee\\x02+\\xf9\\xed\\xf6z\\\\Hm\\xd1\\xb7\\xfa\\xb0\\xc0\\x84\\x8d\\x98t2\\xb0\\xc9b?*\\x92\\x07By\\x9e\\xb7\\xed\\xd6M\\xe1\\x7f[\\x9dIg\\xb5P\\xa9km\\x16\\x08\\xeaA\\x06w\\x07\\xbb\\xb08PFUO`\\xcc\\xc0.SY\\x7f\\tH\\x11\\xf0\\xd3\\xc8\\xe6i\\x98\\x7f\\x14\\x8d\\xd4\\x9f\\xa0\\x18Q\\xec5\\x02Z\\xa0\\xd2Z\\xd5\\xb7\\xc2\\xb0\\xd6\\xc6\\xc1<\\xa2\\xee9\\x8e_\\xb4\\xaf<\\xa2\\x8e\\x19eb\\xb0A\\x04e\\xdc\\xe3\\t\\x1cj2N<\\x80\\x03\\\\\\xbaC5\\xd6\\x0f\\xc6\\xd7\\xa3G\\x0c\\x99\\x11Q7@\\xaaGw\\x03\\x19b\\x0fP{g\\x1d\\xf4\\xcf}\\xb4\\x8a\\xa6\\xa0\\xb6\\x80\\n\\xd4I\\xf8\\x9a\\x85\\xfeh\\xd0\\x8eD>\\xc5\\xca\\x13\\xea\\x14\\xeb=]\\x9c4\\x8e\\xa0e \\x8c\\x80}I\\xee~\\xe4\\xff\\x00MF\\x12\\xb4\\x05\\xa4\\xb2\\xe6\\x8a\\x97\\xddV\\xe3g\\x92\\xa5b\\xbe\\xd3!\\x9e\\xd9W6H\\x93\\x95H\\x01\\xbc\\xce\\x01\\xe5q\\xdc\\xa9\\xe6\\x1ex\\xe3\\xd3\\xc4)l\\x14K\\xc8\\xd1L]\\xd6H\\xe4\\xfc\\xe8\\xc8y]_\\x1e|\\xc5\\x89\\xf5\\xe8GB5\\xb3t\\xdb\\xaf^\\xf4\\xe9\\x14\\xd2R\\xd4\\xc0M\\\\\\x13\\xc4p\\xd1\\xba\\x00\\xa8\\xc0\\xf9\\x82\\xce\\x01\\x07\\xa1\\x01\\x81\\xc8\\xce\\xb5\\xda\\xe0/\\xd2\\xc9S\",7\\xbaT\\x02\\xe7E\\x10<\\xb3\\xc6\\x00\\x02\\xa6\\x11\\xd4\\x9c\\x0e\\x8c\\x06H\\x1d\\x0ep\\xa4\\xfa\\xdb\\x03\\x96\\x9e\\xfc\\x13V\\xd8\\xcbr\\xd5\\xa8b\\x94\\xb2\\xce{#*\\x9f\\xb9?\\xf6\\xd7\\xec4r\\xd4g\\x91\\x0bc\\xd0kz\\xfdn\\x11l\\xea\\x89\\x10\\x863\\xd5S\\xa4l\\xa4\\x10\\xc1\\x98\\x00A\\x1d\\xc1\\xe6\\xc8\\xc6\\x9d\\xb6\\xfd\\xa68#w#\\xe6$t#\\xb1\\xc0\\xcf\\xf5\\xd2\\x9d(cn\\x9c\\r\\xb9\\xb1Q\\x95}\\xa0W\\xd1\\x18%\\x07\\xc3\\x9dN\\x18t*A# \\xf9\\x10Fu\\xebkC5\\xe2\\x8ex\\xe6\\xff\\x00\\xc7\\xd1\\xb1\\x8au\\x1f\\xc4W\\x04\\x90=\\xd4\\x87\\x1e\\xd9\\xd4\\x8dr\\xb4F\\xbc\\xa7\\x91@Z\\x9ee\\x18\\xe9\\x87\\x00\\x91\\xfa\\x8d/\\x1bo\\xf6o\\x88\\xb4\\x12\\'J[\\xb4\\r\\t>Bx\\x81d\\xcf\\xbb!q\\xef\\x81\\xa0N\\x1c\\xd2\\x07_\\xbe\\xc5\\xe6\\xcd\\x8a\\xd8\\xa5\\xdalb\\x05\\xc7W^d \\xf4\\xed\\xd4\\x1fBGPu\\xcb\\x1bb\\x9bpR\\xd7\\xdbk\\x94\\xe1d\\x11N\\x13\\xa3\\xc7 \\x01\\xa3\\x95\\x0f\\x91 \\x83\\x9fQ\\xf5\\xd4\\x96\\x91*\\xc7\\xc8\\x07E\\x04\\x81\\xe8\\x07\\\\\\xfd\\xb4\\xad_*\\xda\\xb8\\x85n\\x04r\\xc5x\\xa3\\x92\\x06\\xf4\\xf1\\xa1!\\xd0\\xfdJ\\xbb\\x8f\\xb6\\xa32g8\\x91\\xbf^\\xe4\\xb2\\x00G\\xc3\\xa5M\\xf7k\\xdc7]\\x9a\\xb6\\xa5!\\x8a\\x92H]J\\x7f\\xb4g\\x0c\\x04\\xc0\\x109U\\x95\\x00#\\xa8\\xe6\\x18\\xe8W\\xad\\x8a;\\x8a\\xd5MK\\x1c\\xe9V\\x92\\xca\\xf8\\xe6Up\\xc4\\x13\\x8c\\x823\\x91\\x8dW\\r\\xf4\\xd7]\\x9bJ\\x9b\\xc6\\xd5\\x12H(TAr\\xa7\\x95\\x0bGSD\\xec\\t\\r\\x82\\x08(\\xdc\\xae\\x18\\x1c\\x8f\\x9b\\xb8$\\x16\\xad\\xb1\\x1d\\xb7z\\xed\\x9a\\x0b\\xdd\\x04\\xa2\\x92y%0\\xd6C\\xe2x\\x82\\x92A\\x9c\\x02@\\x04\\x82\\x00 \\x902\\x0e\\xb4T\\xce\\x8e\\xae0\\\\lV\\x0b\\x15\\xa6tS\\xbaQ\\xf6\\x9f;oS\\xb4\\xf41\\\\V)*9Z\\x94\\x0eq\\x93\\x9c\\x9f }\\xb1\\xa4\\xad\\xd5\\xfb-L\\xb3\\xc1\\x1cAI\\x00\\xf5\\x1c\\xac1\\x821\\xd8\\x023\\x9dr\\xe9o\\xf5\\x95U\\xc6\\xd5WsY\\xa2\\xa5\\x89[\\xc0\\xa5P\\xae\\xf9\\xc8R\\xe0d\\x80@>\\xc7P\\x87\\x17\\xeeu\\x0f~\\x9e\\x96\\x89*\\x92\\xcf\\x02\\xa4w\\x1a\\xa8\\x8ea\\x82y\\x0ec\\x8eB\\x0eFTu\\x07\\xa0\\xe6PpH\\xcb\\xc3b\\x98m\\xc8\\xec\\xb4\\x1dgv\\xec\\xd5m<\\x0e\\xa9\\x90F\\r\\x95\\xb6\\xd9\\xd7%\\xbc\\xed;=h\\x9dj\\x85E$O\\xe3+ss\\x92\\xa0\\x92O\\x99\\xcf}wuV\\xf8\\x1f\\xc5\\xc8vd\\xd1\\xd8\\xaf\\xd2\\xb4\\x16\\xca\\xa9\\xc2\\xc1P\\xff\\x00\\x92\\x96f$\\x10\\xe4\\xf6G8\\xeb\\xd87S\\xf9\\x89\\x16\\x93Q\\x03\\x83\\x8eK\\xca\\xbaW\\xd2HX\\xed7\\x1e(\\xd1\\xa3F\\xbdP\\xd1\\xa3F\\x8d\\x08F\\x8d\\x1a4!\\x1a4h\\xd0\\x84h\\xd1\\xa3B\\x11\\xa3F\\x8d\\x08F\\x918\\x83v\\x12/\\xect\\x1e*\\x18\\xc4\\xf5\\x88?\\xda#1X\\xa0\\xff\\x00\\xfb\\\\\\x10G\\\\\\xa4r\\x03\\x82A\\xd3\\x8dul\\x16\\xda\\x1a\\x8a\\xca\\x99\\x044\\xf4\\xf1\\xb4\\xb2\\xc8\\xdd\\x02*\\x82I>\\xc0\\x02u\\x0e\\xc5zi\\xaf\\xf3OV\\nMNEuR7\\xfb:\\xa9\\x80Xb#\\xb6a\\x85T\\x1c\\x0e\\xa4\\x13\\x8c\\x93\\x96f\\x7fF\\xc2T\\xfa(\\x0c\\xf2\\xe9p3\\xfdv\\x9c\\x97\\xe5\\xe3j\\xd6S\\'\\x8f/\\xef^Y\\x02\\x97b>y\\t9#\\xdb \\xf5\\xf4\\x19\\xd7\\x05a2s\\x95\\x01\\x82\\xaf9\\xc7ld\\x0c\\xff\\x00P4\\xf3\\xb8w]5\\xd5\\xc9\\xa4\\xcf\\xe1\\xa8\\xa9d)\\xcc1\\x99\\x1c\\x04S\\x8f`[\\x1aC\\x82\\xef\\x05\\x1d%\\xe5\\\\\\x02Ua\\x04\\xe7\\xc8s9\\xfdHQ\\x8dg\\xdc\\xd0\\x1cCM\\xd6\\xf6\\x96Y\\xccW\\x95\\xb69e\\xef\\x96k\\x85L\\xe2\\xb3u\\x97R\\x1c\\x16x\\x11G|B\\x80\\xbf\\xe8\\xd3\\x10}\\xd7\\xdb]\\x87\\x89\\x04\\xbe\\t\\x18wR\\xc4\\x1e\\x87\\x00\\x8c\\xff\\x00S\\xa5\\x0e\\x1e^M&\\xfe\\xb4\\x89b\\x13\\xfe\\x1a\\xcf5\\\\\\xb1\\x9e\\xcd-EL\\x8er=\\xd4\\xa0\\xfai\\xbe\\xff\\x00|\\xa6~\"\\xa0\\xc0X\\'\\xb3\\xcf7^\\xca\\x7f\\x102}\\xb0\\xa0\\xe9\\xe7\\xc6\\x01\\xc8\\xeeO6g\\x87X\\xb7#\\xbf\\xb4\\xfe\\x17\\x12\\xa2X\\xe9\\xcd\\xfa\\xbd\\xb1\\xe1QD!\\x19\\xed\\x95R\\xec>\\xec\\xea>\\xdaP\\xb6X\\xc6\\xec\\xa6\\xa8\\xaa\\xb7\\xca\\xd1\\xddmrAO\\xe2\\xc2\\xdc\\xaf\\xe3-<L\\xd8#8`_\\x1dz\\x11\\xd0\\x825\\xd6\\xe2>\\xe4\\xa3\\xb2\\xf0\\x869^\\x1f\\x06z\\xa2j*%$\\x82C\\xb3J\\xcb\\x8e\\xdd\\x17\\x91A\\xf3\\xe84\\xbb\\xf0\\xe3s\\x96\\x97\\x86\\x15\\xf7z\\x95\\xc5em\\xd2\\xba\\xa0\\x83\\xdd\\xa5v\\x08\\xa0}\\x1b\\x00\\x7f\\x97R\\x1a\\xc2\\xd8\\xbaA\\xc6\\xde\\xfcR\\xb6\\xcb\\xb2#\\x8a\\xd5\\xa8\\xdc\\xc6\\x9a\\xb6\\xc9k\\xba\\x98h(\\xc5\\xc9*\\xa6$\\x14@\\x13$\\xb2\\x0f\\xe1\\x05\\x99\\x0b!\\xe8\\xbf\\x99IRB\\xc9\\xfb\\x12\\xb57\\x05\\xde\\xb2\\x97\\x9b(j\\x82\\xa1\\x04\\x11\\xcaK  \\x8e\\x84e\\x0e\\x95o\\xd4\\xd6\\xfd\\xe7\\xbe\\xef\\xf5\\x13S\\x88\\xed\\xd6j\\x08\\xe8G&0\\xd3\\x11\\xe2HNF\\x0e\\x14 #\\xb0\\xd2\\xff\\x00\\x04%\\x97lnJ\\x08\\xe1\\x94\\xbd\\xba\\xa2\\x9eI\\xe2\\xa7v\\xc9\\xa70\\xd4)`\\x84\\xf5*|l\\xe0\\x93\\x8f,\\x0e\\x9a\\xf5\\xeck\\xa3\\xb8\\xddo\\x1c\\xfc\\x97\\x80\\xbfg,\\x89S\\x06\\xe3\\xb2U\\xc1\\xb3*\\xee\\xa5y\"NB\\xa7\\xd4\\x86\\xe9\\x8f\\xa1\\x18:\\xe2\\xee\\xea8\\xee;&\\x96\\xf9N\\xc0\\xcfAQ\\x1dz\\xa6z\\x90\\x85Y\\x80\\xfa\\xc6\\xee\\x0e\\xbc]\\xf7l\\xf3m]\\xc3I\\xe3\\xb3RF\\xd2\\xc6\\xb1\\x93\\xd0a\\xc3\\x82\\x07\\xd4\\x9f\\xd7K[Kp\\n\\xed\\xb9AI#\\xe6#W%\\xbeP\\x7f\\xc6\\x84\\xa1\\xff\\x00\\x88\\r0\\xd8\\xc8n\\xd0\\xdc\\x7f\\x0b\\xd1\\xd2\\x1b\\x87\\x9d\\xf9u)\\x7fj\\xbd,\\x95F9\\xb0U\\x9d0zuG&7\\xeb\\xe9\\x87\\x07\\xed\\xa4\\x8f\\x88\\x18-6M\\xad\\xb7\\xafVYd\\x92\\xa6\\xc7z\\x87\\xf1\\x06PC\\x95~h\\xc99\\x03\\xa1=:iW\\x87\\x9cA\\x17\\x8bm\\x904\\x98\\x96h\\xa5\\xa4s\\xd8\\xf8\\xf0\\xb0\\x04\\x11\\xe4J\\x8c\\xfdF\\xbd\\xf1\\xa2\\xe0\\xd5\\x9b^\\xf2\\t\\xc0\\x9e\\x9aJ\\xa2\\xa0\\xf7x\\xa4\\x8eQ\\xfa\\x00t\\xb8\\x98c\\x941\\xc12\\xf8K\\xa4\\xe9Z\\xe3\\xd5\\xbb\\xdeg\\xb5M\\x16;\\xe5\\x9e\\xb3n\\x1bu\\xd6\\x05\\xa9\\xb7\\xdc\\xe2\\xfc$\\xac@+\\xe1\\xb0\\xe8H\\xf4*\\xfd\\xc7\\xf2\\xea\\x82\\xef+\\x06\\xe7\\xe1\\x7f\\x1b\\xae68/7\\n\\x19c\\x9a:Zz\\x8a*\\x97\\x88TQ\\x94f\\x89\\x8f)\\x01\\x81P\\xa3\\'=U\\x8f\\x9e\\xacg\\x0e\\xf7C\\xd5l\\xfa\\x8abL\\xb5\\x96f9L\\xf5xA%H\\x1e\\x7f)#\\xf4\\xd2\\xe7\\x1cm\\xb4\\xd7{\\x8e\\xd7\\xdc\\x0cU\\x85\\x1a\\xb1\\xa7\\xa9P?{\\x03)-\\x19>|\\x85\\x84\\x8b\\xed\\xe2\\x0f-M\\xa4{\\xa9\\xe51\\x91\\x96\\x9e\\x89\\xa7R\\xb6\\xe5\\xe3Gj\\x0f\\xbe\\xce\\xe4\\x99\\xf0\\xef\\xb8(o\\x97\\xd3C\\xb9\\x90\\\\j*j\\x9c~2\\xb5\\xd9\\xe4\\x90\\x0c\\x16\\x89\\xdc\\x9c\\xf4R\\x18u\\xec\\x18yj\\xc4\\x1d\\x9f\\x0f\\n%\\xaa\\x16\\x9at\\x93j\\xdc$o\\xc4[%\\xcb\\xa23\\xe7\\x9dNI\\xca\\xb7R2N\\x0eGb5N-\\xb4\\x92Y/51\\xc3!\\x82r\\xe2\\xae\\x19\\x07ut\\x91\\x94\\x10<\\xc6\\x02dy\\x8c\\x8d]^\\x12o\\n^)l#\\rR\\x8f\\xc4D\\xbf\\x87\\xa9\\x84\\xb6Ll:\\x01\\x9e\\xfd\\x0e\\x08>c\\x94\\xf9\\xeb\\x9e\\xe3\\xac|5R\\x10~\\x9b\\xe6:\\xf3\\x05O\\x99\\xbb\\x11G5\\xae\\xdbY\\xc3\\x97\\xe9!o-\\x91E\\x05\\x01\\xa8\\xa2\\xe6\\x9bn\\xd5\\x01\\x1731/F\\xc7\\xa0\\x8d\\xc9$\\xf2\\xe7\\x01\\\\\\x9e\\x87\\x00\\x9e\\xc4\\xbepk\\x8c\\x15;f\\x82\\x9e\\xd1\\xb8\\x1d\\xe6\\xb7\\xc1\\xfd\\xdc\\xd46K\\xd2\\x15\\xc0\\x04\\xf9\\xb4D`\\xfa\\xa0=2\\xbd\\x17Sj\\x93KYYl\\xab\\x8de\\x89\\x8bA<\\x12(*\\xe0\\xe4\\x10A\\xe8A\\x1aZ\\xdc\\xdbV\\xa3b\\xdf`\\xc1\\x92[-i\\x11\\xd2V\\x12KC \\x04\\xa42\\x1e\\xf9\\xc6B\\xb9\\xfc\\xc0(?0\\xea\\xf56/+@k\\x9d\\xf5\\xb7C\\xfeM\\xe0y\\xef\\x07\\xf3\\xacyi\\xa1\\x98\\xfc\\xa4\\xf9\\x83\\xf6\\x9d\\xfc\\xbb|\\xd5\\xbf\\x86d\\xa8\\x8a9cu\\x92\\'P\\xca\\xe8AV\\x07\\xa8 \\x8e\\xe0\\x8e\\xb9\\x1a\\xcf\\xa8\\'\\x85\\xdcCKTkIR\\xe1-\\x8a@\\x9d\\t\\xe9HI\\x00J\\x9e\\x90\\x92p\\xc3\\xb2\\x13\\xcc0\\xa4\\xf2\\xce\\xda\\xdeQ\\xd6G[\\x17I\\x1fh\\xe0W;\\xab\\xa5\\x92\\x8eS\\x14\\x831\\xe2\\x8d\\x1a4jr\\x86\\x8d\\x1a4hB4h\\xd1\\xa1\\x08\\xd1\\xa3F\\x84#F\\x8d\\x1a\\x10\\x90\\xf8\\xa5|J**\\x1bo2\\xf3VHf\\x95Oc\\x0cEY\\x81\\xf2 \\xb1\\x89\\x08=\\xd5\\xdbP\\xc6\\xd0\\xaf\\x92\\xe7b\\x92\\xe0\\xe5\\x99\\xaeUr\\xd6\\x96\\'%\\x94\\x9eX\\xf2}\\x91A\\xfb\\x9dmq\\xb3t4\\xd0\\xee\\xeb\\xacNJSB\\xd6\\xdaC\\x9e\\x99BU\\xc8\\xf4&gu\\'\\xcf\\xc2_Mx\\xb4B\\x96\\x8be\\x15\\x00\\x00\\nJhb#\\xdf\\x01G\\xf5\\x1a\\xa7\\xaayu\\xc0\\xe3o_0\\xba\\x06\\x11J!\\x848\\x8c\\xdd\\x9f\\xa2\\xdf\\x9e\\xa3\\xc0\\xa5\\x98\\xe7\\n@\\xcf\\xeb\\xd3\\xfa\\x9d$_\\xae\\xff\\x00\\x85\\x9a\\xf4\\x9c\\xd8X\\xe5\\x92\\xaar{\\x08a\\x89H\\x07\\xfc\\xd22/\\xd3\\x9b]\\xfd\\xe1V)-\\t\\x97\\x11\\x89\\xaa\\xa0\\x88\\xb18\\n\\x0c\\x8aI\\'\\xd8\\x03\\xa8\\x7f\\x8e[\\x9dv\\xae\\xd2\\xb9\\xcdO\\x96\\xbb\\xeey\\x9aH\"~\\xf1SF\\xbd\\t\\x1d\\xc2\\x8c\\x17>\\xa5\\x80\\xd3\\x14\\xd1\\xed\\xb8\\x0e9y+\\x99\\x1de\\xd8\\xe1\\x15i\\x9fr\\xcf<\\xecK%\\x9a\\x95\\x19\\x9b\\xbeDQ\\x13\\xfdX\\xe9\\x9fy+\\x1d\\xf5g\\x81\\t\\x12\\\\-\\xf5\\x14JGp\\x0c\\x91\\x97?e\\xe7?mG;j\\xbe=\\xb7p\\xdc\\xa6i\\x16/\\x06\\x91bVc\\x82\\xc4EO\\xd0\\x0e\\xe4\\x9c\\x1e\\x83O\\xb7\\xcd\\xc5\\n]_s\\nFt\\xb5\\xd3=\\r\\x1a\\xd41F\\x9eyJ\\xb3\\x85A\\x93\\xd1U\\x01\\'\\x18\\x1c\\xc4\\xf6\\xd4\\xa9\\x9b\\xfc\\x81\\xcd\\xde-\\xe0\\x92\\x0f\\xd3d\\x93\\xc7\\xfb\\x80\\xbb\\xee\\x9d\\xbf\\xb6\\xa3\\x00[\\xe9\\xc0\\xa9\\xac\\x03\\xa0\\xc9\\x04\\xc7\\x17\\xd4\\x84\\xc9\\xf6\\x03\\xd7[|>\\xbeSX\\xf8miy\\xd8\\x08)\\xa6\\xae\\xbaT\\xf9\\x0eH\\xe5vP~\\xac\\xe8\\x06\\xa2\\xbb\\x9d\\xd2\\xba\\xae\\xe5t\\xb8\\xd7\\xc9\\xe3\\xd5\\xd3\\xdc\\xff\\x00\\x10\\xd2`\\x80\\xe1\\xa9\\xf9z\\x0f \\x18\\xf2\\x81\\xe4\\x00\\x1a\\xe8=rEU`\\xda\\x85\\x8b~*he\\xab_\\xe1\\x14\\xd0\\x90\\xc5?\\xdf\\x90\\x02G\\x98MX\\x08GD\\xd8\\xb8~\\xfdSW\\xb1\\xdaR\\xdd:TX8gT\\xf5D\\x9b\\x9d\\xc45EI\\xf32\\xcc\\xd9#\\xec\\x0e\\x06\\x96\\xb6\\x9dy\\xa6\\xde\\x1b1\\x01\\xc2\\xcdIuR=pi\\xd8\\x7f\\xed\\xd3f\\xe7\\xaa5\\xa2\\x8e\\x12r\\x9c\\xcdP\\xc3\\xcb\\n\\x0e?\\xa9\\x1a\\x8d\\xf6\\xf3\\xb1\\xbelz\\xbe\\xa0ACqv\\xff\\x00|(\\x19\\xff\\x00\\xd3\\xa8\\xad \\xc6\\xe2w\\xfa\\x14\\xe9\\x06\\xe2\\xc9\\xc2\\xaa\\xf2\\xff\\x00\\xb07?)R\\x1c\\x97\\x05\\x89\\xf3$y\\x0fm+m\\xfb\\xa5m%5\\xe64\\x10\\x90\\xb2R\\xd6\\xa7\\xccA\\x12\\'(lt#\\xaa\\xb2~\\x9a\\xdf\\xbfF\\xf4\\xb6G\\x88\\x02\\x1azUf\\xf7$\\xb1\\xff\\x00\\xa8\\xd6jM\\xb5,\\\\?\\xa8\\xdc8o\\r\\xee\\xe6\\x94\\xf4\\xe8b\\n\\xb0\\xe7\\xe9\\xce1\\xafK\\xda\\xc6\\x8ed/-\\x9ei\\x16\\xcbz\\xab\\xb3\\xdc\\xeeQ,L\\x8a.\\xa2\\xe3LQ\\x81\\xe5\\x124\\x8ap\\x0e;\\xb09\\x1a\\x928\\x85\\xba)\\xef\\x16\\x05\\x92\\')\\xe3PT\\x9f\\r\\x81V^jwR0{\\xe1\\x80\\x1d4\\x87\\x7f\\xb4\\xcbO\\xb2b\\xbeS\\xa1y\\xe3\\x92\\xa6\\x99\\x94\\x7f\\x11\\x8eE\\x99\\x07\\xd4\\x81 \\x1a\\xd8\\xbdL\\xd5\\x9b~\\xa1\\x14\\x89\"\\xfc4\\xad\\x08n\\xbd\\x19I\\x18\\xfa\\xe7:\\x92\\x03%!\\xdb\\xc1#\\xf0\\x92n.\\x02\\xdc\\xd9\\x9b\\x92K\\x1de\\xba\\xfb\\x102SO\\x14Q\\xd5D;\\x15u\\x04\\x13\\xe5\\xd4\\xe4\\x03\\xeb\\xcb\\xa7\\xba\\xcbt[\\x97l^\\xb6\\xa4S\\x0f\\x11#7\\x0b-N3\\xf2\\x9c\\xb2`\\x1e\\xfc\\xa4\\x95#\\xcc\\x16\\x07\\xcfQ\\xbf\\x03\\x12\\x0b\\xe42\\xd8+\\xe3\\xe6G\\xb3\\x08\\xa6F\\xfc\\xcaVP\\xa3\\x07\\xb8 \\x8c\\x83\\xed\\xad\\xea\\x0b\\xbd\\xc3m]\\xa9i%\\x93\\xfb\\xed\\x18\\xfcU$\\xa7\\xb5D\\x04\\xe0\\xb0\\xf5\\x04\\xf4a\\xe4\\xde\\xc4h\\x95\\x81\\xf2\\x10>\\xe1\\xec{\\xe0\\xbci\\xb3A*\\x1a\\xa3\\xbeIQ\\xb8\\xa9\\x05J\\xac3S\\xc0h\\xe5\\x8c\\x12pK19\\xcf\\x90%@=\\xf1\\xdfS\\x17\\x08x\\x80xo\\xbdi\\xebj\\x1c\\xa5\\xa2\\xac\\x8a{\\x80=\\x91I\\xc2\\xcaG\\xf8I\\xeb\\xfe\\x1c\\xfa\\rG\\x1cN\\xb4\\xd1\\xd0\\xefyn4\\xc9\\xc9n\\xba\\xc9\\xf8\\xa5\\xf5\\x8aB\\x02\\xc8\\xb9\\xf2 \\x10G\\xaf]o@\\x1eZD3\\xa0%\\xd4\\xab\\x8e\\xe0\\x90J\\xb0\\xfa\\x12?C\\xac\\xae=\\x0b](}\\xb2x\\xcdY\\xd2\\x014.\\x85\\xfe\\xee\\xaf5\\xefn\\x05\\xbe\\xc5t\\xa7?\\xebp\\xb2\\x81\\xea\\x06\\x03\\x02=G\\x7f\\xa6u\\xda\\xae\\xb5S^\\xac\\xb5\\x16\\xea\\xd8VzJ\\x98\\x8cRF\\xdd\\x88>\\x84u\\x04\\x10\\x08#\\xa8 \\x11\\xd4j6\\xf8p\\xde\\xad\\xba\\xf6\\x08\\xb6U\\xcb\\xe3\\\\lN\\xb4n\\xcer\\xcf\\x01\\\\\\xc0\\xe4\\xf9\\x9ePT\\x9fX\\xcf\\xae\\xa5YfH\\x14s\\x10=5\\xcc\\xe5\\x0f\\x8d\\xfb\\x07P\\xb3\\x13\\x19\\x01\\xe8\\x9f\\xabrP,\"\\xbbhn\\t-\\xd5\\x12x\\xf5T\\xa3\\xc4\\x86yT\\x11U\\x01%O8\\xc6\\t\\x00\\xf2\\xb8\\xc7\\\\\\x83\\x8e\\xb8\\x16\\x13\\x83\\xdb\\xad/v\\x9a\\xabv\\\\\\xfe\\xcfeX\\x0c\\xa7,i\\xd8|\\x80\\x92I%Hd\\xc9\\xeaB+\\x13\\x96:\\x8a8\\xbbML\\xf0\\xda\\xee\\xb1K\\x19\\x9e\\x96\\xad\"\\x93\\x0c9\\xbc9\\x7fvA\\x00\\xe7\\x01\\x99\\x0f\\xdbL\\xdf\\x0fV\\xeb\\x85E\\xce\\xe1uQ\\xe1\\xd9V6\\xa4Wa\\xff\\x00\\x89\\x9c:\\xf3\\x14?\\xcb\\x1f#)=\\x8b3\\x01\\xf9Nv\\xb8\\x04\\xb2:\\xa0\\x16\\x8c\\x88;]\\x9b\\xfb\\xfc\\xd2\\xf1a\\rM\\x07O&OnC\\x9f/5<h\\xd1\\xa3]\\x19s\\xd4h\\xd1\\xa3B\\x11\\xa3F\\x8d\\x08F\\x8d\\x1a4!\\x1aX\\xdf\\xfb\\x98\\xed}\\xb3QS\\x03\\'\\xe3\\xe5?\\x87\\xa3W\\xea\\x0c\\xcc\\x08RG\\x9a\\xa8\\x05\\xdb\\xd1Q\\x8f\\x96\\x99\\xf5Yx\\x97~\\xb9\\xf1\\x87~\\x9d\\xab\\xb5\\xff\\x00\\x7f\\x052\\xb4\\x0fU\\x93\\xe0\\xc0\\x84\\xe2i\\x9c\\x8f\"G\\x86\\xb8\\xeaB\\xb8\\x04\\x89\\t\\x1e\\x1b\\xdb%2\\x96\\x114\\x9f^M\\x19\\x93\\xc9G\\x9b\\x9a\\xf0\\x97\\xcd\\xa4\\xd4\\xd4\\xa5\\x9e\\xde.\\xf4\\x96\\xf8\\x1d\\x8eZTV^wc\\xdc\\x96$\\x92O~\\xfezi\\xae\\xba\\x01}\\xbdA\\xcd\\xd6\\x11H\\xc0{\\x17\\x00\\xff\\x00\\xcf\\\\./\\xed*.\\x15Y\\xa4\\xb5[\\x8b44WJ:\\xb7\\x95\\xc9-#\\x98\\xd0\\xc8\\xed\\xd4\\xe0\\x96Rp:\\x00@\\x00\\x005\\xcb\\xdcwY!\\xdfW\\x98\\xa9\\xfev\\xa9\\xa0\\x8eE9\\x18@\\xa1\\\\1\\x07\\xbe\\x02\\x9c\\x0f?\\xa6\\xab]\\x10\\xbd\\x86\\x99\\xf9\\xb5tH%\\x12F\\xd9\\x1b\\xa1L\\xdcB\\xbaZ\\x92\\x08\\xe3\\xbaHE\\x05\\x15Du\\x13\\xaaui\\xe4\\x00\\x98\\xe9\\xd0wfc\\xd4\\x81\\xd9FN\\x01\\xce\\xab\\xd6\\xff\\x00\\xb8Unz\\xdd\\xd1w\\xafA%\\xc6jA\\x14\\x11/T\\xa2\\xa6*H\\x8c\\x1f2X1$ub}\\x00\\xd4\\xa1\\xc4\\xfbJZ\\xb6y\\xb9M1\\xac\\xb8EW\\x0c\\x86v\\xea\\xb1#H\\x04\\x85\\x01\\xed\\x9el\\xb3\\x1e\\xad\\xd0tP\\x14G5p\\xe6\\xa6\\xe1\\x08\\x19I\\xa8\\t\\xeb\\xd4\\xb4\\x8aX\\x9c\\x9f2A\\xd3\\xd4mk\\x1b\\xb5\\xd9\\xe4\\x9cx.9\\xae\\x85\\xae\\xaa\\x9e\\x1a\\xda\\xfa\\xda\\x8a\\xa1$\\xd7\\nX\\xcaTL\\xbc\\xd8/\\x12\\x80\\x15@\\xf2+\\xd8\\x0c\\x9e\\xdez\\xedPTK}\\xbd\\x88\\\\2PZ\\x85<PE!\\xcb \\x98\\xca\\x8f#\\x9e\\xc5\\xd8\\x94,{\\x0e\\xc3\\xa0\\xeb\\xca\\xb2Y\\x0cV;e\\xc2E\\xe6j9\\r\\xbd\\xb9\\xb1\\xf2\\xab\\xc6\\x866\\x03\\x19\\xc9*\\x06}\\x1f]]\\xa9|\\xb1\\xda+wl\\x17\\xcd\\xc3c\\xdb\\xa2\\xae\\x92\\x14\\x86K\\xcd\\xc6:fi\\x141R\\xa1\\x88\\xce\\x18\\x02O\\x96\\xa3\\xc9\\'\\xd0\\\\5\\x1e\\xa3\\xf0\\x96\\xe761\\xb6\\xed\\x17\\x0e\\xe9ft\\x82\\x8a\\x7f\\t\\xd9\\x1e\\xaaHdT\\xc74\\x92F\\xcaR0\\x0fr\\xc5\\xc2\\x8d)\\xd2[\\xaa\\xd2\\xff\\x00d\\xbd\\xd4\\x03\\xe3\\xd4W\\xbc2\\x8f$\\x06&\\x00\\x0f@\\x19U\\x07\\xd3\\xdfR|V\\x9am\\xe9\\xb6\\xee\\x9b\\x8e\\x86\\xebM)\\xb7\\xcf\\r\\xc6\\x92\\x96)\\xd4\\x86RQ\\xdeN\\x84\\x86\\xe6\\xc9 \\xf9\\x05\\x07\\xb9\\xe9\\xd1\\xde;X\\xd3\\xdd\\x9a(\\xa3\\x02*\\x96\\x15\\xd4\\x84\\x0e\\x98l\\xb0\\x03\\xdc8\\xc1\\xfa\\x8f])\\x95{?I\\xdf\\x7f~+\\xcf\\xa5\\xc7#\\xa7\\xa2\\xd8\\x96\\xa4\\xc9EQRF|:a\\x1a\\x8fr2@\\xfa\\x92\\x06\\x97\\xf6\\xfd\\xa1\\xc5\\x9e\\xd93\\x0f\\x9a\\x9a\\nzRGni\\x16Vq\\xfa\\x04?}5\\xda(\\xc5e**\\x8c\\xc4\\xb0\\xcbY\\'\\xa7\")a\\x9f\\xabr\\r2Rm\\xb1n\\xe0\\xfd\\xae\\xaeT\\xc4\\xd5w8\\xa6\\x04\\x8e\\xbc\\xab\\x13*\\xff\\x00E\\xd4\\'\\xcb`@N=\\xe1\\x8e\\x00\\xef w\\xa4m\\xdb\\x13\\x1au\\x11De\\x94\\x84\\x8a(\\x80\\xeb#\\x96\\x01T\\x0fs\\x81\\xa6.$q\\x0f\\x87\\xfc,\\xe1\\xca\\xec\\x9b\\xf6\\xf2\\xb2Z\\xee\\x0bA\\xc8\\xf0M/\\x8dP\\xd3\\xfer\\xc2\\x18\\xf2\\xc0\\x99:\\xe5\\x80\\x03\\xdf\\\\\\xfb\\xb5\\xb6\\xfb=4\\xb5\\xb6\\x0bC^n\\xb4\\xd1\\xbbPS\\xb7HD\\xc1O4\\xf2\\x92@\\xe4\\x8c\\x1c\\x00O\\xcc\\xec\\x00\\xce\\x0e\\xa9G\\x1ax\\x1d\\x1e\\xc1\\xaf1\\xdf\\xa6\\xfe\\xd1oz\\xf8\\x05\\xefqWI(\\x11P\\xc7#2\\xc1M\\x1a\\x82\\x03\\x13\\xca\\xec\\xed\\x8e\\xc1UB\\xaeI\\x93GI. \\xe1\\x1c{\\xb3\\xee\\xcf\\xc0\\x0b\\xaa\\xbcJ\\xa0\\xc4\\xe0#\\x1bDga\\x99\\xcb=9+\\x1b\\x17\\x1b\\xf8zv}\\xe7jUnjzm\\xc5\\x15\\xc3\\xf10QOK*sHY\\x8f*I\\xcaP\\x92\\xae|\\xfd\\xb5\\xb3;QWZ+\\x1e\\xd9WM]BK\\xa4\\x154s\\x89\\xa2en\\xa8\\x03\\xa9 \\xe00\\x18=F:\\xea\\xa0T\\n;\\xb5\\xcaJ\\xf3M\\x01\\x95\\xa4\\x12\\xab*\\x80\\xc0\\x80\\x00 \\x8c\\x1c\\x8c\\x0f=uv\\x16\\xf5\\xa8\\xe0\\xa6\\xd5\\xdc\\xb5\\xed,\\xf2\\xdb)+\\xa9j\\x94\\xc6\\x81\\x99\\x92Y\\x15Y]\\x0e\\x15\\x8a\\xb2\\xe4\\x13\\x8c\\x82\\x01 \\x9c\\x8bip\\xe9i\\x19\\xd2\\xb5\\xdb@\\xeb\\xc8\\x95YM\\x8c\\xc74\\xaed\\x8d\\xd9\\xdf\\xdc?_\\xb5n\\xf6U\\xa9v\\xef\\x1cw\\\\Q\\xe0@)<T\\x03\\xb6$!\\xc0\\x1fB\\x0f\\xe9\\xae/\\x18\\xeaI\\xe1\\xbe\\xce\\xb8\\xc0\\xc6*\\xfa[\\x85JA:\\xfee\\xf9\\x1c\\x91\\x9f0J\\xaeA\\xe8|\\xf4\\xdfQY\\x15N\\xe8\\x9e\\xfb\\x08\\xa6u\\xb8\\xd9\\xa9e\\x8a\\xa2\\x89\\xcbAS\\x1b@\\xcc\\x92\\xc6H\\x04\\x06\\x12)*\\xddT\\xf4$\\xe3&:\\xdd\\xeew\\x16\\xd6\\xdb6\\xaaf,R\\xaa\\xedV\\xc4\\xf5\\x00G \\x8c\\x01\\xf5f`5\\x1a\\x9a\\xee,s\\xb5\\xca\\xfd\\x80\\xab\\xf2\\xf6\\xbd\\x9bL\\xd0\\xe6;R\\xc5\\xb3uPq\\'mAG^\\xf1\\xdb.\\xb3\\xa8\\x92\\x06c\\x88\\x8c\\xc0\\x10\\n\\x13\\xdb$\\x90T\\x9c\\xe0\\x9cg[P=E*D*\\xe2jw|GQ\\x13\\xf7\\x86`\\x02\\x82}\\x9b\\x00\\x13\\xfeS\\xeb\\xa8\\x8bi\\xb8\\x9a\\xd15;\\x80\\xc2\\x19\\x99yH\\xc8\\xc3v\\x04\\x1fq\\xa9kf\\xdb\\xe4\\xbem\\xea\\xe9\\xd6YjZ\\x84\\x05\\x9a\\x9aF.\\r;\\x8c+\\x0c\\xe4\\xe1He#=\\x01\\x1eZk\\x1e\\xa6h\\x83\\xa4\\xff\\x00\\x13\\xe0}\\x84\\xe6\\x1b1.\\x00\\xef\\x1eJ[\\xf8u\\xdd\\x1f\\xd9\\x9e\\'\\x08d8\\xa6\\xbaP\\xcdN\\xeb\\xd8x\\x91\\x91,d\\xfb\\x80$\\x1f}M\\xfb\\x9fwKQ#\\xa4/\\xcb\\xea\\xc0\\xe0(\\xf5\\xd5Y\\xdb\\xb5\\tEu\\xb3V\\x89\\xb9k(\\xabaf,p&\\x84\\x9f\\r\\xdb=\\xb9\\x95]\\x89\\xcfu\\x1c\\xdd\\xc1\\xd4\\xb7b\\xb8\\xd1q\\x1ak\\xcd=5K\\xc9AnX\\xdeX\\xd0\\x15z\\xf4$\\x93\\xc8\\xdd\\x08\\x88\\x84u\\xc8\\xc1c\\xd8\\x85\\xef\\xcd\\xcd\\x19\\xa8\\x98\\x16\\xf7\\xab)a\\x89\\xb2\\x99\\xdc3\\xc9`k\\xc2\\xee\\x93]IA\\x13V!B\\xadP\\x14\\xb2#dbGa\\x80\\xa8\\xa7\\xe6,NH\\x1d\\x01\\xd5\\xe4\\xa1\\xa2\\xa7\\xb5\\xd1\\xc3IK\\x04t\\xd4\\xd0 \\x8e8aP\\xa8\\x8a\\x06\\x00\\x00t\\x00\\x0e\\x98\\x1a\\xae\\xd6\\xfa\\x1a\\nK|t\\xd4t\\xd0\\xc5od\\xc0\\x86\\x15\\n\\x85\\x08\\xeb\\xd0c9\\x07\\xbf}M\\x1c5\\xbc\\xb5\\xdfi\\xd3,\\xcf\\xe2U\\xd1\\x93G;1\\xcb3&\\x00c\\xee\\xc8Q\\xff\\x00\\xdf\\xd6\\xe3\\t\\x85\\x94\\xeds\\x06\\xba\\xac_\\xc4{r\\xf4r\\x7fQp\\x9bth\\xd1\\xab\\xf5\\x8bF\\x8d\\x1a4!\\x1a4h\\xd0\\x84h\\xd1\\xa3B\\x12\\xae\\xfb\\xa5\\xbd\\xddl\\xcfk\\xb0\\xcc\\x94U\\x95\\x87\\xc3\\x92\\xe1($R\\xc4\\x7f3\\xa8\\x04\\x16r2\\x14\\x02:\\x9c\\x921\\x9dz\\xd8\\xbb\\x06\\xd1\\xc3\\xcb\\x1a[-0\\xe1:4\\xd3\\xcb\\x83,\\xef\\x80\\x0b9\\x00\\x02p\\x00\\x00\\x00\\x00\\xc0\\x00\\x00\\x06\\x9a4k\\xdb\\xa5\\xed\\xbbgcr\\xab\\xdf\\x16\\x96y&\\x8e\\xe8\\xe8\\xbd*-\\xf0K\\x18\\xf5x\\xe4\\x95\\x1c\\xfd\\x84\\xb0\\xfe\\xba\\x80\\xac{\\xa1/\"\\xc5u$rKK\\x1a;\\xf9\\xb2\\x15+\\x93\\xee\\x15\\xb0\\x7f\\xcb\\xab\\x8f\\xf1\\t\\xb7M\\xd7j\\xc5\\\\\\x8b\\xcci\\x99\\xa0\\x94\\xfaE6\\x17?iV\\x16\\'\\xc8):\\xaa\\x95\\xbb:\\x9e\\x92\\xcfd\\xab\\xa3O\\n\\x8a\\xe7\\x0b\\xc4\\x00\\xed\\x05dLVX\\xc8\\x1d\\x83ad\\x19\\xef\\xe2\\xb6:.\\x90\\xd0>\\xab\\xfb\\xca\\xcbi\\x86\\xd4\\x07S\\xc6\\xc3\\xaec\\xb7Q\\xe0\\xbb{\\xae\\x95\\xf7\\x17\\x0f.\\x16\\xf6?\\xde$\\xa4h\\x89\\xf4\\x91\\x06\\x01\\xff\\x00\\xd4\\xb9\\xd4a\\xb7e\\xfd\\xab\\xb6\\xcd\\xd5\\xd4\\x86\\x8a\\xaa\\x18\\xdcy\\xf2\\xbce\\\\}\\x038\\'\\xfc\\xa7O\\xf6+\\xc1q\\xf8i\\xb2\\xb2\\x91\\xca\\xca\\xdd\\xfcE\\x000>\\xe4\\x00~\\xb9\\xd2\\xfd\\x8e\\xc8)\\xa0\\xbfm\\xfey\"\\xa6\\x9e\\xaeJ\\x99\\xe4\\x84\\xe1\\xd2\\x8c\\xc6\\x19\\xc2\\x12\\x0e\\x19\\x99Y\\x01\\xf2\\xc9n\\xe0j\\xbaBa\\x8c\\x8e`\\xad\\x10?\\xdb\\x91P\\x07\\x1c>&n\\x16\\xc4{\\x07\\x0f^:\\xa6-IE|\\xb9xC1TF\\xaa\\x1e\\x9e2A\\n\\xa4\\xa0\\r(\\x1c\\xc4\\xa3\\x05\\xecN\\xa3\\xfe5m\\x8bF\\xf1\\xad\\xb1]\\x98K4u\\x94%\\x96H\\xe5*\\x7f6H$u$\\x12A\\xc9:\\xe6nx\\xa9\\xe9\\xb8\\x17f\\xe2%\\x05\\xbe:\\x85\\xdc\\x9b\\xda\\xab\\xc5\\xa7\\xc1\\x05DT\\xa8\\x12\\x02@\\xc8\\xc35I\\x00w\\xe7\\xcf\\x9e\\x93\\xef\\xf5\\x1b\\xaav\\xb4@j\\xa9\\xac\\xd4\\xb5\\x95\\xae\\xb4\\x94M\\xcb\\xe1\\xd1\\x99\\n\\xe44\\x87\\xa0R@\\'=\\x07\\xcczj\\xc2\\'RQ\\xb5\\xae\\x94\\xdd\\xc4\\xfd\\xbc\\xad\\xaf\\x0c\\x96`\\xc5U\\x88\\xc5#\\xe3?H o\\xef\\xbe\\x96:Z\\xf7\\xf1*\\xca|%\\xdb)\\x93x\\xd8\\xe8(/\\xd5\\xb4\\xb7\\xe8h\\xa4\\xa4\\x16\\xf9\\xa7)Mv\\xa2\\x8c\\x92\\xd09\\x03\\xe5\\x99c\\x91\\x8a\\x96\\x0c\\xac\\x10\\x82\\x01\\x1do\\xdc\\xbc8\\x9e\\xf5\\xb3\\x05\\xb9S\\x96\\xf7b\\x98\\x9a)\\x1f\\x03\\xc6@APH\\xe9\\x87P\\xbdG@\\xde\\xda\\xf9s\\xc0{v\\xf1\\xbbn\\x1a\\x0b\\xbe\\xda\\xb5\\\\w\\x1e\\xe1\\xdbW\\x04\\xac\\x9e\\x8e\\xd9L&lC \\x0f\\xd5;\\xab\\xa9d\\xef\\xd7\\x9b\\x03:\\xfb\\\\\\x94\\x90\\xf3$\\xd0\\xc6cC\\x18\\xe5VR\\xa5T\\x80@ \\xf5\\x18\\xf4=\\xb5WT\\xeay\\xdd\\xd2S\\x82\\x05\\xf3L=\\xd5Xxls\\x11r.\\x08 \\xe9\\xc7\\xf7\\xc5@{C\\x87\\xf53\\xd8\\xf7\\x84PS\\xba\\xcf$\\x06\\x82\\x90H\\n\\x95Y:\\x82s\\xdb\\x95_\\x07\\xddN\\x9fw\\xde\\xca5\\xbbr\\xcdh\\xa2\\x1e\\x1d-$\\xc9\\xcd \\xc6U\\x162\\xa3\\x03\\xcd\\x898\\x03\\xd7\\xafa\\xa9\\x0e*d\\x89\\x9c\\xaa\\x81\\xcey\\x89\\xf7\\xf3:\\xf6\\xd0+\\x95$\\x02A\\xc8\\'\\xd7\\x18\\xce\\xa0l\\xe5d\\xcb\\xf1\\t\\x1f(\\x97\\x86~\\x16K\\x16\\x8d\\xa4\\x96\\xdb\\x0b[\\xe0D\\x8aIc\\xf0\\xc0=\\x97\\xa6\\x00$u8$\\x92}I:\\xf9G\\xf1\\xaf\\xc3\\x9f\\xc7|Zn\\xaf\\xc7\\xdc*\\x02E\\x05\\x14q\\xc7\\x12\\x85\\x05\\x05<dg9\\x04d\\x92\\x065\\xf6\\x17\\xc3\\xd53\\xf8\\xc3\\xf8h\\x9b\\x7fq\\x86\\x83w\\xc7x\\xb7X\\xad\\xb56\\xd8i\\x19\\xabe\\x01\\xebn\\x02FHi\\xd1A\\x04s+\\xa8/\\xd4(Rp{iR>H\\xa9^!6#>\\xcd\\xeav\\x0f4O\\xc4\\x1aj\\xb3\\x04\\x1e:\\xee\\xd1|\\xa9\\xb6\\xdb\\x92\\xd7u\\x8f\\xc1\\xba\\xd4\\xc37\\xed#H\\xd6\\xf5\\x91\\x83,@\\x80$\\xc9\\x05q\\x93\\x8cc9\\x19\\xed\\xab3\\xb18M\\x7f\\xbb\\xdc\\x7f\\xb3\\x97{E\\xcdl\\x1b\\xa6\\xd5]\\x0cU\\x95\\xb4M\\x1aLV\\x92Ycdr\\x02\\xb1\\x0e\\x91\\xb8#\\xf9r:i\\xee\\xdf\\xc2[\\xed\\x8fu\\x19 \\xe1\\xb5t\\x1b\\xa2\\x9c\\x98\\x04R[\\x15\\xfeb\\n\\x92$`be \\x90\\x1c\\x93\\xd3\\xaf~\\x9a\\xb6\\xbb/\\xe2\\'r\\xded\\xbe\\xec\\xdb\\xfe\\xde\\xb4\\xc7W\\xb6l\\xb2=\\xd2\\xe3CP\\xcd\\x1aT\\x90!\\x8a\\x08\\xe3(0\\xc5\\xd9\\x94\\xb0$|\\x8d\\x81\\x8dE\\xa1\\xc5\\x1f4\\xa22\\xe77\\x91\\xcc\\x1bf|\\xb5Z\\\\S\\r\\x8a\\nr\\xe8\\x1a\\xc9o\\x9d\\xc3\\xacZ\\r\\x80<\\xeeH\\x16\\xdf\\xc1U\\x8e\\x1cIY\\xb4\\xb8\\x17\\xb7#\\x9ef\\x9e\\xacQ,\\x14\\xab\\'R\\x84\\xe4F\\x83\\xd5UpG\\xa0\\x18\\xd3\\x0e\\xd3\\xa3\\xfc>\\xcc\\xb1K*b_\\xc7V\\xd1\\x87n\\xe5Q\\x8b\\x11\\x9fvf\\'\\xdf]\\x0b^\\xd9{\\x9e\\xed\\x82\\xd5*2\\xd1Y\\xa9X\\x08\\x8fBJ)\\xc1 y\\x92\\xaa1\\xe4\\x07\\xbe\\xba\\x9b\\x9a\\x08\\xadv]\\x91I\\x19\\x1f4\\xd55/\\x8e\\x992\\xab9\\xcf\\xdc\\x9dh\\xe1vMn\\xf3\\x9f\\x81H,\\r\\x16n\\x81U+\\x12x\\x1b\\x86\\xff\\x00F\\x07*\\xadT\\xf1\\x81\\xee\\xb2\\x12\\xbf\\xd1\\xb5+\\xf0Sp\\x8b.\\xf8\\xa4I\\x18-5x4\\x92\\x03\\xdb\\xe7\\xc1L\\x83\\xe8\\xc0\\x0f\\xbe\\xa3\\xcb\\x85\\x0f\\xec\\xee \\\\\\xf29|y&b?\\xc4\\xae\\xc0\\x8f\\xb8*u\\xbfH\\x1d*\\xc0\\x89\\x8aJ\\x18xl:\\x10\\xc0\\x86B\\x0f\\xd4\\xf4\\xfaj\\xee\\xaa\\x16\\xd5@\\xe8\\x9d\\xa3\\x85\\xbc2=\\x9a\\xaa\\xdaw\\x18\\x9d~\\x05Y+\\xc7\\r!\\xfd\\xa0\\xf2\\xd3\"~\\x0eS\\x96\\x81\\xc6B\\x9c\\xe4\\x80\\x0er3\\xd8\\x1e\\xdaf\\xdaV\\xd5\\xda\\x97j[\\x9a\\xe1QA\\xa7\\xa9?\\xfd\\x97#$\\xff\\x00\\x95\\x82\\xb7\\xb0\\xe6\\xf5\\xd7Kh\\xde\\xa2\\xdd\\xdbR\\xd9u@3S\\x08i\\x14\\x7f\\x0c\\x83!\\xc7\\xd9\\x83k\\xa8)P\\xabF\\xe9\\xcc\\x8c\\n\\xb0=\\x88#\\x04\\x1fb:k\\x89\\x89\\xa4\\xa7\\x96\\xce\\xd5\\xa71\\xe6\\xb5o\\x7fH\\xdeI\\x86\\xc7!\\x81\\xebm\\xad\\xf9\\xa8\\xa5\\xc4`\\xf9\\xc2\\xe0\\xb4d{\\x0f\\x99~\\xa8u#p\\xca\\xe8\\xb47\\x88\\xe0r\\x16;\\x8cf\\x03\\x9e\\xc6\\xa6\\x11\\xcc\\xbfVx[?Js\\xa8R\\x8e\\xe4mW;d\\xf5.\\xc4S\\xba\\xda\\xaa\\xdc\\x9e\\xad\\x0c\\x874\\xd2\\x92}\\x18r\\x13\\xea\\xcd\\xa9#yl\\xeb\\xc5.\\xd1\\xb8Mj\\x9c\\xc3uP\\xb5\\xf6\\xb9\\x90d\\xad]>e\\x88`\\xf4\"D\\xf1\\x10\\x83\\xdc6\\x0fC\\xad\\xdd4\\x83i\\xb2\\xb70\\xe0\\xb2\\xb8\\x9bY$=\\x0b\\xcd\\x8d\\xf2S\\xe6\\x8d!p\\x8f\\x8a\\x16\\xbe-m\\n[\\xc5\\x0b\\xaaT\\xf2(\\xab\\xa4\\xe6\\xcbA!\\x19#\\x07\\xa9S\\xdc\\x1f1\\xee\\x08\\x0f\\xba\\xbek\\xc3\\xc0st+\\x9f\\xc9\\x1b\\xe2y\\x8d\\xe2\\xc4#F\\x8d\\x1aZm\\x1a4h\\xd0\\x84h\\xd1\\xa3B\\x11\\xa3F\\x8d\\x08ZW+u=\\xde\\xddSCU\\x18\\x9a\\x96\\xaa&\\x86X\\xcffF\\x18 \\xfdA:\\xa8\\x1b\\xc6\\x82\\xafe\\xed~\"l\\xea\\xe5\\xf1kc\\x8e;\\xcd\\x9e\\xa1\\xd7\\xf3T#\\xaax\\xaa\\x062]\\x192\\x01\\xc1\\xe5\\x95{\\x03\\xab\\x99\\xa8/\\xe2\\xc3d&\\xe1\\xe1\\xd3^iP\\xfe\\xdc\\xb5M\\x0b\\xd2\\x18\\xce\\x1aR\\xf2\\xaa\\xf8D\\xe4d\\x12\\xc3\\x19\\xf7\\x1d\\x98\\xeb\\xd1`sV\\x14Rl\\xc8\":8\\x8e\\xc2\\x0eG\\xf1\\xda\\xaa\\x9d\\x1d\\xddw\\x96\\xda\\xa5\\xdc4K\\xe0T\\x9f\\xddU\\xc0\\x1b\\xac3\\xafC\\x9f<g\\x18>`\\xa9\\xd6j}\\xc9-E4wjEQX\"x%V\\x04\\xab)\\xc8`\\xc0u\\xccm\\xf3\\xe3\\xcf\\x94\\x8f=p\\xb6\\xed}=\\x9a\\xeb\\x1d\\xca\\x00R\\xd5vP\\xb5\\xf4\\xec0\\x17\\x00\\xe2P<\\x99NU\\x87\\x98\\xc9\\xee\\xa3\\\\\\x99o\\x87fq\\x12\\xebh\\xaa\\x0c\\x94\\x92J\\x92\\xc6\\xe7\\xaa\\xb7:\\x83\\x90{\\x06\\x079\\x1ec\\xa8\\xce\\x0e\\x9a\\x92 \\xf0Yn\\xae\\xa5\\xd0\\xda\\xed\\x9b\\x15\\xe2\\x93\\xe1\\xfaz\\x0e\\x12\\xee\\xfe\\x1e[c\\x92\\xe4\\x12\\xbc\\xee\\xdd\\xa93(\\xcda\\x8dLuq&29\\xc0\\xe6\\xc0\\x1dH \\x8e\\x9a\\x84m\\xbc?M\\xc3\\xb4\\xa9\\xee{\\x9a\\xd9Y\\x0e\\xdc\\xaa\\x90\\xc5Ep\\xe4e\\x86i\\x14\\xe0\\x91 \\x07\\x94\\x83\\x95\\x19\\xc0c\\xcc\\x01$\\x11\\xaf\\xa2\\x1c\\x00\\xde\\x16\\xa8\\xa5\\xa6\\xb0\\xdd\\x0cj\\xbe(\\x9a\\xd3Vq\\x88\\xa4$\\x93\\x18c\\xd8\\x92I\\x07\\xcf,\\xa7\\xb8\\x1a\\xeb\\xf1\\x8fi\\xee\\xdd\\xa7\\xbb\\xac[\\x83c\\xd3S\\\\l\\xbf\\x876\\x9a\\x9d\\x9d\\x0ci\\x08p\\xf24\\xad2d\\x04 \\x12X\\x96\\xc1R2\\t\\xc9S\\x97\\xaf\\x82I\\x98\\x1e\\xd2v\\xdb\\x97X\\xbf\\x1e#4\\xdd\\x16&\\xdc6w\\xd2\\xc8\\xc1\\xb0\\xe2H\\xda\\xd3M2\\xe3a\\xc8\\x1b\\xdf#\\x95f\\xf8v\\x97t\\xf0sn\\xde\\xaa8yh\\xb6\\xd2\\xda\\xa8\\xad\\xd3TW\\xdcj\\xe9<V\\x9c\\x83\\x98\\xd0\\xb8e2?1\\xe8\\x01\\xc2\\xaf6A\\xe85}8e\\xb9\\xa5\\xde\\xdc7\\xda\\xb7\\xfa\\x97\\x12U\\\\mt\\xd53\\xb2\\xa8Pdd\\x05\\xc8\\x03\\xa0\\x1c\\xdc\\xdd\\x07m#&\\xc9\\xb9nKY\\xa1\\xdc\\xb5\\xf4\\xf6\\xcbL\\x8b\\x86\\xb3X\\x90\\'8#\\x04I9\\x00\\x93\\x83\\x83\\xc8\\xa3\\x1eM\\xe7\\xa7M\\x8b\\xb7l\\x1b\\x06\\xc7\\x05\\x93oR-\\xbe\\xd9\\t>\\x158\\x95\\x9c\\x02NI\\x05\\x899\\'\\xa9\\xeb\\xd4\\xf5=t\\xcd\\x10\\x9a6\\x16\\xcc\\xe2A\\xb5\\x817\\xb7\\x15K\\x8c\\xd5G^\\xe1$q\\x06\\xb8\\x13\\x98\\x1b\\xac\\x00\\x1c\\xf3\\x17\\xedMd\\xe0\\x1d`\\xa6\\xabJ\\x97uB\\x0f!\\xc1\\xd6t`\\xc3\\xa0\\xce\\xb8;b\\xd5p\\xb55\\xe3\\xf6\\x8c\\xb1Nf\\xb8K54\\x91\\x02?\\xbb6\\x0ch\\xc0\\xf6+\\x92\\xa7\\xd7\\x19\\xf3\\xd5\\x85\\x8e\\xa1f\\xc6\\xcd\\x8d\\xf5]\\xa9&X\\x87^\\x9a\\x86\\xfe\"\\xf8m\\'\\x19\\xf6\\xe5\\x96\\xd5Gp\\xa7\\xb3V\\xdbnq\\xdcb\\xba\\xcb\\x19\\x95\\xa0\\n\\x18:\\xa2\\x029\\x8b\\xab\\x10r\\xc0\\x0e\\xfdH\\x03Rm\\xe2gH\\xc9\\x1d1\\xa4\\x8a\\xfa\\xa9\\xb9\\xceO\\xd7Q\\xa4\\x97d\\x16\\xda\\xe0\\xab\\x8a\\x1ag\\x17\\xb6V;e\\xcd7\\x04j\\x08\\\\\\xebv\\xde\\xdd\\xb0P\\xc7M>\\xf7\\xa6B\\x14\\x064\\xf6\\xbebN0H-)#\\'\\xa9\\xc7M-mn\\t\\xd0p\\xa6\\x8bu\\xdd\\xe7\\xbb\\xcdy\\x17\\t\\xbfl\\xd4OU\\x02\\xc5+<h\\xc28\\xf0\\xbf)\\x8dIw\\x1e|\\xce\\xc4\\xe7\\xa1\\rqUL\\xcf\\xed\\xa5\\xce3_\\xe5\\xb3p\\xb6\\xed,\\x8cs1\\x8e\\x9dA$\\x92\\x0bs\\x10>\\xaa\\xac1\\xa8\\xb4\\xedf\\xd0k\\x1bbrW\\x0e\\x86F8\\r\\xbc\\x89\\x17\\xd0_\\xbb\\x86\\xe5\\x12p\\xce\\x86J\\xb9\\xefu\\xb2\\x0ey\\x9e)d\\x95\\xbb\\xfc\\xceNr}\\x06\\x08\\xd2g\\x10&d\\xba\\xedxCdF\\xb0)\\x1e\\x85\\xa9\\xd8\\xff\\x00^\\x9a\\x9ax\\'5\\x05\\x9b\\x85\\xfb\\x86\\xa6\\xbdy\\xeak\\xc1\\xa7\\x88\\x0cs)HK\\x12|\\xf1\\xcc\\xc0\\x1cj\\x1a\\xdeR@x\\x9d\\xb3\\xa9\\xc1\\xe6\\x8eZ\\xaa\\x15q\\x9c\\xf5\\x14LH\\xfb\\x9dj \\x16\\x95\\xc7\\x97\\x92\\xb02m\\x12\\xdbX\\r\\xfcT\\'\\xc4:e\\x83}\\xde\\xca\\x8e\\xb4wi\\x97\\xa7\\xa1%X}\\xb2\\x0f\\xdbZ1\\xa13K\\x8f\\xce#\\xf1\\x14\\x8fT#?\\xf0\\x93\\xfak\\xb9\\xc4E\\x8d\\xf8\\x91\\xbc\\x8a`\\xc7%\\xe2\\xac\\x8cv\\xc8\\x90\\xa9\\xfe\\xa3:\\xe5\\xd9H{\\x8d\\x17?fc\\x13\\x0ffR\\xa7\\xfa\\x9dhZ~\\x81\\xd4\\xa03<\\xf8\\xa9\\xd3\\x80;\\x8cGSp\\xb0\\xc8\\xd8\\x8a\\xa5E\\xca\\x88\\x13\\xd3$\\x012\\x0f\\xa1\\xc1\\xc7\\xf9\\xb53\\x0e\\xfa\\xaa;b\\xba\\xaa\\xc5$\\x15\\xd4\\xab\\xcf[g\\xa8\\x13,~rFA%~\\x85K\\xaf\\xdfV\\xa2\\xdbp\\xa7\\xbbP\\xd3V\\xd28\\x96\\x96\\xa65\\x9a\\'\\x1f\\xc4\\x8c\\x01\\x1f|\\x1c\\x1f}r\\xcf\\x88\\xe8\\xfa\\n\\x9e\\x9d\\xbfk\\xfc\\xf7\\xf7\\xeb\\xde\\xafid\\xbb6N\\xe5\\xe2\\xf5c\\xfd\\xadC8\\x1c\\xc5L\\x0f\\x15@A\\x96\\xf0H\\xc9`<\\xd9\\x18,\\x83\\xfc\\xa4\\x0e\\xfa|\\xda\\xbcE\\xb8\\xdd\\xf6%\\xa4\\xbf$\\x95\\xd4\\x84AP\\xb9\\xcf-L\\x0e:\\x82<\\x98\\x0e\\x9e\\xaa\\xc0\\xeb\\x16\\xcc\\x87\\x17H\\xdc\\x8e\\xcaz\\x1e\\xa3\\xa8\\xc7Q\\xf7\\xd2\\xdf\\xec\\xa1\\xb18\\x89WjQ\\xcbk\\xbeDk(O\\\\\\tc\\x00I\\x1f\\xd4)R=UG\\xa1\\xd4l&\\xb7\\xee\\xa5\\'=[\\xf9\\x1f\\x95_8\\x8eY\\xc3$\\x17\\xde\\xa3kM\\xf2\\xb3\\x83<c\\xbc\\xc5f\\x97\\xc1\\xa2i\\xc5U,l\\t\\x8eJI\\xc7\\x8a\\x88\\xc0wPK)\\xc7PS#\\xa8\\xebs6&\\xff\\x00\\xb6\\xef\\xfbR\\xd5Q?\\x85P\\x98\\x15\\x14nA\\x92\\x12s\\x8c\\xfa\\xa9\\xc1\\xc3\\x0e\\x87\\xd8\\x82\\x05;\\xe3\\xb5\\xb4\\xd2\\xd7\\xd8\\xaf\\x08\\xb8\\x11sPJ\\xc3\\xff\\x00-\\xd8\\xb4d\\xff\\x00\\x95\\xcb\\x8f\\xa3\\x8d{\\xd8\\x9b\\xb2\\xb6\\xc9WOWET\\xf4\\xb5QtY\\x13\\xafC\\x82A\\x07\\xa3)\\xc0\\xca\\x9e\\x87\\xa1\\xe8@\"\\xdcV\\xba\\x82k;8\\xdd\\x9fU\\xf5\\xb7n\\xe4\\x9a\\xdc)\\xb8\\x8c\\x01\\xed6\\x95\\xb9_\\x8d\\xb8\\xfa\\xab\\xd9\\xa3H\\x1c9\\xe2\\x8d\\x16\\xf7\\x85ig\\xe4\\xa3\\xbdF\\x9c\\xcfM\\x92\\x12P1\\x99\"\\'\\xa9\\x00\\x91\\x90~e$\\x03\\xd0\\x86g\\xfdk#\\x91\\x934=\\x86\\xe0\\xaeq,2@\\xf3\\x1c\\xa2\\xc4#F\\x8d\\x1au2\\x8d\\x1a4hB4h\\xd1\\xa1\\x08\\xd4\\'\\xc7\\xfd\\xff\\x00Mn\\x92\\xc3\\xb4\\xa3\\xe5\\x9a\\xe1x\\xaf\\x88\\x14\\xc8%\\x11\\t\\x94\\x1cz\\xfe\\xeb\\'\\xd0\\x0fpu\\'\\xee\\xcd\\xcbM\\xb4\\xacUW*\\x92\\x08\\x89~H\\xc9\\x00\\xc8\\xe4\\x1c(?l\\x93\\xe4\\x01\\'\\xa0:\\xa6u\\xf2Un\\x0f\\x88]\\x93_s\\x91\\xa5\\xaf\\x90\\xbdt\\xa1\\xb2\\x04I4n\\x90\\xa9\\x19<\\xac\\xca\\xa1\\x80=B\\x18\\xc7\\x91\\xd7\\x84m\\x029\\x15m\\x87D\\x0c\\x82g\\x8c\\x9b\\xe2F~\\x1e\\x8a>z$\\xfd\\xaeb\\xe4\\x05\\x04\\x13\\xd4:\\x9e\\xc7$)${\\x93\\xd7J\\x1b\\xb2\\x99jnq\\xb4\\xbf\\xbd\\x92+g\\x87\\'8\\xcf8\\x8aP#c\\x9e\\xe4\\xac\\x9c\\xa4\\xfa\\xa6\\xa4j\\xda7\\xa6\\xde\\x9b\\x9a\\x99\\xc6\\x1e\\x86\\xca\\x81\\x97\\xcdZJ\\xa7\\'\\'\\xe8\\x83I\\x9b\\xf4\\xc1i\\xb2\\\\k\\xa6\\x18\\x92\\ns\\x10>\\xcc\\xcaq\\xf7 cK\\x8d\\xdbdYn\\x9d\\xa2_\\xb6\\xef\\xba\\x8d\\xa7M3\\x9cVZ\\xa1x\\xcc\\xb0I\\x96h\\xe3c\\x87t#$\\xf2\\xfenS\\x9c\\x80q\\x83\\xab\\xc7\\xc3\\x9d\\xd3\\xb9b\\xb7QR\\xdf)\\xd6\\xefo\\x925j;\\xc5$\\xfc\\xec\\xf1\\x90\\n\\x86$\\x02\\xcaF0\\xe3\\'\\xd4\\x1e\\xfa\\xf9\\xe9z\\x06\\xd5c\\xab\\x03\\xe6x\\xda\\x96\\x91\\xc8\\xeb\\x99Lj\\\\\\x0f\\\\1q\\xf6\\xd5\\xa7\\xf8!\\xe35=\\xe2\\xcd\\xff\\x00\\xc3+\\xbc\\xde\\x15\\xca\\x81d\\x9a\\xce\\xd2\\x1f\\xfcE8$\\xc9\\x00\\'\\xbbDr@\\xf3C\\xd3\\xf2\\x1d@\\xae\\xa7~\\xcfH\\xcd7\\xaa\\xfa\\xb7\\xb0\\xb3e\\xed\\xbd\\xbc=\\xfb\\xd1X*\\x9a\\xe9\\x9eb\\x07n\\xba\\xe9\\xd9Vw\\x91\\x19\\x89\\xc7\\xa6\\xba_\\xb0\\xd3\\x9b \\rt\\xe9m\\xe9\\x07\\x96\\xb3\\x8d\\x8d\\xd7\\xb9P\\xa5\\xaa\\x8fce\\xa1t)Kx`\\x1c\\x93\\xe9\\xac\\x93:\\xc3\\x1b<\\xcc\"E\\x04\\xb39\\n\\x00\\x1d\\xc9\\'\\xa0\\x1f]kO\\x0c5T\\xb2\\xd3\\xca\\x8b$2\\xa1\\x8d\\xd0\\xf6e \\x82\\x0f\\xb1\\x04\\x8dq)ve\\xa2\\xddoJ\\nJD\\xa7\\xa0\\x00\\x03Ls\"0\\x03\\x00\\x10\\xe4\\xf6\\xf2\\xd4\\xc0l\\x15\\x05\\x83\\x8ef\\xcbv\\x92\\xba\\x83qQ\\n\\xaa\\n\\xb8k\\xa9\\x19\\x99Vx\\x18:1RA\\x00\\x8e\\x87\\x04\\x11\\x90q\\xae}^\\xdfI\\x89$y\\xeb\\xb6\\xa1 \\x89#\\x8dBF\\x80*\\xaa\\x80\\x02\\x800\\x00\\x03\\x00\\x01\\xed\\xaf\\x12L\\x06t\\xdb\\x80v\\xaaTR>?\\xb4\\xae\\x04v\\x18\\xe3#\\xe5\\x03\\x1a\\x81~47\\x1c[7\\x86\\xd6\\xc9\\xccM?-p\\x94\\xc2\\xa7\\x1c\\xf8R\\x02\\x92{\\x02[\\x1fL\\xear\\xde\\xdb\\xea\\xcd\\xb06\\xf5e\\xf6\\xfd_\\x15\\xba\\xd7J\\x85\\xa4\\x9eC\\xdc\\x9e\\xca\\xa0uf\\'\\xa0\\x00\\x12N\\xbef|@\\xf1\\xe6\\xed\\xc7\\r\\xc9<\\xef\\x1c\\xb4V\\x18\\xd8R\\xdb\\xed\\xc5\\x81\\xe4Ve>,\\x98\\xe8]\\xb0\\x01\\xc6B\\x8e\\x83\\xcc\\x99\\xd4\\x14\\x8e\\x9ePZ>\\x91\\xa9\\xf7\\xbdX\\xc5+\\xcb\\xc3\\xdez\\xba\\xd5\\x86\\xb6nO\\xc0p\\xda\\x8f\\xc2 \\xd4\\xd6\\xa3\\x05\\x03\\xb2\\xf3\\x00Y\\x80\\xfa\\x1e\\x9a\\x88j\\xb7R]x\\x9b\\xb7\\xaaU\\xf1\\x055\\xd0\\xe1\\xcfnX\\xa3\\x10\\x83\\x9fBR_\\xb0\\xd0\\xbb\\x82\\xaa\\xcd\\xc3\\xbb`v&\\xe4!\\x14q\\x82r\\x16@J3\\x1fe\\x03>\\xe7\\x03\\xcfIw\\xca)6\\xf5\\xa2\\xc1\\x8f\\x96yf\\x921\\x9e\\xe02\\x903\\xee\\x031>\\xe7Z\\x08\\xa0kI<n\\xaf\\xdc\\xfb\\x80\\xb6o@\\xdc.\\xf7:\\xb02\\xd5R\\xbd\\xc0\\x0f2$b\\\\}\\x8b\\rr\\xe92\\x95\\x8a\\x07\\xf3+\\x83\\xe8I\\x03?b5\\xd9V\\x11\\xd2Y\\xeb\\t\\x01#cK)\\xf2\\xe4a\\x80O\\xb0$\\x1di\\xd6P\\x9a\\x0b\\xbcH\\x06\\x12BB\\x9f,\\x1e\\x80}\\x98\\x01\\xa9\\xcd9YG\\xb5\\xadd\\xe1L\\x047h\\'\\x03\\x11Uf\\x9aA\\xeeG<g\\xfa\\xb2\\xeaP\\xe0\\x8e\\xe3\\xfc=MV\\xd6\\xa9|\\x14/UBX\\xf7\\\\\\xe2h\\x87\\xf9X\\xf3\\x81\\xe8\\xe7\\xd3Q\\xac0\\x1a\\xday\\xe0C\\xcb#\\xa0x\\x8f\\xf2\\xba\\x90\\xc8\\x7f\\xe2]mT~2\\x18\\xe9\\xb7\\r\\xa3\\xe4\\xaf\\xa5e\\xae\\x80\\x1c\\xff\\x00\\xacQ\\x87\\x8c\\x81\\xfc,\\xa3\\x07\\xe9\\x8e\\xe7T\\x98\\x8d\\x18\\xae\\xa7t\\']\\xdc\\x88\\xd3\\xd1Id\\x9d\\x13\\xb6\\x95\\xc8\\xda\\xc3\\x92\\xa1O\\xb7Mv\\xb7\\x8e\\xd9]\\xd1hH\\xa3+\\x15\\xc2\\x96U\\xab\\xa1\\xa8a\\xd2)\\xd4\\x10\\t=\\xf9X\\x12\\x8c<\\xd5\\x9bJ|6\\xdc\\x94\\x9b\\xbfo[\\xafTG\\x10U\\xc4$\\x08NLm\\x8c2\\x1fu9\\x07\\xd7\\xbf\\x9e\\xa4x\\xdb\\x99\\x01\\xf6\\xeb\\xae\\x1f#\\xa4\\xa7\\x9a\\xe3\\'4\\xf7\\x10\\xa1\\xd5\\x92_\\xb4\\x14\\'\\xbe-Qo]\\x8b_\\x1bF\\xd0\\xc9\\xe1\\xb8x\\x9b\\xf3\\xc3\"\\x92\\x1dH\\xfeea\\xf7\\xc6GB5\\x10X?\\x17IML\\xd5\\x88\\x12W@Y\\x94\\xe5X\\x82T\\xb0>`\\xb2\\xb0\\xfa\\x82<\\xb5e7\\x85\\xb8Y.\\x82\\xee\\x8b\\xfd\\xc2\\xb5\\x96\\n\\xf0{G!\\xc2\\xc71\\xf4\\r\\xf2\\xa3\\x1f\\xf2\\x13\\xd8\\x9dG[\\x7fhG}\\xba^\\xb6S\\xba\\xc3pVj\\xeb,\\xb2\\x9c)\\x93\\x94\\x17\\x84\\x9c\\x13\\xcb$h?\\xca\\xd0s`\\x9e\\x87\\xa0B\\x19\\x8bRm3\\xef\\x1au\\xef\\x1eVV\\x11WtL\\x12\\xbb\\xed\\xfe\\xdc\\xb9\\xfb\\xdc\\xb3lj\\xc4\\x9a\\xb6\\x14\\x91\\xde2\\x1cI\\x1c\\xb17,\\x90\\xc8;:\\x9c\\x1c0\\xcf\\x98 \\x82A\\x04\\x12\\x0c\\xe9\\x16\\xe9\\xdeq\\xc4\\x88\\x1boT\\x05P<iZtw\\xff\\x00\\x13*\\xa9\\nOr\\x01 z\\xea\\xb4X\\xe5\\x9e\\xd3t0O\\x1c\\x94\\xf5\\x10Jb\\x96)\\x06\\x19\\x1dN\\n\\x91\\x93\\x82\\x08\\xc1\\xfe\\x99\\x18:\\x9eio\\xf9\\xa5\\x84\\xf5\\xea\\x83\\xfeZ\\xcd\\n\\xda\\xba\\x07\\x16\\xc0\\xeb_PF\\xfe\\xd4\\xd6+G\\x1dK\\xdb%\\xaf\\x92\\x9b\\xf4h\\xd1\\xae\\xb8\\xb9\\x8a4h\\xd1\\xa1\\x08\\xd1\\xa3J;\\xe6\\xf7\\xf8:#E\\x10ij*\\x00S\\x1cM\\x86`\\xcc\\x15P\\x1f&v!A\\xc8\\xc0\\xe7`~C\\xaf\\t\\xb6e)\\xad.6\\t/pI\\x1f\\x12\\xf7i\\x86\\xa6@\\xbbR\\xcc\\xa6\\xaa\\xb1\\xdb\\xf2J\\xa3$)=\\x88r\\xa4\\x9e\\xf8\\x8d<\\xbc]UK\\x8f\\x10\\t\\xe2\\xc5\\xb3tU\\xe4Mv\\xdct\\xc3\\x95\\x8fU\\x8d\\x9c*\\xaf\\xd28UW\\xea=\\xf5dx\\xdbq\\x8f\\x86\\xbc$6T\\x95Z\\xe7|\\x94\\xa5T\\x89\\xd3\\xc4\\x04\\x03;\\x01\\xdf\\x97\\x94,@y+(\\xf2\\xd5\\x19\\xde\\xd5\\x92\\xd7\\xdf\\x02(d\\x82\\xca\\x82\\xa6I3\\xd7\\xc6$\\x15Q\\xeeX(\\xff\\x00\\xfc\\xd3\\xb16\\xf9\\x1d\\xeb[A\\x18|nx\\xd2\\xdb#\\xf2{J\\x98\\xaa\\x9c]\\xb8\\xcd\\xc6\\x04L\\x94\\xf0i\\xa2OO\\x90\\x02\\xc0}\\x19\\x89?]E\\x9cH\\xaf\\x86\\xe7y\\xbaQ\\x90\\x1a\\x82\\x86\\xa0\\xac\\xa3\\xff\\x006|\\x9eT\\x1e\\xc8\\xbf1\\xf7+\\xe8t\\xcdk\\xdd2\\xda/\\xdb\\xdbv\\x15?\\x86zZ\\x90\\xd1\\x11\\xfe\\xb6\\xa6P&@s\\xe9\\xcb\\x1ac\\xfcGQ\\xbe\\xe4\\xa6\\x92\\xd1\\xb5i(\\xe5s-\\xca\\xa7\\x9ei\\xe5n\\xac\\\\\\xfe\\xf2F>\\xe5\\xb1\\x9f\\xa64\\x88\\x18v\\xbb\\x07\\x90W\\xdfk\\x03W\\xbd\\xd9kKm\\x155\\x16\\x0c\\x829\\xe1\\xa8\\x95\\xcf\\xf1\\xc8\\x15\\xceO\\xa9,\\xc4\\xfd\\xb4\\x9fK\\x1c\\x90MAWM,\\xd4\\xd5\\xd4\\xb5M4\\x15T\\xd2\\x18\\xe5\\x85\\x833\\x06G\\x04\\x10\\xc0\\x8c\\x82=\\xfc\\x89\\x1a\\x937\\x8d\\x1a\\xcf\\xb2\\xd2\\xe6\\xa0\\x97z\\x8aNv=p\\x0cl\\x00\\x1fs\\xa4\\x9bE\\x10j\\'\\xaa#\\xac5q\\xa8\\x1e\\xa2B\\xc0\\x83\\xfa\\x8dY\\xc1c`\\xec\\xf3Qgm\\xc1\\x03\\x82\\xb2<\\x1f\\xff\\x00H\\t\\x13\\xc5`\\xe2\\x05\\x9e\\xa2\\xaa\\xa2\\x10\\x17\\xfbCjU&P\\x14\\x10\\xd2\\xd3\\x9c\\x00\\xc7=Lg\\x07\\xb8Q\\xdbV\\xa3cq{e\\xf1. v\\xbe\\xe9\\xb6^e\\xeb\\x9ahg\\x0bP\\x98$\\x1eh\\x9b\\x0e\\x08 \\x8e\\xa3\\xbe\\xbeH\\xd4(\\xb6\\xd4\\xee\\n\\xa2J\\x08!*\\xae;\\x8c\\x8c\\x02=\\xfbc\\\\m\\xf7\\xb4\\xae7KE%\\xd1)\\x85\\x15U!\"\\x9d\\xa9\\xd8\\xa4\\xb0\\xc5\\xd3\\x949\\\\\\x10\\x0e\\x01\\xc8=\\x0fS\\xdc\\xe92`\\xf0N^c;${\\xecYZ\\x8bD\\x1b\\x96f\\xf7\\xe1\\xdd\\xfe\\x97\\xdbVr\\x99\\x0c\\n\\x9fB0\\x7fC\\xacm7\\xbe\\xbeh\\xfc q\\x1b\\x89\\x0b\\xb5\\xee\\xc2\\xbf}^\\'\\x86\\t\\xe3ZJy\\xab\\xd6\\xb4\\xd3\\'+\\x07\\x0f\\x1c\\x81\\xf9A \\x10\\x0e2:\\x83\\xd7V\\x8a\\xd9\\xc6\\xad\\xe9L\\xaa\\'6;\\xd2\\x7f4\\xf4\\xf2RJG\\xd66e\\xcf\\xfb\\xa3Y\\t\\xa0\\xe8\\xa5t7\\xcc+H\\xf0\\xf9\\x9f\\x0bgh\\x04;\\xbf\\xd3\\xc5Xg\\x9f\\x00\\xf5\\xd2N\\xf7\\xe2]\\x06\\xd4i)\"Su\\xbd`\\x15\\xb7@\\xc02g\\xb3J\\xc7\\xa4K\\xe6Ku>@\\x9e\\x9a\\x8b\\xef\\x1cL\\xdd\\xfb\\x9b\\xf7\\x0b%&\\xda\\xa1*C\\xad\\xaaF\\x9e\\xaeO\\\\N\\xea\\xa21\\xfeT\\xe6\\xf4a\\xa8kv\\xf1\\xc7hl\\x1ekU\\xb8\\x9b\\xf5\\xe4\\xb1\\xff\\x00\\xe5\\x96\\xa6\\x127\\x88{\\x99\\xa6$\\x85$\\xf7,Y\\xbdA\\xd2\\xe1\\xa4|\\xce\\xb0\\xf0N6\\x99\\xb0\\x8d\\xb9\\xcd\\x87\\xbfy*\\xd7\\xf1a\\xc6\\xed\\xf5\\xb9x\\xddx\\xb3].4\\xf5\\xd4V\\xc9R\\x9e\\x8a\\xd9\\x14\\x05i\\xa2\\r\\x12\\xb3\\x14\\x19\\xc9c\\xceAv$\\x90;\\x01\\xd3\\\\\\xcd\\x8e\\r\\xfcD\\xef\\x0f\\x86\\xd3K\\x04F2s\\xcb \\x90\\x86\\x00\\xf4\\xce\\n\\x02\\x0f\\xa1\\xd3\\x15v\\xd6M\\xd3\\xbd.\\xdb\\xc2\\xff\\x00\\x04\\x1f\\xb5\\xeer\\t\\x1a\\x92\\x98\\x93\\x04\\x00*\\xa8PI\\xcb\\x10\\x14d\\x9cd\\xf9c\\xa6\\x9b6\\xe6\\xd9\\x817m\\xbe\\xa6\\x1eQ\\x05}\\xd1\\'X\\xd5p\\x10\\xa4H$\\x00\\x0e\\x98\\xe6\\x19\\x1f]o\\xe3\\xa6\\xf9zV\\xb6\\xd6\\xd0YW\\xd3?\\xa5\\xab$f\\xdc\\xc8\\xfc&\\x9b\\xfd\\x84E|\\xa2\\x8b\\xa3D\\xd5\\xc0\\xaac\\xf2\\x80\\xad#\\x82;u`\\x0e\\x96\\xf8\\xa6\\x80Z\\xed\\x15dg\\x17\"\\x80\\xfb\\xb9 \\x7f\\xed\\xd4\\x85z\\n\\xd7\\xa4\\x90\\xf5\\x114\\xb2g\\xe8\\xa0\\x7f\\xd7H\\xdcT@\\xbb\\n\\x97#\\xe7J\\xb8f\\x1e\\xa0\\xa0i\\x0e?C\\xaa\\x86\\xff\\x00\\xec\\xb2\\xd3\\xbe\\xfd\\x1d\\xd7\\x12\\xd7\\x17\\xed\\x0b\\x1d\\xc6\\x8c\\x80YT\\xc8\\x83\\xdc|\\xc3\\xfa\\xf4\\xd7\\xa9\\x15\\xaf{u\\x9dNkh\\xfeor@\\x04\\x9f\\xb8\\xe4o\\xaetm\\xf9\\x85\\x1d\\xe8F\\x7f#\\xb1\\x8c\\xfa\\x1c\\x13\\x8f\\xd4\\x1c\\xfd\\xb5\\x9a\\xd6M\\x9a\\xfd\\xe1\\x11\\x98\\xe5\\xfd\\xd1\\x07\\xb1e,\\x14\\x1f\\xa8\\x04}\\xc6\\x9c9\\x14\\r\\x13\\x15\\xb2\\xa5\\x1di*P\\xfe\\xeeX\\xd1\\xc1\\x1eA\\x81R>\\xc4 \\xd3-\\x8a\\xaa\\x9e\\xd7Q4ug\\x92\\x88\\xb74\\x8eFDq\\xb9\\xc9\\x93\\x03\\xb8F\\xf9\\xc8\\xf3\\x0b\\x8d&\\xd0\"\\xd0KUn\\x071\\xc0L\\xb0\\x1fX\\x9c\\x07P>\\x8c\\x8e4\\xc7\\x14\\x80\\xac\\x128\\x0c\\x81\\x8d,\\xc0\\xf6 \\x9c\\x02}\\xb3\\xca~\\x8ct\\xc1\\x16K-\\xdan\\xca\\x91\\xb8%~\\x93\\x87\\xfb\\xd2\\xe3\\xb4\\xeb\\x8f\\x85GQ)\\x96\\x9dY\\x81X\\xd8\\xb7)\\x00\\xf6 ?\\xcaH\\xe9\\x86C\\xd8gV\\x8a\\x82\\xa0:\\xf2\\x93\\xd4y\\x1dRY\\xfc[\\xae\\xde\\xa7\\xab@d\\xbb\\xd8%\\x14s.Hi\\xa3\\x08|3\\x9e\\xff\\x00\\xbc\\x84\\x15\\xf6hy\\x8fR5a\\xf8U\\xc4E\\xdd{}$3\\xf8\\xb5\\xf4|\\x91\\xceOC\"\\x95\\xccr\\xe3\\xd1\\x97\\xbf\\xa3\\x06\\x1eZ\\xe6\\x9f\\x13\\xe1\\x85\\xaf\\xf9\\xc8\\xc6G\\'u\\xee=\\xa9\\x8d\\x93+y\\xa9b\\xb2\\x8e\\x0b\\x85$\\xf4\\x951,\\xf4\\xd3\\xc6b\\x96&\\xec\\xc8A\\x04\\x1f\\xa8:\\xaf\\xbb\\xe5n;:\\xf3IW\\x1c\\xe4],\\xb2\\xc6\\x8bW ?\\xbe\\x85\\x9b\\x9a\\x9av\\xc7q\\xcc\\xbc\\x8f\\xee\\x18v#S\\xe5\\xbe\\xe3\\x1dd`\\x822\\x07Q\\xe7\\xa4\\xfe.\\xed\\xb8\\xae\\xdbu\\xee\\x06#)\\xa2\\x8d\\xd6\\xa64\\x19i)\\x1c\\x0f\\x19@\\x1dI\\\\,\\x8b\\xef\\x1e\\x07s\\xac\\xee\\t\\\\h\\xaa\\x80\\x7f\\xda\\xec\\x8f\\xaa\\x8e\\xc3\\xd1\\xb8\\xb1\\xfa\\x1c\\x8a\\xf1\\xc4\\x8d\\xb9K\\xc4M\\xa9A\\xc4\\x8d\\xbd\\x03\\t\\xde\\x00\\xf7*D\\x19vE\\x1c\\xacp\\x07Yb \\xa9\\x00e\\x95H\\x19*\\xa3\\\\:*\\xa7\\x92\\x8e\\x06WfV\\x8dH(\\xd9R1\\xe4}5\\x8b\\xe1\\x7f}\\xcb\\xb6\\xb7\\x1d\\xc7f]g\\x05%\\x9c\\x08\\xe4$r\\xf8\\xc4|\\x92\\x03\\xdb\\x96d\\x03\\x1e\\\\\\xca\\x00\\xc9c\\xa9~\\xab\\xe1\\xebgU\\xd5M9\\xa7\\xae\\x84\\xca\\xe5\\xfc*{\\x84\\xd1\\xc6\\x999\\xc2\\xa2\\xb0\\n\\xa3\\xc8\\x0e\\x80t\\x1a\\xde\\xe28;kd\\x12\\xc6\\xeb\\x1d\\xfc\\xd4h\\xf1\\x03\\x87^\\x96pKG\\xdaypRv\\x8d\\x1a5\\xa5X\\xc4h\\xd1\\xa3B\\x16\\x95\\xc2\\xbe\\x1be\\x0c\\xf5\\x95-\\xe1\\xc1\\x04m$\\x8eFyT\\x02I\\xfe\\x9aG\\xd8\\xf4\\xb5;\\x92\\xf7S\\xb8\\xeb\\xd3\\x95RFJx\\x89\\x04+`\\xa9\\xea2\\x0f\"\\x93\\x18 \\xe3\\x99\\xa78\\xea4q\\x02\\xbe{\\xd5\\xde\\x83mPI\\x89$\\x91$\\x9d\\xfb\\x84=Y2;\\x1eP\\x0c\\x84\\x12:\\xacC\\xb3\\xe9#\\x8f<S\\x1c7\\xdb\\x94\\xdbKk\\xab\\x1b\\xcc\\xe8\\x94\\xdc\\xd1\\x1c\\x9aH\\xd8`\\x12{\\xf3\\xb0\\x04\\x8c|\\xd8\\xcbt%Il\\r\\xb7u{\\xf0V\\x10\\xc2\\xe2\\xd0\\xc6\\x0f\\xa9\\xfe\\x03\\xf6\\xa2\\x0e<oA\\xbex\\x91w\\xa9II\\xb1m\\xb8\\xcd4d\\x1f\\x96IC\\x10q\\xd7\\x192\\x03\\xd4wXT\\xfaj\\x10\\x16\\x813R\\xd3H\\xb9z\\x99\\x8duY\\xc7|c\\x95O\\xb08\\x00z.\\x9f7\\x95\\xb1v\\xe5\\r\\xabm\\x02\\x1e\\xa6O\\xfeapa\\xe6z\\x04S\\x8f!\\xdb\\xee|\\xb5\\xebb\\xed\\xef\\xdb\\x15\\xf5u2\\xaec\\x18\\x85O\\xb9\\xc8\\xfe\\x83\\x9c\\xfe\\x9apJ\\x1a\\xc3&\\xed\\xcbw\\x0c\\x02&6&\\xeeK{\\x8e\\xd2 \\xb0\\xed\\xebD\\x8ay\\xee\\x15\\x8fx\\xabS\\xdf\\x0b\\x86P}\\xb2c\\x1fm(\\xee$\\x8cV\\xd5\\xdc\\xaa\\xcf\\xf7jZW+\\xe7\\x909\\x80\\xc7\\xbb>q\\xec\\x83\\xd7R>\\xe9\"\\xf7\\xbc\\xeaDN\\x11#\\x02\\x91\\x1f\\xca8\\xd0\\x16\\x91\\xbe\\x83\\xa9\\xfa\\x85\\x1a\\x88\\xf8\\x8bt\\x15\\x95F\\x86\\x04\\xe4\\x81XK*\\x8f\\xe1\\x00b(\\xc9\\xf6P\\t\\xf79\\xd3\\xd0\\\\\\x80\\x0fY\\xedK~Y\\xa7y\\xa8\\r\\x7f\\x03+\\xe7\\xc1\\xe6\\x86:9\\x86z\\x91\\xcb\\xcb\\x9f\\xd06\\x91\\xe8)L{*\\xba\\xa3\\x18\\x1e=3\\xe7\\xfc\\xb2\\x8c\\xff\\x00C\\xa9\\x83l[\\x7f\\x11\\xc0+\\x98q\\x93-\\xb5\\x88\\x07\\xd5aR?\\xa8\\xd4oK\\x02?\\t\\xa5#\\xf3\\xc9\\x05D\\xb8\\xf3\\xc20\\xc1\\xfdF\\x95\\x0c\\x96s\\xb9;\\xdf\\x92\\xf1\\xed\\xb8\\x17\\xe0\\xa2*\\xba\\xa4\\xa8\\xdc\\xabnA\\xce\\xd5\\x15\\xb1\\xf8\\xc7\\x19X\\xd1\\x146\\x0f\\xa9$t\\x1e\\x9d{i\\xf4\\x92K\\x1f\\\\\\xe7\\xef\\xa5:Kx\\xa8\\xb8\\xd3\\xcfNTJ*&\\xa8b\\xdex*\\x80t\\xf6\\x18\\xd3VC\\x00Gc\\xd4kc\\x0b\\x03A<V\\x12\\xa6C$\\x86\\xfb\\xb2^l[\\x06]\\xcd\\xba-\\xf4{r\\x95\\xa9\\xb7-d\\xa2\\nI\\xe8\\xa54\\xee\\xaeA%\\x99\\xc7@\\x80\\x02\\xcd\\x90F\\x01\\xe8ui\\xb6\\x87\\x018\\x8b\\xb4\\xe9c\\xa7\\xdd\\x1b\\xae\\xcb\\xb8^\\xa6e\\x86\\x9ajjI`x\\xdb\\x95\\x8f+\\x920\\xf9\\xe5\\xc8 \\x03\\x9e\\x84\\x1e\\x98[\\xf8?\\xb3Z\\xa2\\xdc\\xf7M\\xd7~\\x02\\x9e\\xddJ\\r\\xa6\\x8a\\xb9\\xa5UH*X\\x06\\x95\\x98d\\x109J b\\n\\x82\\xcc\\x0e3\\xa7\\x9f\\x89\\xee96\\xc6\\xf8\\x80\\xe0\\xce\\xcb\\x86\\xee\\x82\\x96\\xa9\\xeakkS\\x98`3\\'\\x87F\\xccI\\xc0\\x1c\\xe1\\xf1\\xd7\\xaf}Pb\\x0c\\x8e\\xa2^\\x8fd\\x1b\\rw\\xf1\\xd7\\xf0\\x95IU4\\x12\\x06\\xc4\\xeb\\x02t\\xdd\\xdc\\x958\\xbb\\xf0\\xc1\\xc4~&mJU\\xb1n\\x1aKm\\xbc<\\x86\\xa2\\x8d\"\\x94\\xadh\\x07\\x95C\\xba\\x90\\xc1A\\x04\\xf2\\x80A\\'\\xa88\\xd5@\\xd8\\x96y6\\xfd\\xe3p\\xda\\xaa\\xe0X.6\\xda\\x83I:\\x05\\xc1\\x8d\\x91\\x99]A\\xc0\\xe8H\\xc8\\xe9\\xd4`\\xeb\\xea\\xc6\\xc6\\xdd\\xf4vN\\x1c\\t/\\x153QK\\x1b\\xcd1F\\x85\\x8c\\xb2G$\\xce\\xd1\\xb4h\\x01f\\x0c\\x08\\xc6\\x07\\xb7MP?\\x88kd4?\\x11\\x15\\xb7\\xca\\x1b]e\\xaa\\xd7\\xba\\xe8\\x85ZGY\\x17\\x84\\xcdQ\\x1e\\x16V+\\xd4\\x02\\xc0#\\x10N~~\\xb8\\xd2\\xb0\\xc9\\x1a\\x0e\\xc3\\x00\\xd9\\xe2\\x135\\x12\\xc9,\\xa4\\xcanR\\x9c\\x8f\\xca\\xa5\\xb4\\xcf\\xb2$2\\xee}\\xab\\x01\\xc1\\x11\\xd1T\\xd71\\xf3\\xcbM\\xc8\\xa7\\xf4S\\xa4\\x9b\\xb5X\\xa7\\x89\\x86z\\x81\\xd7M\\xdb\\x02NM\\xdc\\x8f\\xdf\\xf0\\xbbr\\x85A\\xf42<\\xd2\\x1f\\xd7\\xa6\\xac\\xab\\\\\\x1a\\xd6\\xf5\\xab\\x1c4^Gu[\\xdfrn\\xbb\\xcb\\xcdQPA\\xeac\\x90\\x8f\\xbb\\x01\\xa4\\xde-L#\\xb6Y\\xa9\\x0f\\xe4\\xaa\\xaa\\x9a2<\\xba@@\\xff\\x00\\xdd\\xa6k\\x8c\\xc5nt\\x90g\\x1e2\\xe0\\xfd\\xa4R\\x7f\\xa1:b\\x96\\xc7\\xb3+v\\x06\\xf2\\xbd\\xefH\\xd8\\xc1c\\xb6\\xc9Wn\\x969Y$\\x8e\\xb1\\x99#\\x88 \\x04\\x06,\\xc4\\')\\x04\\x10OO=g\\x18l\\xf0N\\xf5\\xa6\\xa8x\\x8a\\x12\\xe3\\xa0\\xb7\\x98PZ\\xf8\\xafH&BD\\xe2\\x9d*\\x17\\xdc\\x85\\x04\\xfe\\xb8`u\\xdf\\xaa\\x88]\\xebq\\x11\\xe5\\xfcR\\x07\\x89\\x87\\x932\\x06B\\x0f\\xb3#\\rr6u}%\\xe4\\xdb\\x84\\x13$\\x8f\\x89 \\x92#\\xd1\\xd4\\x12H%O\\\\\\x10\\xf8\\x07\\xb7Mt,\\\\\\xd1\\xd3\"\\x9c\\xf8\\xb49_\\x7f\\xdd\\xca\\x08\\xff\\x00\\x85\\xdcjC\\xae\\n\\xf5\\x8e\\x0em\\xc1\\xb8[b\\xbcK5\\x9a\\xe4G i\\r%J\\xf6\\xe5%\\x86A\\xf4\\xc3sc\\xd9\\xc6\\x9a(\\xd3/\\xf8g8Z\\xa81\\x9f\\xfe\\xe4\\x7f+c\\xdf\\x01O\\xdbK\\x9b\\x96\\xdai\\xab*\\xa0B#\\x82\\xe6\\xbc\\xf0\\xbbtX\\xaaW\\xaa\\xe4\\xf9\\x06 \\x03\\xf5\\x1e\\x9abvym\\xedR\\x88|ZY\\x7f\\x12\\x15z\\x9c\\x10\\x19\\xd4}U\\x9ci\\x87\\'\\xc2\\xebm\\xfa\\x95\\x8e\\xf3\\x13N\\xe2\\x18.p\\x9b}S\\x9c\\xe2)T\\xf3G!\\x03\\xaf\\xca\\xcaI\\x1e`r\\xf6:\\xcd\\xb3\\xf7$\\xbb\\x03{\\xf8\\xb3\\xa9\\x82\\x99\\x1aHk)\\xf3\\x9eXL\\x98\\x98\\x1ct&\\x19p\\xe3\\x1f\\xc2\\xcd\\x8e\\x87\\\\\\xb9@K\\x87\"8\\x11V\\xa8\\x96\\x07\\xf2\\x13 \\x04\\x11\\xf5P\\xa7\\xfd\\xd3\\xeb\\xac\\xbb\\xbc5U=\\xb6\\xfdJ\\x8a%\\x94\\xac2\\xab~QR\\x8aU\\x15\\xb3\\xd8K\\x12\\xbcg=\\xccl\\xc7\\xa9\\xd4i`eLN\\x86M\\x1c-\\xef\\xa92I\\x8d\\xfbC\\x7f\\x9f\\xbc\\xbb\\x95\\xa6\\xa7\\xb8II(h\\xdf\\xa89\\x04\\x1c\\x82?\\xea\\x0e\\x9bl\\xfb\\x86*\\xe5\\t!U\\x93\\xb1\\x07\\xb7\\xff\\x00\\xa7P\\x8f\\t\\xb7\\x04w\\xfd\\x9dJ\\xb1H\\xd2\\x8aE\\x11\\xa3?\\xe7\\xf0NB\\x06\\xf3\\xca\\x80P\\xfb\\xa6\\x9cRv\\x89\\x81RA\\xf2#\\\\F\\xae\\x91\\xd0L\\xf8d\\xd5\\xa6\\xde\\xfa\\xf5S\\x9f\\x0b*\\x19u\\x1cqn\\xc8\\xfb\\n\\xfb\\xfbj\\x8e)\\x1e+Z\\xabK\\x1c\\x04\\x87\\x96\\xdc\\xecJ\\x94#\\xaf<,\\x18\\x02:\\x8eU#\\xa9\\x1a\\x9am?\\x10\\x17\\xea\\x9bU\\x14\\xb0\\xdb\\xad\\x178d\\x85\\x19+\\x7fj\\xac?\\x88R\\xa0\\x8999\\x0f\\'0\\xeb\\xcb\\x93\\x8c\\xe3J\\x1b\\xc2\\xb4VRPT\\xd4\\xa0\\x95)\\xe44\\xf5\\x04\\xf9\\xd3\\xcd\\x85|\\xfa\\x85a\\x1b{`\\x9dD\\xb3p>\\xa2\\x19^:h\\xe1Ztb\\xb1\\x8eA\\xd1Go\\xe9\\xae\\x91\\x83\\xd6\\t\\xe9[\\xd2\\xba\\xcenG\\x9a\\xae\\xa8\\xa2\\x135\\xa2V\\xdc\\x85\\xf4+F\\x8d\\x1a\\xd1\\xaev\\x8ds\\xafWHlv\\xba\\x9a\\xe9\\xf9\\x8cP!b\\xab\\xd5\\x98\\xf6\\n2z\\x92H\\x00y\\x925\\xd1\\xd4S\\xc6\\x1d\\xcf\\x0c\\x12\\xd2Z\\x9af\\x8e\\x15\"z\\x86\\x8f\\x1c\\xf9\\xc3r\\x01\\x9e\\x99\\x01dpN\\x00e\\x88\\x92\\x01\\'Iq\\xd9\\x17O\\xc3\\x1fK j\\xe4\\xc1\\xb8jv\\xd5\\x04\\x97u\\xa7\\x17=\\xd9~\\x9d\\xe9\\xadt\\x8azH\\xd9\\x06G\\xc9\\xc1\\x11\\x82\\x06\\t8)\\x14]FI\\x11tv\\xcaw\\xdc\\xf5\\xd7\\x1a\\xca\\xb1]Ofi?\\x13r\\x90\\xf4\\xac\\xae\\x195\\x12\\x82@\\xc2F@\\x8dF09\\x19\\x87\\xe6:\\x90/)[\\xb5,\\x86\\xf3$kO\\xbc\\xef\\xa9\\xfb6\\xd1J\\x07\\xcbi\\xa5\\x03$\\x80@\\xc7\\x86\\x9f1$\\x0f\\x9b\\x91H\\xc9b\\xd0\\xe7\\x15jR\\xcd\\xb7\\xad\\x9b:\\xd8\\x8f\\x8a\\xa5\\x06p\\xa4\\x96Zu# \\x9e\\xe4\\xc8\\xd8\\x1e\\xa7\\xe6\\xd4i\\t\\x00B\\xddO\\x96\\xf5\\xad\\xc3\\xa2\\x0e{\\xa7:\\x0c\\xbbyr\\x1as9\\xa8\\xf2\\xba\\xe96\\xe9\\xbd\\xd6]\\x99\\x18\\xcb_(1E\\xdc\\xacc\\xa4j\\x07\\xa9\\x1dO\\xbbjRJh\\xb6\\x1e\\xd1\\xa9\\x9a\\\\s\\xd0\\xd3\\x19\\xa5#\\xceg\\x1d\\x00\\xfa\\x00\\x00\\xfa\\xebG\\x87{=)+\\'\\xba\\xd7\\x85\\x11\\xd1\\xe5#\\x07\\xf2\\x89\\x00\\xcb\\xb7\\xd1{\\x0f|\\x9f-D\\x9cx\\xe2\\xe0\\xbe\\xd2\\xb6\\xda\\xb3\\x90\\xd1H\\xfe5t\\xe0\\xe43\\x1e\\xd1\\x82?\\x85F\\x01#\\xb9\\x18\\xec:\\xba\\xc8\\x9dY+`\\x84}#Us5C)#\\xe9\\x1f\\xa9\\xd3\\x9a\\xc67-%\\x97m\\xb4\\xf2\\xca\\x95W:\\xec\\x87Tp\\x16(\\xf9\\xb9\\x88w\\'\\x00\\xbby\\x0c\\x9eT\\\\\\x8e\\xba\\x84\\xb7=\\xf2\\xa2J)\\xe3\\x8a\\xa7\\xc6\\xaa\\x92F\\x9eI\\xe9\\xd4\\xa8\\xe7 \\x8c\\xf3\\x1c\\x96\\xc0\\xe8\\x00\\xc0\\x1f]nGj\\x9a\\xad\\x83N\\xed)\\x03\\x03\\x98\\xf4\\x00v\\x00\\x0c\\x00=\\x80\\xd6z\\xab\\x1f%\\x1c\\xe7\\x97\\xa0\\x8d\\x8f\\xe8\\xa4\\xebi\\r\\x0cq\\r.x\\x9fE\\x90\\x9e\\xba\\xa2|\\x81\\xd9\\x1c\\x07\\xaa\\xb5\\xfbJ\\xd8`\\xe0m\\x1a8\\xeb5\\xa0\\xc8s\\xe6\\x1a<\\x03\\xf7\\x1a\\x85\\xact\\xbf\\x89\\xd8\\x96\\x9aL\\xe0T\\xdb+\\x08c\\xe8ge\\x04\\xfe\\x9a\\xb3\\xf1\\xd9\\xda\\x1e\\x08\\xd9\\xa4X\\xf0\\xb1\\xd8 V`;\\x13\\x08n\\xbf\\xa8\\xd5t\\xda\\xf4N\\xd6\\x8d\\xb9\\x17.\\x08\\xb1I \\x18\\xf3z\\xa9\\xc8?\\xf0\\xeb\\x13L\\xfb\\x97\\x9f\\xfbz\\xad\\x95\\xc3\\xc0\\xb7\\x05\\x03l9\\xebN$\\xab\\x86Hy\\xeajDE\\xd4\\x85\\x962\\xc1\\x83!\\xec\\xc0g\\xae\\x0eGc\\x8dv\\xaf\\x1b\\xda\\xc9\\xb7\\xe4\\x99jnT\\xc6^R\\xcb\\x027;\\x16\\x03\\xb1\\n\\t\\x198\\xef\\x8dE\\xd4\\xf7}\\xdf\\xba\\xb6\\xa5\\r\\x92\\xb2\\xeb<\\xb6h$y\\xa3\\xa0\\x8f\\x11@\\xaeX\\xe5\\x8a\\xa8\\x05\\x98\\xfa\\xb1\\'\\x1d;kR\\xbbgSX\\xe8|{\\x8d\\\\t\\x91\\xe7\\xe5\\x8d\\x17\\x99\\xdc\\xfa(\\xc8\\xc9\\xff\\x00\\xf4\\xea\\xf5\\xf8\\xd3Y\\xf41\\xb9\\xf3\\xf4\\x1e\\xab\\xdaO\\x83\\xe5\\x99\\xbd-L\\x96\\x07;\\x0e|\\xcf\\xa1W?\\x85\\x1f\\x1c\\xdc5\\xe0\\xf6\\xc7\\xa2\\xdaib\\xb9oL\\x02\\xed-=\\x04q\\x99j$<\\xd2\\x0f\\xde\\x10X3\\x12\\x07L\\xf6\\x18:b\\xb0\\xf0=+x\\xc5_\\xc5\\xcd\\xe1\\xb5\\x83n\\xfb\\xcb\\xa5V\\xda\\xd8\\xf5\\x04K\\x05\\x86\\x9a(\\xc0Z\\xba\\xdc\\x10\\xbc\\xca\\x10\\xb2\\xc2\\xb8\\x00\\xf4\\x1f6J\\xd1-\\x87M\\xb96\\xf6\\xea\\xb4n[\\r\\x04q\\xcfm\\xaa\\x8e\\xae\\x95\\xae\\xac\\x11\\x19\\x91\\x81\\x19\\x00\\x16 \\xfa\\x800z\\x83\\xd3_C\\xb6w\\x13\\xe9\\xf8\\xe1\\xb5k7%\\xb6\\x89\\xae7\\xaeO\\xc2n\\x1d\\xbb5I\\x82\\xa1$X\\xca\\tQ\\x94\\x1c:)9\\x00\\x14\\x950@\\xc8\\x03X\\xac_\\x16\\xa8\\x82\\xfd\\x08\\xfb\\xb5#w\\xedF\\xc4p\\x18(\\x0b\\x0cm%\\xa7y:\\x9e\\x1b\\x85\\xb7\\xfaj\\xbc\\xd8>#\\x1a\\xd7\\xb8b\\xaf\\x97s\\xb6\\xe5\\xb0\\xd5\\xf2KQYY\\x85\\xaa\\xb0\\xd5;*8\\x95\\x02\\xa8\\x14\\x8e\\xc5\\x15\\x94g\\xc2b\\x08b\\x01\"\\x14\\xf8\\xb8\\xe3\\xde\\xe7\\xb9\\xef\\xb8\\xb6\\xee\\xeb\\xd8\\xb1\\xd8+lS\\x99\\xed\\xc2\\x1a\\xf3*I\\x0b\\x86V\\x91\\\\\\xc4<E\\x91q\\xd4\\x11\\x82\\xb8##\\xa3_\\xec7\\xe0\\x8dC\\xd6\\xee;\\x92\\xdej.\\x14\\xbf\\x82ku\\xbeX\\xe7\\x82rYy\\x04yPYV%P\\xc6@\\xbd\\xbe`\\xda\\x83\\xfe \\xb8\\xdbY\\xc7\\xed\\xc3l\\xa5\\xda\\xcdKk\\xdb;b\\x0f\\xd9\\xb6\\xe8e_\\x18H\\xa1T12\\x80Y\\xc0\\xe5Q\\xccr2:\\x0e\\xec\\xd4\\xb8\\x16!Q\\x0c\\xcek\\x1cH\\xd7<\\xc0\\xe7\\xef^\\xf5.\\x93\\n\\xa6\\xad\\xa9h1m0\\x83\\x98$\\x1c\\xb8X\\x8b\\xfb\\xdf\\xaaUn\\xff\\x00\\x15\\xb19\\x92\\xdfQ\\t\\xc19VW\\x1e\\x7fC\\xfd58p\\xee\\x13&\\xfb\\xb9\\xd3\\x1e\\x8e-\\xb6X\\x8cg\\xa1\\\\\\xc6\\xfd\\xc7\\x96s\\xaa\\xd9^nvh\\x18\\xddh@\\x84\\x82\\rU+s\\xa0$\\x1cdt#\\xee\\x06\\xadV\\xc6\\x87\\xc6\\xe3\\xad\\xc8\\xa8\\xc2T\\xda\\xf6\\xf5P\\x03\\xb1\\r\\t\\'\\x1f\\xae\\xb7\\xa6\\xbeZ\\x86\\x91!\\x07%6\\xb7\\x06\\xa5\\xc3\\\\\\xc7S\\xdcmj\\x0f.\\xbc\\xf7\\xf3Yw84{\\xee\\xd5\\x06\\x0e<J\\xa8\\xf1\\xe5\\xf2\\xe4\\xff\\x00\\xd3J\\xbf\\x10\\x16\\xaa\\x97\\x8fm\\xdb\\xc4\\xb2\\xfe\\x19\\x9ey\\xe4\\x801\\t#\\x05\\x84\\xa30\\x1d\\tP\\xef\\x8c\\xf6\\xc9\\xd4\\x87\\xc6\\x1bG\\xec\\xce*\\xc1\\xca9R\\x9e\\xe9R\\x80\\x7f\\x86H\\x1d\\x97\\xfa\\x81\\xad\\x0f\\x8aq\\x1e\\xce\\xa9\\xd9\\x95uT\\xd3MOUN\\xe0I\\n\\x82T\\x98)\\x98\\x90\\t\\x1c\\xd8\\x07\\xa8\\x07>\\x99\\xed\\xa7\\xa9\\xe5k%\\x88\\xc8l?J\\x8a\\xa67\\xd4\\xc0\\xe8\\xe2\\x17s\\xb3\\x00jt*\\x02\\xa6\\xdb\\x0fN\\xc94e\\xa3\\x95\\x08+\"\\x12\\xac\\xa4v \\x8c\\x10t\\xc3d\\xbcT\\xdb+ej\\xdez\\xb8\\xe6\\xe6\\x12\\x13\\x80\\xf9e \\x90z\\x02I \\x90};\\xeb\\xa9o\\xab\\xa3\\xbb\\xd1-E\\x1c\\xc9Q\\t\\xe9\\xcc\\x9d\\xd4\\xfa\\x10pA\\x1e\\x84\\x03\\xaf\\x15\\x96\\xe1 $\\x0f\\xe9\\xad{\\xe0\\x8eV\\xe7\\x98Y\\x18\\xdf-3\\xbe\\x92A\\xde?I\\xe5V\\x8fx\\xed\\xd3\\x1cr\\x892\\xa0\\x13\\xd9\\xa2\\x90\\x0e\\x80\\x83\\xd4\\x1c\\xfe\\xa3\\xb6\\xb2l\\xda\\xff\\x00\\x01-\\x8dRA\\x12S\\xc7\\xe2\\xa3\\x1c\\xb6RF\\x85\\xc9\\xf5\\x04\\xae3\\xe4q\\x9e\\xfa\\x8d\\xed\\xf5\\xb5V\\n\\xe4\\xa8\\xa7~G^\\x87\\x9b%]s\\x92\\xae\\x07p|\\x8fpz\\x8d8V\\xd6\\n:m\\xb9y\\xa6\\x8b!+n\\x14\\xf2\\xd2\\xc9\\xd3\\x99\\x08\\x8ac\\x19#\\xb8*\\xf2`\\x8e\\x84`\\x8f-g*\\xa9]\\x06Z\\x83\\xe8rZzJ\\xc6\\xd4\\x0b\\x1c\\x9c=\\xdc&K\\xe5\\x86\\xa2\\x86:\\xdbTG\\xfb\\xd5\\x04\\x82j\\x19\\x0ffQ\\x96\\x84\\xe7\\xd0\\x8c\\xa1\\xfb\\x8dmXg\\xa5\\xdc43PH\\xfe\\r\\r\\xe6\\x0edy\\x0e\\x05<\\xc0\\x82\\x18\\x9f\"\\xae\\x14\\x92:\\xe08\\x1d\\xce\\x99\\xb7\\x02S]\\xb6\\xd5\\xa2\\xfbC#M\\x1cQ\\x88\\x9aF9i)\\xc9\\x00\\x17\\xc7\\xf1F\\xd8\\r\\xf5\\xcfc\\xa4xi\\xa4\\xa1\\xb8USD0$c]K\\x9e\\xcb  I\\x1f\\xb0$\\x83\\x8f\\xf1\\xb7\\xa6\\xab\\xa2\\x93m\\xb7\\xde\\x15\\x94\\x8c\\x04\\x16\\xf1\\xf6\\x16\\x1d\\x8f\\xb8j\\xb6\\xce\\xe7\\x14\\xb5*\\xf0\\xcb%C)\\x81\\x9c\\xa7%R\\x9eY\"l\\x1e\\x82A\\xd4g\\xb3\\xe0\\xf7\\xce\\xa5}\\xc7\\xb8/[b\\xb6\\x8e\\xf9Ks\\x9a\\xb7f\\xdcB\\xc6L\\xd0,\\xafn\\x98\\x82\\x07?@\\xcc\\x84\\x82\\x08\\'*C\\x0c\\xf6\\xd4M\\xc4Kb\\xde\\x12\\x92\\xf1LO%\\xd1\\x04\\x12\\x9c\\xe0\\xa5Z/\\xee\\xd8\\x91\\xd4\\x17^\\x84\\xf7.\\xb2\\x1f-L|\\x19\\xdc\\xd4\\xe9\\r\\xba\\x8e\\xf8\\x89Wf\\xbdS\\xa4\\x92x\\xe8\\n\\x9eb#\\x9b#\\xb0,\\xbe*0\\x1d\\x9f\\x04c\\x9b:f\\xae\\x92\\n\\x9d\\x97\\xbd\\x81\\xc7}\\xc0\\xccu\\xf1\\x1a\\xf5\\x02\\xa2\\xf4\\xef\\x8a78n\\xf3\\x1a\\xf7\\xad\\x19\\xf8\\xa2\\xe6\\xa2\\x0b=\\xd6\\xd6\\x8e\\xb7&4\\x8bUE8\\xf0\\xf9\\x9dHBCc\\xa3d`\\x86=H\\xd4\\x83n\\xac\\xa8\\x16\\xfaaP\\x9f\\xde\\x04K\\xe2|\\xdf\\xc5\\x81\\x9f\\xeb\\xa8\\xaf\\x8e\\xdc\\x1b\\xab\\xe1U\\xc2[S\\xc9,\\xfbj\\xb8\\x96\\xb4\\xdc\\x9b%\\xa9\\xdc\\x12\\xc2\\'>L\\xa4d\\x1f1\\xf3\\x0e\\xcc\\x17F\\x87\\xe2&\\x96\\x9e\\x8a\\x9e+\\x85\\x8e\\xa2Z\\xf4\\x8dV\\xa2DO\\x95\\xa4\\x03\\xe6#\\xd8\\x9c\\xea\\xbcaQ\\xd3}T\\x83#\\xae~\\xaaL\\x15\\x8d\\x99\\x81\\xf7\\xc9}\\x16\\xd1\\xa3F\\xac\\x972Z\\xd5\\x95qP\\xd2\\xcfS;\\x88\\xa0\\x85\\x0c\\x8e\\xed\\xd9T\\x02I>\\xc0\\x0c\\xea\\'\\xd9;tn\\xab\\xf5V\\xf1\\xbc\\x88\\xc40\\xcf$\\x90E!\\xff\\x00W\"\\xb0\\x04\\xb1\\xe8\\x07\\x86\\x11\\x10\\x9f\\xe6\\x8f\\xae9r\\xda<n\\xdf\\xf5\\xd2II\\xb76\\xf0\\x12W\\xd6U-\\x1aN\\x1b\\n\\x93\\x16\\x03\\x9b=\\x88F t\\xce\\x1f\\xa9\\xc7\\x86C8K\\xb7\\xe3\\xa7\\xb5\\xdb\\xb6E\\xa8\\x85\\xa3\\xa4\\xa4CX\\xee2\\x0c#\\xa2F\\xde\\xa6VV-\\xdf*\\xb2\\x03\\x82\\xc0\\x94\\xb9\\xa0\\xe6w)\\xcc\\xda\\x86;\\xde\\xc5\\xf9vo\\xefQ\\xbe\\xeb\\xbe%\\xce\\xf3]\\xb8\\xab\\xdc\\xc5L\\x90\\xf8t\\xa8\\xe0\\x83\\x05(<\\xc0\\xe0\\xf5\\x0f!\\xc3\\x11\\x80q\\xe1\\xa9\\x19]G\\x94\\xb6Z\\x8b\\x85\\xf6\\xe1w\\xab\\x87\\x96\\xb5\\x1cE\\x14M\\xd7\\x92P0\\x8a{\\x8cF;\\xe3\\xa1#\\x98w\\xd3uzIs\\xddW\\x10\\xb3\\n\\x9a\\x1b\\x1c\\xe0\\xbdA\\xea\\xb5\\x15\\xe4\\x12\\x8a3\\xdcE\\x87\\x99\\x87\\x9f\\x86\\x07f\\x1a\\xc1R#\\xb4\\xd1S\\xd3;\\x08\\x0b\\x03#\\xc8\\xff\\x00\\xec\\xe3\\x00\\x99\\x1c\\x93\\xe8\\xbd3\\xaa\\x97\\xb9\\xcd\\x1bG\\xeew\\x80[\\xaaV\\xb0\\x01\\x1b\\x0f\\xd2\\xc1\\xdeO\\xbf\\x15\\x19\\xf1\\xebu\\xc7\\xb36\\x12m\\xebt\\xa5k\\xeeq\\x98\\x15\\x95\\xb0\\xc9\\x0eG\\x8b!#\\xa8,O(>\\xac\\xc4v\\xd5j\\xa1\\xb5\\x8f\\xcc\\xc3\\xaerN\\x9b\\xf7\\xd6\\xe2}\\xef\\xbb+.\\xce\\x18@\\xc4%<m\\xfe\\xce\\x15\\xcf\"\\xe3\\xc8\\xe0\\xe4\\xfb\\xb3k\\x8c\\xed\\x1d<.\\xee\\xe9\\x14Q\\xa9fv *\\x81\\xdc\\x92z\\x005\\xd1p\\xca/\\x93\\xa7\\x01\\xff\\x00q\\xcc\\xf5\\xf0\\xecY\\x9a\\xc9\\xfejb\\xed\\xc3!\\xef\\x9a\\xf3\\x1d:\\xa6\\x02\\x8c\\x9f/]-\\xee=\\xdb\\x042\\x1b]\\x12~\\xd0\\xb8N\\xc2\\x9d\\x827\\xee\\xe1,B\\xfc\\xee\\x01\\xea3\\xf9FO\\xae5\\xabu\\xdc\\x13\\xde3\\x15#=%\\xbc\\xf42\\x8c\\xac\\xd5\\x03\\xcf\\x1d\\x8a!\\xff\\x00\\xd4G\\xa0\\xef\\xd0\\xe1~\\xdd\\x82\\xf1\\xc4\\x8d\\xadDbD\\xa7\\x15\\xd1\\xb3\"\\xa8\\x03\\x95\\t\\x90\\x8c\\x0fP\\x87U5\\xf8\\xe3#wEM\\x99\\xdewvq\\xeb[\\x0c7\\xe1\\x87\\xbe\\x13W]\\xf4\\xb4\\x02Cw\\x9c\\xb7\\xf0\\x1c\\xb5\\xea_E\\xae\\xd5tt<\\x14\\xaf\\xb2\\xa2\\x15\\xaa\\xa6\\xb3\\xd3\\xa9n\\x98o\\xdc\\xa8\\xc0\\xc7^\\x80u\\xd43\\xc2\\xdb%\\xa2\\x9e\\xe7MAv\\xa2j\\x9f\\xfe\\x99\\xa3\\xa7\\x82P@Xd\\x11\\xcdP\\xc4\\x8e\\xe4\\x13(\\x04\\rH\\xb7\\xda\\xa1YIY\\x008\\xf1\\xa9\\x08 y\\x02\\xbc\\x8a>\\xe7\\xb7\\xd3I{\\x88E\\xb7a\\xbc\\xd6D|1E@\\xc0\\xbf\\xb2S\\x91\\xff\\x00 \\x06\\xb2\\x11\\xcd{\\x8e>\\xaa;)6\\x18@9\\x9c\\xfbl\\x17\\xce\\xbb~\\xe4[u\\xa2\\x92\\x9e\\x8e\\x13Ur\\x99H\\x8a\\x15\\xed\\x92I\\xe6b;\\x01\\xdc\\xeb\\xbdf\\xb0~\\x11\\x85]{\\x8a\\xeb\\xab\\x8c\\xbc\\xef\\xd4G\\x9e\\xbc\\xb1\\x83\\xd1@\\xf6\\x1du\\xf9\\xb6\\xacTv[d\\x12G\\x1a\\xa4\\xad\\n\\x99\\'\\x91\\xb2\\xd8 \\x12\\t=\\x00\\xc9\\xed\\xa5\\xad\\xe1\\xc5\\xcb}\\x8d\\x1e\\x9e\\xd6\\x16\\xe9\\\\\\x01\\x1c\\xea\\xdf\\xb8\\x8c\\xfa\\x96\\x1f\\x98\\x8fE\\xe9\\xeat\\xc3\\x8e\\xd9\"1\\xda\\xba\\xe1\\x96:X\\x9a\\xfa\\x87\\x01\\x96C\\xd0o)\\xa3q\\xeeJM\\xbdF\\xf3\\xd5L\\xaa@\\xc8\\xe6n\\x83\\xd3>g>@u:R\\xe0\\x97\\x18\\xae\\xf6\\xbe9\\xd8\\xab6\\xf5{Y\\x85\\\\\\xdf\\x87\\xad\\xaa\\x99\\x88J\\x88\\xc0f\\x06E\\x00\\xf4R2\\x08\\x05\\x87P\\x07\\\\\\x18F\\xf5|\\xb8n*\\xd7\\xa9\\xae\\xa9z\\x87$\\x9c\\x9e\\x80g\\xf9@\\xe8\\x06\\x9f~\\x1d`zN1l\\xdb\\xb3\\xc0\\x93Q[\\xee\\xf4\\xb3\\xce\\xb2\\x9c+\"\\xca\\xa5\\xc7\\xbf\\xcaOm.:q?\\xf0Z\\xfbYg\\x9a\\xc5b\\xf8\\xab\\xaa!}\\x9b\\xf4\\x01~f\\xdeJ\\xd4\\xfcB5^\\xf1\\xe0f\\xe9\\xdf\\xf7\\x1a\\xceY*$4V\\xfa*x\\xcc1\\xd3\\xc6g\\x8cI!\\xc9\\xcbI\\'1\\'8\\x00\\x1cc\\xa9\\xd58\\xda\\xdb\\xfa\\xaa\\xc4\\xf1F\\xf1\\xab\\xc6\\x80\\x051\\x80\\x0e=\\xc7c\\xf6\\xc1\\xd7\\xd1\\xdf\\xf4\\xa6\\xf8\\x16^\\x19m\\xeb-\\xaa\\x86\\x1a*:\\xba\\xceE\\x86\\x05\\n\\xb8F\\xe6\\xec:\\x12Y\\x81$\\xfd\\xf5\\xf2\\xf9\\xe9\\xde\\x92\\xa1\\xa2\\x999$S\\x82\\xa7\\xbf\\xd8\\xff\\x00\\xc8\\x8d-\\xb4\\xec\\xa3\\x8e8\\xa3\\x16\\x16\\xcf\\x99\\xdeUN\\x1bW)\\x06x\\xb2\\xce\\xc0x\\xdb\\x82\\xb2;cy\\xdb7}!\\xa7WE\\x9d\\xd4\\xa3A&0\\xe0\\x8c\\x1cg\\xbf\\xb8=ue\\xf8Q\\x18\\xa8\\xe2\\xe6\\xd8\\x9f\\xca\\xbbe\\xd9%\\x1e\\xe6\\x13$L}\\xf0W\\x1a\\xf9\\xe5kp$W\\x8d\\xccr\\xa9\\x04H\\xbd:\\x83\\xd0\\x1cv9\\xed\\xfd5}\\xbe\\x1dn\\x8f[{\\xe0et\\xcd\\xce\\xf5\\xdbr\\xebj\\x92BrL\\x94\\x95B@\\x0e|\\xca\\xc9\\x91\\xa9\\x02.\\x89\\xa5\\xed\\xd0\\x83\\xe4\\xac\\xab\\xf1\\x0f\\x9clmx\\xb3\\x9aM\\xfbl\\xa4\\xce;D\\x0e\\xf3\\xa8\\xa9\\xc7^Jj\\xbc\\xfb\\xaa\\xaa\\xb7\\xf4\\r\\xad\\x0f\\x8cy\\xbf\\xb4\\xbc%\\xe1\\xcd[ \\xe7\\xa2\\x99i\\x81\\x18\\xea\\xadH:\\x9cw\\xcbDt\\xc9\\xc7*U[\\xd5\\xaew\\x18\\x8a\\xa2/\\xc3\\xc8}\\x8b\\x11\\x9f\\xb1e\\xd2\\xef\\x1ci\\x1e\\xab\\xe1\\xe6\\xcd$\\x9f4\\xf6\\xcb\\x840\\xc8}\\xd5\\xa4\\x85\\xbfS\\x8d&G\\x93\\x04eA\\xa0\\x8d\\xad\\xac\\x88\\x9d\\xc4x\\xe4\\xaa5456\\xda\\x91=$\\xefM?\\xf3\\xc6{\\x81\\xe4A\\xc8a\\xecA\\xd3\\x8d\\x9f{$\\xbc\\x90]\\x91)%b\\x02\\xd5.D\\x0cO@\\x0eI(O\\xb9 \\xf9\\x1f-r\\xbc%>Z\\xd6\\x9ejZw\\xf0\\xe5t\\x04\\x8e\\xaa\\xc3 \\x8e\\xd8>]}\\x0e\\x97G\\x89\\xcfH\\xeb0\\xdcp:~\\x96\\xd3\\x14\\xc0i16\\x92\\xf1\\xb2\\xfd\\xce\\x1a\\xf6\\xf1\\x1e\\xc5\\x93\\xe5e\\x10\\x91O\\xcb\\xd7\\xfe\\xfa\\xf1S4\\xff\\x00\\xd9\\xf8\\xe7Gf6y\\xc4\\xf2\\xc3\\xdcI\\t\\x04\\x06\\xc7\\xaa\\x82A\\xf5S\\xd7\\xb0\\xd2\\xbd\\x9a\\xfel\\xe8\\x91\\x03\\xf8\\x9bx\\xe9\\xe1\\x0c\\xb3\\xc2=S\\xb9 \\x7f)\\xfbzi\\xbe\\xdbr\\xa6\\xa7\\xa9\\xa7\\xadG\\x8e\\xaa\\x82\\xa1J\\xc8W\\xaa\\xc9\\x13\\x0c\\x11\\xee1\\xdc\\x1f\\xa6\\xba\\x15%]>%\\x19\\x03~D\\x1dG>\\xcdn\\xb8\\xb6%\\x86U`\\xd3\\x8d\\xb1\\xa6`\\x8d\\x0f\\xbd\\xe0\\xe6\\x14\\x83\\xc2\\xab\\xd5%-=M\\x86\\xe1+\\x1bM\\xc0\\xb4k =a\\x94\\x00\\x03\\x0c\\xf4\\xf9\\x95\\x90\\xe3\\xb1\\xec|\\xb5\\xd8\\xa8\\xb3Kf\\xb9\\xa5\\x15\\xc4\\xa8\\x96\"\\x19g\\\\\\x94\\x91\\x08 H\\xa7\\xb9R\\xb98\\xef\\x9e\\x87\\xa8\\xd4s\\xb5&\\x87i\\xee#CT?\\x17EK\\xe1I ~\\xbe50\\xca\\x13\\x9fS\\x0bw\\x1dr\\x99\\xee51\\xee\\xcai6\\xd5\\xda\\x8e\\xc5|\\xa9\\xf1-U@\\xb5\\x9a\\xfe\\xe3&\\t\\x06\\t\\x8elwF\\x04\\x16\\xf4\\xc70\\xeb\\x9ddj\\x18\\xeaj\\x82\\xc2:\\xc71\\xbc{\\xcd_E#g\\x88=\\xba\\x14\\xb6\\xf6v\\x9eK\\x9e\\xda\\xa9\\xfd\\xc7\\xe3ri\\xd9\\xc8\\x02\\x1a\\x959ROa\\x86\\x18\\'\\xc9^\\\\i\\x97\\x84\\x94C{l\\xea\\xdb\\x13\"\\xc3t\\xa2\\xa9i\\xe9\\x84\\xb9\\x01Z\\\\\\x89#`:\\x85g\\x0e\\x08\\x1d\\xb9\\x81\\x1d@\\xd6m\\xeb\\xb6j\\xe5\\xdb6\\xcb\\xbbA\\xf8z\\xfai\\r\\xbe\\xae6\\xea\\x12h\\xd4\\x18X\\x11\\xd1\\x92HJ\\x80\\xc3\\xa1\\xe4s\\x9c\\x9c\\x0f<%\\xb8\\xc3G\\xc6K\\x1dk\\x92\\x96\\xed\\xc8\\x0c5\\x0b\\x9c\\x14\\xaaR\\xa2@O\\x91,Q\\xcf\\xbb\\xb0\\x1d\\xb4\\x89.\\xe8\\xef\\x19\\xccf\\x13-\\x90\\x0b\\xb9\\xda\\x10A\\xeb\\x1e\\xb6VO`\\xdd\\xed\\x9cs\\xe1\\xd5v\\xd9\\xdd0\\x19\\xee\\x14\\xcb\\xf8z\\xb8\\xe5\\xc2\\xcd\\x90HI\\x81\\xc7G\\x0c\\xa4\\x12\\x07\\xe6\\\\\\x81\\xca\\xcb\\x98^\\xab\\xe0\\x8bv\\xc7S2\\xd2n\\x1b3\\xd2+\\x91\\x0bL\\xb2\\xab\\x94\\xcf\\xcaX\\x05 \\x1cc \\x125,\\xee[]N\\xd2\\xb9Uok\\x1cFi\\xecu\\xd3Es\\xa6\\x8b\\xa7\\xe2\\xa8\\xe4+362\\x072,\\xb8$\\xe0a\\x14\\x9c\\x88\\xc0\\xd4\\xcdo\\xbf\\xdb\\xeet\\x14\\xd5\\x94\\xd5q\\xcbMQ\\x12\\xcd\\x14\\x80\\xfee`\\x08?pt\\xf0\\x90\\x81\\xb4\\xcd\\n\\xc7\\x99\\xa4\\x81\\xc4\\xc0l\\x0e\\xee\\x0b\\xa5\\xa4\\xfd\\xef\\xb8\\xaa-\\xf1\\xd2\\xdam`\\xbd\\xea\\xe4\\xde\\x1c\\x00\\x7f\\xb2_\\xe2\\x90\\x9c\\x10\\x00\\x19\\xc7C\\xd8\\x9c\\x10\\xa4k\\xbfy\\xbb\\xd3X\\xad\\x95\\x15\\xf5lR\\x08\\x17\\x99\\x88\\xeeO`\\x00\\xc8\\xeaI\\x00\\x0f2@\\xd2v\\xdc\\xe6\\xb7[\\xae\\xbb\\xda\\xfa\\xa6:\\x99\\xa9\\xdep\\x9d\\xcd=\"\\x8e`\\x8389!A=\\x06~\\\\\\x80\\xdc\\xd9\\x8cs\\xc9C\\x8c\\x01\\xf5\\xb8i\\xe2}\\xea\\xa3\\xbb\\\\4t\\x9cS\\xac\\x9d\\x8bUZ\\xf6]\\n\\xc6\\x19z\\xb5Et\\xc0(#$\\xfc\\xccI\\x8c\\x02N\\x0cH3\\x805\\xea\\xe9\\xc4\\xab\\x96\\xdf\\xa3\\xb8ED\\xc2\\xabq^d\\x10\\xd2\\xc3\\x1e0\\xf5NUK\\x82FyQB*\\x93\\xd3\\n\\xb9\\xeb\\x93\\xa4\\xad\\xab|\\x9am\\xbd%l\\xcc\\xa2j\\xda\\xe9\\xabgv9\\x0fR\\xe0\\x82s\\x8e\\xa9\\x1as\\xbfr33v+\\xa6^\\x12P,\\xd3]\\xb8\\x91r\\x85\\xa5\\xa2\\xb7\\xc6\\xf4\\x96h\\x1f\\xa3H\\xc0\\x95g\\x19\\x18\\xe6f<\\x80\\xff\\x003\\xc8\\x0fa\\xa6\\t/\\x93dh\\xdd}\\x16\\x98\\xc0\\xc8at\\xd3\\x0b\\x93`\\xd1\\xcf\\xf6s\\xeaM\\x9bck[\\xf6\\xf4\\xd6\\xbd\\xb0\\xd3x\\xd1Q+\\xbdl\\xe7\\xa7\\xe2jYC\\xcd!\\xcez\\x0c\"\\x82N@\\xe7S\\xdbU\\xdf\\xe2\\x13\\x88\\xab5\\x15SS|\\x86\\xfbTm\\x94H\\xa7\\x1c\\x94Qu\\x99\\x87\\xb3\\x10\\x17\\xfd\\xefmJ{\\xb7pTY\\xb6\\xfd\\xc6\\xa0J\\x1a\\xe5R\\x9f\\x85\\x8eQ\\xd0\\x19ec\\xe28\\xf4\\xc9gly\\x03\\xe9\\xaaq\\xc4\\xad\\xc8o\\xbcK\\xa5\\xa4\\x88\\xe2\\xdfk\\x8c\\xd0\\xd1\\xc7\\xe7\\xca\\x80\\x87s\\xfe&r\\xe4\\xfa\\x00\\xa3\\xcbR0\\xc8~v\\xa8<\\x8c\\x81\\xbf`\\xb5\\x87}\\xbcS\\xd30\\xd1A\\xf5\\x1f\\xa9\\xc2\\xdd\\xa6\\xe5\\xc7\\xbb.\\xc5\\x80u\\xeb\\xeb\\xa8\\xcb\\x887\\xc9*\\xaa\\xa7\\xa7\\xf1\\xc3S\\xd0\\xd5,MO\\x1berT0g\\xc7s\\x93\\x80\\x0fA\\x8f^\\xba\\x93\\x94\\xe0\\x83\\xef\\x9d@\\xfb\\xa2\\x89\\xf6f\\xf4\\xae\\x15*\\xd3\\xd0V\\x93#\\xf3d\\xf8\\x90\\xb3\\x13\\xcd\\xee\\xc8\\xd9\\xf7\\xef\\xeb\\xadv+\\x1c\\x92S\\x11\\x11\\xeb\\xb6\\xf1\\xc3\\xdfR\\xf7\\x05\\xa9\\x82\\x92\\xba7\\xd44\\x16\\x9c\\xae\\x7f\\xa9:;\\xb3\\xc0g\\xa8]\\xdbu\\xf6\\x17\\x00K P|\\xdb\\xd7\\xeb\\xa9g\\x80\\xd1\\xab\\xf1B\\xdb)\\xea\\xb1A3\\x02:\\xf5e\\x11.>\\xa6MW\\x9b\\x9d\\x19\\xb5\\xd5\\x85G\\xf1 q\\xcd\\x1b\\xe79\\x1e\\x99\\xf3\\xc7\\xae\\xa7_\\x84\\xea\\x97\\xab\\xe2\\x1d\\xb27\\x1c\\xeb\\xf8\\x84L\\x9f%U\\x92c\\xfa\\x18\\x97\\\\\\xe3\\xa2\\x17\\xda\\x1c\\x0f\\x92\\xec\\xf8\\x8c\\xc5\\xb4\\x927~\\x9e!\\\\\\xaa\\x8b\\xa07J\\x90\\x0eD\\xd78-\\xd1\\x8fdS#\\xe3\\xe9\\xf3gQ\\x87\\xc4n\\xe9\\x1bg\\x82\\xdb\\xce\\xe7\\x82e\\xa8\\xa74\\xd1(8,\\xf30\\x8c\\x00~\\x8cO\\xd0i\\x93nW\\xbd\\xc2\\xb6\\xcc[\\xab<\\x97;\\x91>\\xe0\\x88\\x90\\xfe\\xae@\\xd5v\\xf8\\xfb\\xde\\xe9j\\xb2\\xed=\\x9d\\x03\\x97\\xa9\\xad\\x9aK\\x9dDI\\xd5\\xbc8\\xc1H\\xc1\\x03\\xc8\\xb39\\x19\\xfe]9\\x14_\\xca\\xd6{\\xcb/\\xc2\\xe7nxcK\\xc9\\xd1T\\r\\xd1\\xb9\\xae7\\xe0El\\xfe\\x1d*\\x80\\x16\\x92\"V%\\x03\\xa0\\xc8\\xfe#\\xf5\\xd2\\xad\\xda\\x8d\\xa9\\xe8\\xa3\\x92L\\xc6dl,X\\xc1\\xc0\\x19$\\xfay`~\\xbao\\xb1m\\xaa\\xbb\\xcdb\\x15\\x85\\xa6\\x97?*\"\\x96\\t\\xef\\x81\\xdc\\xfb\\xf6\\x1f\\xd7^8\\xa1\\xb5\\xaa,\\xd7\\x0bM\\xb5\\xe3T\\xa9\\x92#3/0f\\x00\\x9c\\x0eb:\\x03\\xd3\\xb0\\xed\\xab\\xe9\\xe9D4\\xce\\x90\\x8bn\\x03\\xaf\\xf2\\xaaY\\x88K\\x88\\xd75\\x80\\x97q<y\\x0eW\\xb2I\\xb3\\xdae\\xbc\\xd6\\x08S\\xe5A\\xd6G\\xc7E\\x1f\\xf7=\\x80\\xd4\\xd5\\xc3\\xbbr%\\xd3\\xf0\\xf4\\xa9\\xc8\\xb4\\xf4\\xcc\\xca\\x07pr\\x00$\\xfa\\x923\\x9d(\\xda-\\xb1\\xdah\\xd6\\x18\\xc7\\xccz\\xbby\\xb1\\xf5?N\\xc3RO\\x08\\xe9cj\\xbb\\xedY\\'\\xc5\\x8a\\x9e%\\x03\\xdb.\\xc4\\xfe\\xb8\\xd3\\x18\\\\?\\xf9,\\xbf\\xbc\\x96\\xa3\\x18\\x87\\xe50\\x99\\t\\xfb\\x9da\\xe22V\\x7f\\xfd \\x1b\\x9e\\x8b~\\xf07\\x847\\xfa)\\x8c\\xabQ,\\xca\\xe4\\x8c\\x1eq\\x1cA\\xc1\\x1e\\xa1\\x83\\rP\\xcb\\xad\\xaa+\\x9c@6\\x12e\\x1f$\\x80u_c\\xea=\\xb5|~5\\xb6\\xb4V\\x1f\\x87.\\x16[)(\\x92\\x96;p2\\xca\\xa8\\xb8\\xc4\\x8f\\x1cE\\xc9\\'\\xcc\\xb319\\xf3\\xd5\\x1e)\\x8e\\xfaD\\xad\\xbbZ\\x1d\\xc3\\xf2R~\\x19\\x8c:\\x92V8e\\xb5\\xbf\\xa8%}\\xbdo\\xa8\\xfd\\xad=!\\x81\\xa4u\\x89\\x8b\\xa2\\x8en\\x9d\\x0eq\\xe6<\\xf5n\\xbe\\x1c/\\x89Eg\\xe1<\\x8c\\xecE\\xab|\\xd6[I,\\tH\\xebh\\xb2\\xa0\\x93\\xe4]q\\xa8+`\\xc0\\x87vS\\xc8F$\\xf0\\xda0\\xdex>_\\xae\\xa7\\x14\\xb3\\x85\\xda\\xd5\\xa6\\xdcc\\xa2\\xae\\xa7\\xbb[\\xef\\x11\\xc8\\xab\\x80\\xd2\\xc2\\xd2\\x00H\\x1d\\x89\\x0c\\x01#\\xdbV\\x14\\xf4\\xdd=\\x19h\\xd4:\\xdd\\xf6\\x1f\\x95\\x9d\\xc5\\xd8\\xea,H\\xd8\\xe4Z\\x0fu\\xfd,\\xad\\xaf\\x1e\\xed\\xe6\\xa7e\\xd7U\\xa0&j\\x1a)\\xea\\x94\\x8e\\xf9\\x88\\xac\\x87\\x1fem\\'\\xf1\\x02\\xb6+\\xc7\\r8\\xafi\\x07\\x9c\\xdb\\xaa).\\xb0\\x0f\\xfe\\xcc\\xf1\\xc3:\\x91\\xfe\\xf0\\x97R\\xde\\xe3H7.\\xd7\\x96Q\\x86\\xa6\\xac\\xb7\\xceG\\xa7$\\xb4\\xed\\xff\\x00B5S\\xed\\xbb\\x99\\xeb\\xdfy\\xd1\\x89]\\x05\\xd7\\x83\\xf6\\xfa\\xc6\\x90\\x11\\x8f\\x1e\\x9a\\'\\x00\\x8c\\xe7\\xa8Y\\t\\xea<\\xb5\\x99\\x89\\xa6H\\xb6\\x7f\\xc7\\xd5X\\x19\\xba\\x19\\x98\\xee`\\xa8\\xb9\\xd8F\\xac\\xc7\\xb0\\x04\\x9f\\xb0\\xce\\xa3\\xfb\\x9d{\\xcbP\\xeeNI$\\x9dnl\\xdd\\xfa\\x97\\xecZ\\xee,\\x91]\\n\\x11\\x1c\\x83\\xa2T\\x8cu v\\x0c\\x07R\\xbe}\\xc7N\\x83\\x8f\\\\\\x8e\\'d\\xc1/\\xcd\\xca\\x14w\\xceq\\x8f\\xd7H\\x8a3\\x1b\\x8b^3]O\\xe6\\x19S\\x1bd\\x88\\xdc\\x15\\xb3Mux\\x831f\\t\\x18\\xe6b;\\xe38\\x00{\\x92p=\\xf5!\\xf0\\xfe\\xe6n\\x9bb\\xa4<\\x0b\\x03\\xc7U!r\\x99\\xe5r\\xd8l\\x8c\\xf9\\x8c\\xe0\\xe3\\xeb\\xdc\\xea<\\xa2\\xb4\\xcbt\\xb8S\\xda\\xe9\\x07<\\x86NVa\\xd9\\xa4\\xc1\\x04\\x93\\xfc\\xa82>\\xbc\\xc7\\xd3SJZ \\xb0Y\\xe0\\xb7\\xd3\\x0cE\\n\\xe0\\xb7\\x9b\\xb1\\xeaX\\xfb\\x93\\xd7[\\x8c\\x1e\\x93\\xa3\\x06\\xa1\\xda\\x9f/\\xde\\xbd\\xcb\\x90\\xfcM\\x8a\\x1a\\xb9\\xfeR3\\xf4G\\xaf7~\\xb4\\xeb\\xba\\xdf\\xdb\\xb7:j\\xda\\xcb-Mh\\x0e(jR\\xdf\\\\\\x0f\\xf1RLyA>\\xca[\\x19\\xf2\\xce\\xadB\\xed\\xaa=\\xfd\\xf0\\xd7S\\xf8\\xa63n\\x1d\\xb9<\\x94RDz\\x99$\\xa6f\\x04\\x83\\xdc\\x16\\x84\\x12=N\\xa9$\\x15\\x82\\x82\\xea\\xc2B\\x7f\\rP\\xa6\\x9ep?\\x91\\x862=\\xc1\\xc1\\x1fMZ_\\x87\\xcd\\xee\\xf5[\\x8a\\xedIP\\xe0\\xad\\xcc\\xc7R\\xc8NU\\xa7\\x11\\x95\\x90\\xe3\\xb1\\xe6*\\xff\\x00\\xae\\x93\\x8d\\xb2\\xe1\\xb5 f5\\xec\\xf5\\x1eJ\\x83\\x0c.p0\\x07Z\\xc6\\xe3\\xabx\\xea\\xf5Y\\xf8k\\xba\\xab+(\\xaa65\\xdeF\\xa8\\xb6UR\\xb7\\xec\\xeb\\xa3)sL\\x10\\x19\\x02\\xca\\x07V\\x89p\\\\\\x11\\x92\\x98b2\\xa5\\x94\\xae\\xdc!\\x9fh]\\x1e\\x8e\\xe6\\x9f\\x83\\x9d*\"\\x9e\\x07\\r\\xcc\\xb1\\xd4\\x02B20\\xe8\\xc9\"\\xb3\\xe0\\x8e\\x84\\xf2\\x93\\xd4c[\\xf6\\xa9\\xe7\\xd8;\\xcdZ L\\xf6j\\xf0\\xd1\\x83\\xd3\\x98#\\x06A\\xf4e \\x1fbu.|J\\xec\\xcb%\\xbe\\xd9l\\xb9\\x84\\xfc>\\xd8\\xba\\x0cCp\\x8d\\x0b\\x0bd\\xcc<D%GS\\x03\\x80IQ\\xf9\\n\\x920\\x08\\x02\\x96\\xf6\\xb3\\x9b\\xa1Vr9\\xb0\\xce#p\\xb0\\x7f\\x98\\xf5R\\xcf\\x04\\xf7\\x02\\xee(\\xebd\\x91\\xc4\\xa9]I\\rAV\\xea\\x19\\xb2\\xeb( \\xf7\\xc7\\xc8\\x0e\\x97\\xab~\\x11\\xecU5\\xb5\\x13S\\xde\\xee\\x94pI#<t\\xd18\\xe4\\x89I\\xc8E\\xcf\\x90\\x1d\\x07\\xd3J\\xdf\\x0cW\\x1a\\xabV\\xf3\\x92\\xc1\\\\\\x14?\\xe1f\\x9a\\x06F\\r\\x1c\\x88\\xe6&\\x0c\\x8c:2\\x9eBA\\x1f\\xccs\\xd4j\\xd3i\\xb8I\\x8d\\xbb-+7\\x88\\x97AT\\xed\\x83k\\xd8\\xa8\\xfa\\xef\\xff\\x00\\xd7{\\xcd-+\\x89,\\x96\\x86\\x13\\xd6\\x9e\\xeb<\\xfdyb>\\xa0u\\xc8\\xea\\x0f\\xcc\\x08\\x04\\x03\\xad\\x0f\\x88{\\x8dD\\x1c;\\x92\\xd9E\\x9f\\xc7^\\xaa\\xa2\\xb7C\\xe89\\x89w\\'\\xd8$nO\\xb6t\\xdd\\xb2\\xf6\\xe0\\xda\\xd68\\xe9\\x1d\\x84\\xb5r1\\x9e\\xaal\\x92e\\x99\\x8eY\\x89 \\x13\\xe4\\x01#8\\x03:\\x87x\\xeb\\xbd\\x04\\x15\\xb5\\x92\\xc4A[J~\\x12\\x94w\\xe6\\xab\\x94\\x02\\xec<\\x8f*\\x14\\x00\\x8e\\xc4\\xca\\x0e\\x92\\xf7\\x166\\xe3R\\x91G\\x1fOR\\xc67\\xedo\\xe3\\x7fj\\x8c\\xe9\\xec\\xef}\\xbaZ\\xf6M\\x81\\xd9S\\x02\\x81&\\xfc\\xde\\x14+\\xd6y\\xdb\\xd4\\x92\\x0f~\\xe5H\\xfe!\\xa9\\xcb\\x88_\\x83\\xdbv\\xbb&\\xd7\\xb7\\xaf\\x81AA\\x08\\xa8x\\xc7\\\\*\\x0eXA\\xc8\\xeaKs>{\\xf3E\\x93\\xdf\\\\\\x7f\\x86\\r\\x82m\\x1b~]\\xd1\\\\\\xa5\\xab\\xae\\x8b\\xe1\\xd3\\x17\\x1dV\\x98\\x1c\\xe4\\x7f\\xf9\\x18s{\\xaa\\xa1\\xd2\\xd7\\x10\\xb7Z\\xd6_j\\xeb\\x03+\\xadMK\\x98\\x83\\x9f\\x97\\xc1\\x84\\x14\\x8f$\\x7f\\x030i\\t\\xfeVmG\\x97\\xf8\\xa2\\xd9\\x1a\\x9fg\\xc1^\\x07\\x8a\\xca\\xf0\\xd1\\xf6G\\xe6\\xa3^5n\\xb7\\xb3S\\x1a\\x95\\xe5o\\xd9\\xaa\\x0c0\\xb7i\\xab\\xa4\\x00D\\xa4y\\xac`\\x87o\\xaa\\x8f3\\xaa\\x81A\\\\j\\xb7\\x84N\\x1c\\xca\\xaa\\xc61)9.pr\\xc4\\xfa\\x96$\\x9f\\xae\\xa5n=\\xeei\\xaa \\xa1\\xcc\\x8f\\x9a\\x82\\xf3\\xc0\\x8d\\xd1\\xb9K2\\x89\\x18\\x0f\\xe2f\\xf1\\x1f\\xdb\\x94\\x01\\xd0\\rE\\xfbF\\xd4b\\x9e9\\xd9\\x7f)\\xc8\\xcf\\xae1\\xadv\\rO\\xd0\\xd3\\x03\\xbd\\xdeC\\xf7u\\x0f\\x14\\x9b\\xa6\\xa9\\xd8\\xdc\\xdf3\\xaf\\xe3\\xc5;i_\\x88\\x1bO\\xfbWde\\x88\\x7f\\x7f\\xa7\\xcc\\x94\\xe4\\xff\\x00\\x11\\xc7T\\'\\xd0\\x81\\xd3\\xdf\\x1ah\\xd7\\x93\\xdfZ2\\x01\\x16*\\x01\\x17\\x16*\\xb7S\\xd5\\x1a\\x9bk\\xd1J9g\\xa3%\\xa3V\\x18<\\x80\\xe1\\x94\\x83\\xe6\\xa7\\xcb\\xd3\\x1e\\x9a\\x9c\\xfe\\x13\\xee\\xb0\\xd0\\xf1\\n\\xcfLH3T\\x8b\\x8b\\xaf^\\xaac\\xa2\\xc8\\xe9\\xfe\\xf9\\xd2G\\x15v4\\xc2V\\xdc6\\x94\\xc4\\xa9\\xf3\\xd5D\\xab\\x9f,\\x19\\x00\\x1d\\xc1\\x04\\x86\\x1ec\\xaf\\xae\\xb5>\\x19\\xae\\x02\\xd1\\xc5\\xad\\x9d,\\xf3\\xf8\\x8f=\\xc6\\xae\\x9c\\xbb\\x1c\\x00j)L`\\x01\\xe9\\x90\\x00\\xce\\xb0\\xf5\\xb8s\\xa3{\\xcb>\\xd2\\t\\xf5[\\x8a\\\\|>\\x85\\xb4\\x93g !\\xb7\\xe2\\xdd\\x01\\xeb\\x1av]]\\x8e\\x16U\\x0b\\x95\\xe2(\\x17\\xa9\\xa3\\xdb\\xf0\\x12s\\xd05El\\xcc\\x7fQ\\n\\xea\\xb1qGl\\x8e)\\xf1\\x8bp\\xee{\\xb4\\xcd\\xfb1d\\x14\\x16\\xeaX\\x9b\\x0c\\xd4\\xd0\\xe5C3y\\x06nv\\xc0\\xeay\\xba\\x91\\xa9\\xbb\\x847\\xa4\\xb6\\xdb\\xb8\\x81uWc-\\x1d\\x9a\\x925\\r\\x8f\\x94\\xc2jT\\x01\\xf5f\\xd4?[_\\x05\\x96\\xde\\xb2N\\xdd\\x11B\\xaa\\x8e\\xec@\\xc6\\x07\\xd7\\xcc\\xe9\\xfc*\\x98|\\xc4\\xb2?\\xfa\\xda\\xdd\\xa2\\xe5Qb\\xb2\\xde&F7\\x92{\\xb2\\x0b_\\xc3\\xb6\\xedK~)\\xa9\\xe2\\xa6@0\\xb1\\xc4\\xa0\\x17>\\x84\\xf7>\\xe4\\x9dA\\x9b\\xea\\xa8\\xde7|\\xd5\\xb2\\xe1\\x9cD\\xb1\\xaf\\xa2\\x80I\\xc0\\xd3\\xb5\\xda\\xf55\\xd2\\xa5\\xe7\\x99\\xb0\\x008\\x19\\xc0@:\\xe0g\\xc8y\\x9dGw\\x19\\rE|\\xcd\\xdc\\xe4\\x0c\\xfd\\x00\\xcf\\xf5\\xd4\\xac^@X\\xc6\\x0e7\\xee\\xff\\x00j\\xd7\\xe1\\x18D\\x952JFM\\x16\\xed\\'\\xf4V\\xb8\\x19\\xd4\\xcd\\xf0\\x9f\\xb4jw\\xc7\\x13^\\xdd\\x04KQM\\x14M_]\\x13d\\x97\\x82\\x12\\xacT\\x01\\xd4\\x96+\\xc9\\xf4-\\xa8mFp\\x06\\xa5\\xef\\x82\\xce7[8\\x1b\\xc6\\xaa\\xab\\xcd\\xee\\x8a\\xaa{ep4OYN\\x0b\\x08$\\xc3\\x14V\\x18?+\\x1e\\xf89\\x00\\x12\\x01\\xeb\\xaa\\x8a7\\x86=\\xcf;\\x81ZO\\x8aD\\x8f\\xa5\\x8e\\x18\\x85\\xdc\\xe7\\x8c\\xb8\\xd88\\xab[\\xf1wq\\xa4\\xe2/\\xc3\\x95m\\xd6\\x96\\xddQ\\x05\\xce\\xcd4/Y$\\xaedNW \\x13\\x1b\\x0e\\x80`6W\\x00\\x8e\\x99\\xf5?<\\n\\xe4\\xfb\\xea\\xefq\\xd3\\x88\\xfcH\\xf8\\x84\\xe1v\\xf7\\xaa\\xb6\\xacv=\\x89eSq\\xbb\\xd58\"K\\x93\\x06\\x02*d\\x1dHE\\\\d\\x0e\\x83\\x04\\xb3\\x168\\x14\\x95\\x14\\xb1\\xc0\\xeet\\xcc\\xf2\\xb6B6\\x05\\x80\\xd3\\xf5\\xcb\\x82\\xf7\\xe1\\x9aii`\\x929\\x88\\xdb\\xda\\xb9\\x17\\xb9nC#\\xcf\\x96\\xed\\xf9\\xe4\\xb7v\\xe5p\\xb4\\xdei\\xea\\xdf\\xa2F\\xc0\\xb7\\xd0\\x90\\x0f\\xf4\\xd5\\x8a\\xa3+\\xe0\\xa2\\xa9\\xe7\\x8au\\x040=\\x08\\x18 \\x8f\\xa8\\xd4\\rE`j\\xc8\\x99\\xc2d`)_\\xe6\\xc9\\x03\\x1f\\xd7R>\\xc7\\xbcOo\\xaf\\x83n\\\\\\xc1J\\x9ay\\x1b\\xc1g\\xe9\\xcc\\xb8\\'\\x1d{\\xfa\\x8f\\xb8\\xd5\\xde\\x10\\xf0\\xf8\\xdc\\xd1\\xfeC\\xf1\\xe8\\xa8\\xbe*oG[\\x13\\x8e\\xf6~O\\xaa\\xbb[\\n\\xf8\\x95\\x9c\\x10\\x8e\\xa5\\xdb-Gn\\xa8\\xa7rO\\x9cJ\\xca?\\xa0S\\xf7\\xd5Z\\xb4\\xed\\xef\\n\\xeb[_I1\\x01\\xb6\\x85M\\x95i%\\xc7(QJU0\\xc4\\xe4\\x00\\xc7\\xaes\\xa9[m\\xee\\xa8\\xec\\xbc\\x03\\xde\\xe9$\\x9c\\x85*\\x92\\x9e0zu\\xa8TP\\x07\\xe8\\xc4\\xfd\\xf5\\x1a\\xd1Ux\\x08\\x02\\xb1&H\\xcc@\\x93\\xd7\\x04u\\xfe\\x83M\\xd1\\xd1\\x00\\xfa\\x91l\\xb6\\x88\\x1e\\x7f\\x95GQ8sb\\xbe\\xa0]U\\xad\\xd5\\xc3\\xea\\xabc\\xf2\\xc9\\x04\\xb6\\xca\\xa5!\\x946|69\\xc8da\\xd8\\x83\\xd4\\x15?ml\\xdan\\xb5\\xf5J\\x7f\\x1f\\x19[\\x9cg\\x97\\xc7\\x00\\x15\\x93\\xa6\\x04\\xa0\\x8e\\x99\\x03\\xa9\\x1em\\x83\\xe7\\xab1]I\\x15u#\\xc1<I4L:\\xc7\"\\x86\\x07\\xect\\x86\\xfc2\\xb6OR\\x08\\x13S\\xaeA)\\x1b|\\xa4g\\xa8\\xc1\\x07\\x19\\xf6\\xd5\\x8c\\xf8L2\\xbc>\\xdf\\xb4\\xd5&/]B\\xc7G\\x13\\xae\\x08\\xb6{\\xb9\\x8e\\xad\\xcbc\\x85[eh-\\xe6\\xe9*r\\xc9:\\xf8p\\x06\\xee\\xb1\\x83\\xd5\\xba\\xf9\\xb1\\x1d\\xfd>\\xbam\\xbaG\\xcd\\x19#\\xd3[\\xb1\"E\\x12$j\\x125P\\xaa\\xab\\xd0\\x00\\x06\\x00\\x1fA\\xa2X\\xc4\\x88A\\xd5\\xdbZ\\x1a\\xdd\\x90\\xaa@\\xb0\\xb2\\x8d\\xeeP\\x91>H\\xecs\\xa7\\xee\\x0f\\xdf*-\\x9b\\x9c\\x84r\\x1f\\xc1Z\\x88\\t=\\x9d\\x18d}\\xd4\\x83\\xf4\\xce\\xb8w[9\\xe7-\\x8c\\x83\\xd7Z6\\xfa\\xb9,\\x17\\nj\\xf5\\x194\\xb2\\t\\x18\\x0e\\xec\\x83!\\xc7\\xddI\\x1a\\x83U\\x0fK\\x13\\x99d\\xbai:\\t\\x9a\\xfd\\xca\\xcf\\xf1\\x12$\\xad\\xdd\\x14WZA\\xfb\\xab\\xb5\\xbcT\\xae?\\xf3\"\\xe8\\xe3\\xea\\x14\\x8c\\xff\\x00\\x97V7\\x87\\xd6\\xfan0|<-\\x82\\xa9\\xd5\\xa5H^\\x83\\x9d\\xc6DrFA\\x85\\x8f\\xae\\x14\\xc4O\\xa8\\xc8\\xf3\\xd5h\\xa1\\xafI-\\xd6p\\xe7\\xc4[U\\xd6)\\x01\\x1dA\\xa4\\xa8\\x1c\\x8f\\x8f`Y[\\xe8u?|+T=\\xaa\\xb3tm\\xc9\\xdb\\x06\\x19Vh\\xd4\\xfa\\xab\\x18\\xdc\\xfe\\x9e\\x16\\xb0\\xd1\\x9d\\x81\\xb1\\xc3\\xdf\\x95\\x95\\xf6,\\xc2`\\xe9[\\xabH?\\x85\\\\xK\\xbc\\xef\\xfc\"\\xbc\\xda(*\\xa0\\x9ah)\\xaa\\x9e\\x85c\\xe4\\x12\\xcdn\\xa8\\xe6h\\x9d@$\\x16\\x89\\x88\\xc3F\\x08\\xeb\\xd5H`\\x0e\\xae5/\\x1c\\xe8\\'\\xa6\\x86F\\xa1\\x99\\x8b\\xa0ba\\xab\\xa6(r?\\x84\\xb3\\xabc\\xd3 \\x1fP;j\\xb0\\xfcE\\xda\\xff\\x00dqCq:\\xa7\\xeeZ\\xba\\t\\xcf\\x90>\"DX\\x1cz\\x92\\xff\\x00\\xd7]jn3M\\x1d4IS\\xb3v\\xb5\\xce\\xa1P\\tkk`S=Cc\\xac\\x92\\x1e_\\xce\\xc7\\xa9\\xf7\\'N\\xb9\\xbbF\\xed6LON*\\xd9\\x1c\\xdd\\x1e\\xd1 hl\\xae\\x16\\xe6\\xbeG\\xb6\\xf6\\xfd}\\xd2D2-,- \\x8c\\x1e\\xb20\\x1f*\\x0fv8\\x03\\xdc\\x8dUZ\\xcb\\x05O\\x10x\\x81d\\xda^+H\\x14\\x9a\\xab\\x9dDy\\x1f3\\x12\\xf3\\xc9\\x91\\xd8\\x9eb\\x01\\xf2iWS\\xb7\\x19n\\xab\\r=\\xaa\\xda[\\t,\\xad[?^\\x9e\\x14\\x000\\xcf\\xd2V\\x84\\x8f\\xf2\\x9d%\\xfc,\\xd1\\xc3|\\x8ftn\\xc6\\x1c\\xd5\\x155\\xcdC\\x1b\\x1f\\xe1\\x8d\\x02\\xb3`\\xfb\\xb3\\x85?\\xfe!\\xa8\\xc7\\xea\\x94\\r\\xc3>\\xd2\\xab\\xa9\\x0f\\xcaQ\\xc9S\\xfd\\x9d\\x90R\\xd6\\xed\\xad\\x1bWeW=\\n$\\x0fON \\xa3\\x8d@\\n\\xb2\\x10\\x12\\x15\\x03\\xb0\\x1c\\xc5\\x00\\x1a\\xa9U\\xd5\\x14[\\x83\\x88\\x146Fy^\\xcc\\x89\\x15-D\\x908\\r\\x1d*\\x92Y\\x819\\x00\\xb1\\x1c\\xc4\\xff\\x00*.?6\\xa7_\\x89\\xbd\\xd7\\xfd\\x9a\\xd8\\xf4\\xca\\x1b\\x1e-I\\x92@\\x0e\\x0f$q\\xb3\\x02=\\xfcO\\x08\\x03\\xe4H\\xd5C\\xbb\\xde\\xa5\\xda|%\\xb8\\xdef!o[\\x9eQn\\xa4\\x03\\xa1Uq\\x99X\\x03\\xd4\\x00\\x8a@>@\\r\\x05\\x86IZ\\x06\\xb9\\x01\\xd6O\\xe1L\\xc2\\x98\\x19M$\\xce6\\xbd\\xfc\\x02\\x8c\\xb8\\xad[A\\xbb\\xf8\\xa5y\\xa8\\xb4.,pM\\xf8z\\x1f\\x9c\\xb80\\xc6\\x04h\\xc0\\x92I\\xe6\\x0b\\xce:\\xff\\x00\\x16\\xb0R\\xc0\\xb4\\xe8\\x00\\x18\\x1eZ\\xc1n\\xa4X#\\x18\\x18\\xf6\\x1a\\xdc`p@\\xd7I\\x8d\\x81\\x8d\\r\\x1b\\x95\\x1b/\\xa9\\xd4\\xacs\\\\\\xe1\\x83\\xa3\\x12q\\xdf\\x03:\\xc6\\x97\\xaa\\'8\\xf1\\xc27\\xa3\\x82?\\xe7\\xac3\\xdb^\\xa0\\x9e\\xaa\\x83\\xd4\\xff\\x00\\xdbX\\x7f\\xb3T\\xef\\xfe\\xb6G\\x7fP\\xb8\\x03\\xfe\\xfa]\\xdc\\x9c\\xb9]D\\x9e9\\x06RDq\\xea\\x18\\x11\\xae\\x05\\xbbm\\xda\\xb6\\xd5\\xdf\\xf6\\x9d\\xb6\\x9e:z\\xb6\\x97\\xc5S\\xcc\\n\\xc7 \\xc3\\x02\\x80\\x9c($`\\xe3\\xd7[i\\xb5\\xedP\\x9eo\\xc2\\x07oY\\x18\\x9f\\xe8N5\\xf95\\x86\\xd7V\\xa5M,}:\\x13\\x19*T\\xfdA\\xff\\x00\\x9e\\x9bsv\\xc5\\x9c\\x12\\x03\\x8bN\\xd2\\xec\\xdb\\xb7\\xa5\\x1d\\x96\\xdf\\xbe\\xa3Y\\xd5\\xd6\\xe3Bd\\x8e5a\\xccG\\xe2Q\\xf1\\xed\\x85f\\x07P\\xed\\xea\\xfd=\\xe2\\xa8\\xcb+aFyT\\x1e\\x8a=\\x07\\xfdN\\xbb[\\xa7l\\xd1Z\\xe9\\xe5\\x98\\\\\\xd2\\x12\\xa00\\x82\\xa1\\xc0r\\x07`\\xb8\\xeas\\xe9\\x8e\\xba\\xe3l;2nZ\\xc9\\xebj\\xd0\\xb5\\xba\\x9b\\x05`a\\x81#\\x8c\\x90\\\\\\x1e\\xe0c8=;gP#\\x87\\xa2%\\xa3}\\xbc\\x00\\x1f\\x85\\xedD\\xc6b.8\\xf9\\xddpo\\x14\\xb3\\xdcm\\xe4\\x92\\xf0[\\x88\\xe6y\\x07F\\x98\\x020\\xa9\\xe8\\xa4\\xf7>}\\x87\\x99\\xd2\\xea\\x82\\xec\\xccGV$\\x9f\\xa99\\xd3\\xee\\xfc\\xaf\\xfcE$\\x8c\\x0e\\x04\\xb2\\xacj\\x07\\xa0\\xc98\\x1fA\\xa5Ku\\xb8\\xd4u\\xc7O]f\\xf1g\\x81(\\x1c\\x02\\xea\\x1f\\x07AjY%\\xff\\x00\\'[\\xb8~\\xca\\xd0D\\xe5 \\x9f][?\\xf4op\\xde\\xc9\\xbe\\xed\\xfcE\\xa6\\xdc\\x94\\xf4\\x17\\x1aZ\\x89a\\xa6keiR\\xd3\\x12\\xa5\\xc3*\\x13\\x93\\xca\\x1f!\\x87P{\\x1dUK\\x9a~\\x1e9@\\x18!N>\\xb88\\xd3\\xa6\\xdb\\xb2\\xd0&\\xe1\\xba\\xc9\\x97\\x89\\xe2\\x8a\\x99\\x0c\\x911S\\xe2\\x08\\xc08#\\xa8#\\x1eZ\\xade@\\xa5\\x82I]\\xc8w\\xdf\\xd1Zb\\xf8c\\xf1z\\xaaz(\\xdf\\xb0~\\xb7_\\x85\\xb6m\\xc3\\x8a\\xfaW\\xf1\\x7fs\\xd9\\\\4\\xe0\\x8e\\xf3\\xb5\\xd4\\xcdGg\\xac\\xdc6F\\xb7\\xd0RE\\x19\\x06Y\"R\\x11UT\\x10\\xa0\\x06\\x03$\\x01\\xd3\\xbe\\xbeQ\\xdahL\\xd2&A\\xcfL\\x8dH;\\x8a\\x86\\x8ek]\\xc2i*\\xeaj\\xaa<\\x12\\x15\\xa7\\x90\\xb1$c\\x00\\x93\\x92@\\xf4\\xce\\xb8\\xfbv\\xdb\\x96\\x0cGN\\xe7U\\xee\\xac\\x13\\x02\\xe0\\x08\\xb6Y\\xabl\\'\\x00\\xff\\x00\\x84a\\x84\\xc9\\xb6\\xe7fN\\xeb\\xe8\\xbbT\\xb4\\xa2\\x8a\\xd8\\xe5F\\x19W\\x98\\x1fpA\\xcf\\xf4\\xd3\\x1e\\xe5\\xb1\\xae\\xee\\xa6I\\xa9\\x88\\x8a\\xefH\\xa5\\xa2l\\xf2\\x96$\\x82\\x14\\x9e\\xe0\\x1c\\x1c\\x1f#\\x8drj\\x174\\xd3(\\xf3\\x8d\\x80\\x1fc\\x8dnK[-\\'\\x83S\\x03a\\xc2\\x86\\x19\\xec\\xc0\\x80H#\\xcc\\x1dh\\xbe\\x1ev\\xd3f\\x07\\x97\\xe5d~8n\\xcb\\xe9\\xdd\\xc9\\xc3\\xcb\\xd5t\\xec|B\\x8a}\\x87.\\xdc\\xbd\\xcc\\xb0V\\xd6\\xdcX\\xcc]pTG\\x00D\\xf1\\x00\\xfc\\xa4\\xb4\\x8f\\x83\\xd8\\xf2\\xe7\\xdf^v=\\xe0\\\\\\xe9\\x0c\\x12\\xb0j\\xba2T\\x9c\\xe7\\x98u\\x01\\x87\\xaf\\xa6\\xb9w\\xdd\\xbfM\\xbe(\\xff\\x00i\\xdbJ\\xc1t@\\x12Tc\\x81!\\x03\\xa2\\xbe<\\xc0\\xec\\xde\\x9f\\xa6\\x92l\\xf7:\\x9d\\xb3|\\x0ecx\\xa7\\x81\\xb9\\'\\xa7~\\x87\\x04uS\\xe4A\\x1dA\\x1d\\x0fq\\xadS\\x07By\\x13{\\xf5\\xaed\\xe9\\\\H\\xbe\\x80YNy\\x1a\\xf3\\xca9\\xb3\\x8f\\xbe\\xb0\\xd2U\\xc5]K\\x15D\\x0f\\xcf\\x14\\xaa\\x19[\\xd8\\xf9\\x1fq\\xd8\\xeb6\\xa7\\'n\\xb2\\x03\\xe5\\xaf\\xddc\\x07\\x1a\\xfd\\xe7\\xe9\\xd7B\\xf5y\\x95\\x15\\xd4\\x822\\x0f\\x96\\xb8\\xb7\\n\\x15\\x00\\x90>\\xa3]Y\\xa5\\xe5\\x07\\\\z\\xdb\\x88RP\\x9f`t\\x92\\x92\\xed\\x14\\x8d\\xc3{\\xcf\\xed+*RJ\\xc7\\x9e\\x8c-\\x1c\\xc3?\\x9a5\\xe5h\\xd8\\xff\\x00\\xba\\x14}T\\xea\\xd7\\xf0\\xcaG\\xb5q~\\x92\\xa4\\xe1\\x12\\xebHRO \\x19\\xa3\\x05\\xbe\\xfc\\xf0\\xa8\\xfa\\x9dQ]\\x83{\\x16\\xcd\\xe9I\\x13\\xb6)\\xae_\\xdc\\xe49\\xec\\xe4\\x93\\x19\\xff\\x00\\xd5\\xcc\\xbf\\xef\\xea\\xf0[j\\x043X\\xee\\xbd\\x7fr\\xf0UH\\xdd\\xba?\\x85R\\xe3\\xa7\\x90\\x0c\\xeb\\xf6\\xd6\\x03\\x12\\x8f\\xe5\\xe7\\x04i\\x7f\\x03\\xfe\\x96\\x829>f\\x94\\xb0\\xeb\\xb2Gkt\\xf3Z?\\x14{x\\xd5\\xdc\\xb7L\\xf1Fd\\x94Zhk\\x95UI$\\xa4\\xb3+\\x00\\x07S\\xf2\\xa0\\xed\\xa8G\\x97=uj\\xf8\\xd9\\x07-\\xee\\xb2R\\xbd%\\xb1\\xba\\xe4\\xf6%\\x1aC\\x8f\\xb7\\x89\\xa5{\\xcf\\xc2\\xc5\\xce\\xaa\\xf1]=\\x05\\xe2\\x9e\\x92\\x86I\\xe4x)\\xf9[\\xf7Q\\x96%W\\xbf\\x90\\xc0\\xfbj3\\x1dw\\xbd\\xbc-\\xe4\\x12)\\xabc\\x82\\x9a!&\\xf0|\\n\\xe8q\\xd6\\xe5=u\\xf2\\xe9KH\\x0b\\xd4\\xf84\\xb6\\x8ad\\x1d\\xcc\\xf31b\\x07\\xd4I\\x08?M0\\xfc&Y\\xd6\\xcf\\xc1\\x1bB\\x06.f\\xa9\\xab\\x94\\xb9\\xee\\xd8\\xa8u\\x04\\xfb\\x90\\xa0\\xeb\\x88\\xd4\\xff\\x00\\xda\\x1e5\\xd1F\\xeb\\xcf\\x1a]j\\xee2)\\xea1M\\n\\xc3\\x19?I\\x04d}5\\xd2\\xe1\\xb5\\xfd\\xb6\\x8f\\xc3M\\x15\\xc9\\x0f,\\xf1A?\\x80J\\xe7\\x12\\xbdC\\xaa\\x12<\\xc0gRG\\xa6\\xbc\\x8b\\xfb8\\xef>Y*\\xba\\xa2~Z*v\\xff\\x00\\xd4\\xf6\\x9b\\xa8c\\xe2v\\xfd[\\xc4=\\xe2\\xd6:2E\\x17:\\xdb\\xa9\\xdc\\x13\\xd6C W u\\xf22\\x1c\\x8e\\x84\"y\\x8dA|n\\xbb\\xc5y\\xe2BY\\xe8\\x8em;V\\x94[\\xe2Q\\xf9MK\\x80\\xd36=@\\x08\\xbf\\xfa\\xb5`\\xf8\\x8bMM\\xc3m\\xc6\\x95\\xd5\\xa9\\x88\\xb6\\xbe\\xd7\\x86\\xad\\xd4\\xb70j\\xb9$\\xa8\\x00\\x02{\\x92\\xce\\xea3\\xe4\\x07\\xa6\\xa9f\\xcf\\xbdOv\\xa6\\xb8UW\\xb85rUIU,\\xcc@\\x0ed%\\x89$\\xfa\\x13\\x8e\\xbeX\\xd5\\xa6\\x17\\x17KT^t`\\xf1?\\xa5:\\xa2V\\xc5A\\x1cl\\xfe\\xde@\\xff\\x00\\xa4\\xcc\\x9d\\x00\\x1a\\xca\\xa7=\\xba\\xfbk\\x9a\\x95sU\\xc8\\x12\\x92,DH\\x06\\xa6`B\\x9c\\xff\\x00\"\\xf4-\\xf58\\x1e\\xe7K\\xc6\\xf7=M\\xd6\\xd5GQX\\x19\\'\\x8eI\\xea\\xa3\\x8dDq\\x88\\xc1*\\xa0\\x10K\\x02H\\'$\\xf9ki\\xb4\\x02\\xa2\\x0eN3\\xcc\\x94\\xb14\\xb3\\xba\\xc1\\x12\\x8c\\x99%`\\xaa\\xa3\\xdc\\x92\\x06\\xb8W\\r\\xe9AG\\x02\\xca\\xae\\xef\\x0b\\x12\\x16e\\x89\\x8a1\\x1e@\\xe0\\x03\\xf6\\xd6\\x85m=\\x05L\\xc2\\x8a\\xd7I\\x14\\xb5/\\xf9\\xea\\x9f2\\x08\\x97=H,I\\x07\\xdckKq\\xd8\\r\\xd6\\xefl\\xa0\\x05\\x9a\\x8e\\x82#QT\\xc4\\x9f\\xde\\x168U\\xe9\\xe6pI\\xf4\\x19\\xd2\\\\\\xe3\\xb9\\x05\\xc7r\\xc3]\\xb8\\xae78\\x92\\xa4\\x83Mk#\\x98+K\\xe1I0\\xee0\\x00$\\x03\\xf4\\x07Y\\xecw\\xbb\\xa5\\xfau\\xa5\\xa6\\x82\\x0bU\\x14c24\\n]\\x94y\\x00O@O\\xae\\t\\xf3\\xd6\\x8d}\\x1dM\\xce\\xadA\\x07\\xa9\\n\\x88\\x06\\x00\\xcfA\\xd0v\\xd3l0Eb\\xb7%<@\\x0c\\x0c\\xb3v,Ort\\xd8\\xb9)\\xbb\\x94\\xaf\\xc4\\xab<0Zh*a@\\x86\\n\\x82\\xac\\xc7\\xab0\\x91pI\\'$\\x9c\\xa8\\xeaN\\x8d\\xa9N\\xf4|8\\x12B2\\xf5\\x01\\xa4$w\\xc1nR~\\xc0k\\xf7x\\\\\\r\\xc6\\xc3WL\\x06_\\xa4\\x89\\xf5R\\x08\\xff\\x00\\x96\\xb78c0\\xaa\\xe1\\xf5\\x9d\\xd8\\x02\\xaf\\x13\\xe4\\x1e\\xc4\\x19\\x1b\\xa7\\xe9\\xaf\\x05\\x8b\\xcfRF\\xf5\\x1d\\xee\\'3\\xd4RA\\xe4\\x03HG\\xb9\\xc0\\x1f\\xf5\\xd7b\\xd7o\\xf0i\\x17#\\x04\\x8c\\xe8\\xbb\\xdaBn\\xda\\x98A\\xe6\\x8e\\x10\\x8a\\xa7\\xd8\\x8el\\x1fq\\xcd\\xae\\xd8\\x84,x\\x03\\\\\\xeb\\x15\\x9bj\\xa5\\xc3\\x86]\\xcb\\xbf\\xfc1M\\xd0\\xe1\\x91_R/\\xdeI\\xf2\\xb2\\x8e7\\x1f\\xee^|`\\x15\\xc63\\xeaH\\xd3\\x86\\xd3\\xf0!\\xb4\\xbc\\xf5\\x11\\xf8\\x93UHeb\\xc4\\xe4\\x83\\xd0\\x13\\xd4w\\xea~\\xfaV\\xdc\\x94\\xa2\\xa2\\xe6\\xf4\\xecHY%U$w\\xc6A8\\xfa\\x81\\xa6\\x8bm\\xbe\\xae\\xb0*\\xc1M,\\x80\\x00\\x00U8\\x00t\\x03=\\xb5[3C\\xd8\\xdd\\xa7Xu\\xd9i\\xe9[\\xb33\\x9e\\x1b\\x9d\\xac\\xbd\\xdd\\x9e9)gX\\xd4\\xa0*F9\\x89\\xf3\\x1e\\xba\\xea[\\xa9\\x84\\x10\\x0e\\x98\\'X\\xee\\x1bN\\xeb\\r\\x0c\\xb2\\xc9L\\xcb\\x1a\\xaeX\\xf3\\x03\\xd0\\x10I8\\'\\xcb[\\xf8\\x03\\xa0\\xec5\\x18\\xb9\\xa5\\xb6a\\xba\\x94\\xf0v\\xeex \\x8c\\x82=A\\x1f\\xafMk\\xc9P\\x1a\\xdbLs\\xfe\\xc9?\\xa2\\x81\\xad\\x91\\xdcirj\\xdeJe\\x8f=T\\x95\\xfd\\t\\x1f\\xf4\\xd6\\xa3\\xe1\\xf7Y\\xf27\\x88\\x1e\\x7f\\xb5\\xcb\\xfe:o\\xf0\\xd3\\xbf\\x81p\\xef\\xb7\\xa2\\xfd\\xb7\\xee\\t\\xb6\\xfd\\xd1jb\\xcb\\xa1\\xf9e\\x8b8\\x12.z\\x8f\\xa8\\xee\\x0e\\x9cw\\r\\x8e\\x87y\\xd1Q\\\\)f\\x11J\\xd8D\\xa9\\n\\x08`{+\\x8e\\xe4\\x06\\x18\\xe8r\\t8\\xd4cQ)w\\xc0\\x19bp\\x00\\x19$\\x9e\\xc0\\rJ\\xdbV\\xc1%\\xa7n\\nIO-L\\xf9\\x91\\xc6\\x7f#\\x100\\x07\\xb8\\xc0\\xcf\\xbe\\xb6\\xd1\\xdd\\xd7i\\xd1r&\\x9b\\xe4\\xb9;j\\xe1S\\xb5*\\x8d\\xb2\\xea\\xbe\\x0c\\x12\\x12cs\\xd5s\\xe6P\\xf9\\x83\\xe6;\\x8f1\\xa7\\xa5\\x91YC\\x07B\\xa4d0`F>\\xba\\xd0h\\xe9\\xefV\\xe5Z\\x98\\x12h\\xa4\\x1f<R(!Xt#\\xd8\\x82\\x08\\xc8\\xeb\\xa4\\xea\\xcd\\xa1_k\\xaf\\x8a+d\\xeb-\\x14\\xe5\\xf9c\\xaarJ\\x102\\x14?S\\x82\\x03c \\xf5\\x1e\\xfa\\x7f6\\x8c\\xb3\\t\\xc0HN\\xf2\\xdd\\xe9!b\\xa6uf\\x1eK\\xd4\\xff\\x00N\\x9a\\xc9\\x05r\\xd4\\xfe@q\\xea{\\xe96+eU\\xb7\\xf7\\xf7\\x1aYE:\\x0c\\xb9\\xa5a.\\x00\\xeeN:\\xe0y\\x90\\t\\xf6\\xd3U\\x9a\\xe5Ct\\xa3Y-\\xd3\\xc1<\\x00\\x0c\\x18\\x1c0\\xfb\\xe3\\xa8?](8\\x9dR\\x9a\\xe2W\\xed|\\x8649\\xe9\\xa5\\x1b\\x9dAw\\xe8z\\xe7\\xa6\\x9a\\xaf\\xa1\\xc5\\xbeYTs\\x18\\xc6H\\x1d\\xf1\\x9e\\xba@\\x96\\xaf\\xc5\\x939\\xf3\\xd3r\\x1b$\\xbc\\xad\\xb9\\x16Y\\xe9\\xf3\\x13\\xb4S.\\x1a9\\x17\\xba\\xb8 \\xa3\\x03\\xea\\x18\\x03\\xab\\xf3\\xc3k\\xef\\xf6\\xf7\\x84\\xfbv\\xe6\\n\\x86\\xaf\\xb3\\xb4\\x0c\\x8aA\\xe4\\x9a)f\\x85\\xd4\\xe3\\xb1\\x00\\xc4>\\x98\\xd5\\x12\\xb6\\xc6%L\\x1e\\xa3\\xcfS\\xdf\\xc2\\x96\\xfck&\\xee\\x97dU\\x964\\xf5\\xfe5\\xc6\\xdcI\\xf9VNT\\xf1\\xd4{\\x91\\x14d\\x0ff\\xf5\\xd6w\\x1a\\x83\\xa4\\xa42\\r[\\x9a\\x9bA!d\\xedi\\xd0\\x9f\\xc5\\x95\\xbe\\xe3\\x05h\\xba[\\xedU\\xa9\\xd4U\\xd8\\xaa\\xe5P<\\xf3\\xe0\\x11\\xff\\x00\\xbbSv\\xa0=\\xc5\\x9a\\xeb\\x16\\xc4\\xa6\\xfc\\xcf%\\xb0\\xd0\\x1c\\xff\\x001\\xa8\\xa3\\x84\\xe7\\xeaN\\xa7\\xcdg#\\xcd\\xee=^J\\x1dO\\xd3\\x0cl\\xe1\\xb5\\xe6\\xa1\\x9e\\x1d\\xd3\\t\\xf8\\xcf\\xba\\\\\\x8f\\xfc\\x15<\\xc9\\x83\\xeb=[1\\xfdD+\\xae>\\xd1\\xa15\\x9b\\x13\\x86\\x9bu\\x88<\\xf7j\\x89j\\x01\\x19VJi\\'fR=\\xdb\\x97\\xee4\\xc9\\xc3\\x81\\xff\\x00\\xf3G\\x13\\xbd\\x85\\x08\\x03\\xea%?\\xf5\\xd7>\\xc3V\\xd6\\x187\\x05E2\\xa3=\\xa0_\\xa7\\xa5\\x12\\x0c\\x85a:\\xb6\\x08\\x18\\xc8\\xcfO\\xa1\\xd3\\x80X{\\xe2\\x9d\\x95\\xf7q\\xe4\\x1b\\xff\\x00\\xca\\xad?\\x1b\\x1b\\xd2\\x0b\\xfe\\xf2\\xbem\\x1a>X\\x1d\\x85\"\\xd6W\\xf8\\x99?\\xbbB\\xc9\\x1a\\xa0?1\\x06g\\'\\x98\\x80\\x0e\\x06\\t\\x07\\x15\\xae\\xcf\\xb6`\\xb5\\xaa\\x89\\x1d\\xea\\xddNCM\\x8eP}B\\x00\\x00>\\xf8\\'\\xdfY\\xef\\xb3O|\\xaa\\x96\\xe3_S-UmY\\xf1\\xe7\\x9eF\\xcb<\\x8f\\xf33\\x1frI\\xd7>\\xd1Y<wH\\xa9\\x0c\\xad$.q\\x879#\\xe9\\xad\\xa5,\\x0c\\xa6hh\\x19\\x9dJ\\x88ds\\xc0\\x0e9\\x01`\\x99\\r@\\x8c\\x82O\\\\\\xe7J\\x1bV\\xda*\\xb7-\\xfe\\xaed\\r\\x14Lh\\xa2R:`\\x12\\xc7\\x1f\\xae\\x99k\\x13\\xf7\\xd8\\xc9\\xc6\\xb2\\xd9\\xe9#\\x8e\\tYA\\x06I\\xa5v\\xc7\\x99\\xe6?\\xf6\\xd4\\xe3\\x99\\x0b\\xd0W\\xbaZ8(U\\x84H#\\x0cr\\xc7\\xcf\\xeeO\\xa6\\xb05M=,FZ\\x99\\xe1\\xa6i\\xcf0\\xf1d\\x08H\\xc6\\x14u \\x9e\\x83\\xfa\\xeb\\xf7u\\x87\\xa3\\xda\\xd7\\x89\\xe0\\x91\\xa2\\x9a*9\\x9d\\x1cc*Dd\\x8ct\\xf6\\xd5Q\\x9e#r\\xa93UK%L\\xcf\\xf34\\xb37;\\x13\\xf59\\xd2$\\x93b\\xc2\\xc8.\\xb2\\xb5t\\x90\\xc1,\\xc2hd\\x8e`\\xbeq\\xb0`\\x0e<\\xc8$kN\\xfb!\\nq\\xa9w\\x83|?\\xdb\\xb5\\xdc\\x17\\xd9&\\xa2\\xd1J\\xf3=\\xaa7j\\x85\\x8cG3\\x12K\\x1c\\xba\\xe1\\x8fR|\\xf5\\x8fx\\xf0r\\xcdFs\\re\\xc1\\x15\\x98\\x0eC*0\\x1fB\\xc8O\\xf5\\xd4V\\xd55\\xe4\\xb6\\xd9\\xab\\x07\\xd0\\xc8\\xd8\\xc4\\x97\\x16*\\xb7T\\xc5U_X\\x94\\xb4\\x94\\xf3VUJJ\\xc7ON\\x85\\xdeBA\\xe8\\x14\\x02O\\xfd<\\xf4\\xf5\\xb7\\xf6^\\xe1\\xd8\\\\5\\rt\\xb3\\x98\\x1a\\xcfH\\xf2\\xcb\\x1f\\xe2#\\xcb\\x00K\\x10\\xa5I\\xc9\\xc1\\xc1\\xe9\\xdfS_\\x0e\\xb6\\x8d\\xbbc\\xee\\x8a\\xca\\x1b|fF\\x9a\\x04g\\xab\\xa8\\xc3NA\\xe6\\xca\\x87\\x00azg\\x00\\r5o\\x0b=5e\\x9a\\xb6\\x19T\\x98\\xe6\\x85\\xd1\\xd7\\xa7PW\\x04\\x7f]C\\x92\\xa5\\xed6fJ\\xd2\\x9b\\x0b\\x8cX\\xceo\\xbe\\xc1S;5S^\\x8b\\xddd\\x8b\\xc1z\\xd63\\x88\\xf9\\xb9\\xb9A\\xfc\\xa38\\x19\\xc2\\x81\\xe5\\xae\\xc7&F5\\xf9k\\xb7\\xc3ME\\x04Q\\x82\\x11\\x11QF{\\x00\\xbd?\\xe5\\xad\\xdf\\xc2\\xa7\\xabk\\x9a\\xc8\\xf7H\\xf2\\xf7\\xeaW\\x7f\\xa7\\x8d\\x90B\\xc8\\xa3\\x16\\r\\x00\\x0e\\xa0\\x12\\x8d=:\\x9e Ss\\xa8e\\x05\\xa4\\xc1\\x00\\x8c\\x88\\xce:\\x1fs\\xa7*\\xab\\xb5Li\\xc9\\x14\\x9e\\x1a\\x0e\\x98^\\x9a\\xe2RP\\xc5.\\xf6R\\xd9%i\\x9c\\x8e\\xbe\\x7f(\\xff\\x00\\xae\\x9b\\x16\\xdf\\x0e9\\x8a\\xe4\\xfb\\xea\\xb2\\xad\\xed\\x124\\xb8^\\xc0+z&\\x92\\xc7\\x01\\xc7\\xf0\\x12\\xb5e\\xd2\\xacSL\\xbe;\\xf2\\xb0\\xc3\\x0c\\xf4\\xc1 \\x10u\\xb6z\\x13\\xae\\xb5\\xea\\xdd\\x03Z+\\x18\\xa0\\xe6X\\xf2\\x0e\\x07\\xa8\\xd6\\x89\\xa7\\\\\\x9e\\xa7\\xf5\\xd3\\xd4\\xf26F\\x92\\xd1d\\xd5KK\\x1fbo\\x97\\xaa\\xd6\\xd4\\x7f}\\xadjk\\xa4\\xf0BD\\xa1Y\\x9aE\\x93\\xe5\\xe5%\\x89\\xc0#9\\x00\\x11\\xdcw\\xd4\\x95\\xf8T\\xf5m4]\\xec\\xf4\\'hmYM$\\x06f\\xa5\\xa9\\xf1%1)i\\x08\\xaa\\x94\\x02\\xc7\\x1dp0>\\xda\\x94+e\\xa1=$&\\xc4\\xe4\\xb3\\xf5\\xf4\\x14\\xd8\\x9b\\xa2\\xa6\\xaam\\xda\\xe2x\\x8b\\x1d\\x97\\x1b\\xe5\\xd4\\x948\\x11\\xc3\\x9b\\xaf\\x11k.7\\n\\x1br\\xcc\\xb6\\xd6\\x8dCO:\\xa4|\\xee\\t\\x04\\x12>f\\x00g\\x00t\\xce}5\\x9bwq2\\xd3\\xb1\\xb7M\\xcbo^#\\xab\\x8a\\xe7o\\x97\\xc1\\xa8\\x10\\xc6\\xb2\\xc6\\x18\\xa8n\\x8e\\x18\\x83\\x80Fp=\\xb5l>\\x1a\\xad\\x14\\xf0p\\xda9Qy^\\xa2\\xbav\\x90\\x8c\\x0c\\xf2\\xb0A\\xff\\x00\\n\\x81\\xaf\\x9f\\xdcW\\xa3\\x17\\xde&o+\\x95L\\x8f\\xf8\\x89\\xaf5|\\xc11\\xcb\\xf2\\xcc\\xca\\x06\\x08>J\\x07\\xdb]\\x1b\\x0e\\xab\\x9aX\\x9a\\xe7\\xda\\xe4_\\xbdp\\x9cn\\x8e\\n\\x1a\\x89#\\xa7\\x04\\x00\\xe237\\xd3%.m-\\xd9j\\xdc\\xd2W\\x1b]`\\xa9\\x8c0\\x98\\xc6T\\xab\\xc6Xa\\x81R\\x01\\x00\\xb0\\xc8=\\xbec\\xae\\xddc\\x05\\x849 \\x18\\x98I\\x93\\xe8\\x0e\\x0f\\xf4\\'Q\\'\\x02m0\\xd3]\\xeb\\xe6Vr\\xef\\x1b\\xc4I#\\xf2\\xa9\\x04yy\\x9e\\xfa\\x96\\xae\\xb4\\xe8\\xf4\\xee\\x87%Y\\x08#>D\\x1d_1\\xfbM\\xb9T\\x01\\xc6\\xd7[@\\x90{\\xf5\\xd4\\x7f\\xb8\\xf6M=5M\\xe2\\xfbAY5\\xaa\\xaa\\x10fa\\x06U\\\\\\x84\\x07\\x07\\x04\\x0c\\x12:\\x82\\x08\\xd3F\\xc9\\xa8\\x92\\xe1\\xb5\\xa8\\xe6\\x9d\\xcc\\x92\\xaf\\xee\\xb9\\x8fr\\x01 g\\xdf\\xa6\\xb4w\\xcax{cqr\\xb3\\x0c\\xac@\\xf5\\xf5\\x03:\\xf5\\xd6sn\\xbd\\xd4.\\xe8J\\x98\\xa1C\\x14\\xab)\\xe5\\x04\\xc5Q\\x92\\x0e@\\xc8\\x0e2G\\xdc\\x1d#\\xee\\x9a\\x18\\xed\\xd2\\xadG\\x81-\\x14Np\\xc1\\xc74J}C\\x8c\\x80\\x0f\\xa1\\xc1\\x1e\\x9a\\x91b\\x88xQ\\x9c\\x9f\\xc8<\\xfd\\x86\\xbd\\x88\\xc1\\x8d\\x8f_\\xe5#\\xc8\\x8f}-\\xc0\\x10\\x96sH6\\x19G\\xcb\\x92\\x088 \\x8e\\xa0\\x8fPGC\\xae\\xd5\\xe2\\xbe\\xb7l-\\xb3t\\xdb2.{~\\xae;\\x84@t\\xe7Pq\"\\x1fb\\xa4\\xe7\\xe9\\xae&\\xf7\\xda\\xd4\\x16\\xa3OYB\\x8fC,\\xf9g\\x14\\xcec\\\\\\xe3\\xb8\\x03[\\xfbB\\xaez\\xfaZzj\\xc9\\x9a\\xb2)\\xcc\\xb18\\x98\\x02y@\\xed\\x90\\x07pps\\x9d0@x1\\xb8k\\x92@$h\\xbe\\x89\\xecK\\xdd\\x1f\\x10h\\xb8i_@\\xc1\\xe8\\xebMMTy\\x1dQ\\x05Y\\x99\\x01\\xf7\\x1f\\x86\\xe5>\\xe3V\\'T#\\xfd\\x1b\\xd7\\x8a\\xcb\\x9d]\\xf6\\xcbU;OA`,\\xb6\\xf4~\\xa6 \\xe5\\x8b\\x0c\\xfb\\x97s\\xfe\\xf1\\xf5\\xd5\\xf7\\xd6\\x19\\xd1\\x08^\\xe6\\r\\xc7\\xf0\\x12j\\x1e_\\xb2O\\x03\\xe2I_\\xff\\xd9'"
            ]
          },
          "metadata": {
            "tags": []
          },
          "execution_count": 24
        }
      ]
    },
    {
      "metadata": {
        "id": "aF1_FIwA3rHY",
        "colab_type": "code",
        "colab": {}
      },
      "cell_type": "code",
      "source": [
        "f=open('test.jpg', 'wb')"
      ],
      "execution_count": 0,
      "outputs": []
    },
    {
      "metadata": {
        "id": "ULtzPInq3xyn",
        "colab_type": "code",
        "colab": {
          "base_uri": "https://localhost:8080/",
          "height": 35
        },
        "outputId": "bec731b8-f646-435f-ae9c-f99819c4159a"
      },
      "cell_type": "code",
      "source": [
        "f.write(r.content)"
      ],
      "execution_count": 26,
      "outputs": [
        {
          "output_type": "execute_result",
          "data": {
            "text/plain": [
              "27387"
            ]
          },
          "metadata": {
            "tags": []
          },
          "execution_count": 26
        }
      ]
    },
    {
      "metadata": {
        "id": "2Ptg-Mfx3z1Y",
        "colab_type": "code",
        "colab": {}
      },
      "cell_type": "code",
      "source": [
        "f.close()"
      ],
      "execution_count": 0,
      "outputs": []
    },
    {
      "metadata": {
        "id": "lV4zwDcq31as",
        "colab_type": "code",
        "colab": {
          "base_uri": "https://localhost:8080/",
          "height": 35
        },
        "outputId": "81f628e9-3031-451a-f4ab-67d07a746606"
      },
      "cell_type": "code",
      "source": [
        "!ls"
      ],
      "execution_count": 28,
      "outputs": [
        {
          "output_type": "stream",
          "text": [
            "sample_data  test_face.zip  test.jpg\n"
          ],
          "name": "stdout"
        }
      ]
    },
    {
      "metadata": {
        "id": "jKeUqZFb6IFv",
        "colab_type": "code",
        "colab": {
          "base_uri": "https://localhost:8080/",
          "height": 317
        },
        "outputId": "6767ca48-8418-45d9-9cc1-c1e647912a76"
      },
      "cell_type": "code",
      "source": [
        "Image(data=r.content)"
      ],
      "execution_count": 32,
      "outputs": [
        {
          "output_type": "execute_result",
          "data": {
            "image/jpeg": "[encoded data removed]",
            "text/plain": [
              "<IPython.core.display.Image object>"
            ]
          },
          "metadata": {
            "tags": []
          },
          "execution_count": 32
        }
      ]
    },
    {
      "metadata": {
        "id": "n2rHEK_M6VhI",
        "colab_type": "code",
        "colab": {
          "base_uri": "https://localhost:8080/",
          "height": 35
        },
        "outputId": "11bbeb1a-de95-4432-fd4b-7dd0559fad74"
      },
      "cell_type": "code",
      "source": [
        "from IPython.display import display, Image\n",
        "sid = 1022439\n",
        "url = \"http://www.getchu.com/soft.phtml?id={}\".format(1017496)\n",
        "r = requests.get(url)\n",
        "html = r.content.decode(r.encoding)\n",
        "soup = BeautifulSoup(html)\n",
        "for img in soup.find_all('img'):\n",
        "  img_src = \"http://www.getchu.com/\"+img.attrs['src'][2:]\n",
        "  if 'chara' in img_src and 'charab' not in img_src:\n",
        "    #print(img_src)\n",
        "    r = requests.get(img_src)\n",
        "    display(Image(data=r.content, height=100))"
      ],
      "execution_count": 40,
      "outputs": [
        {
          "output_type": "display_data",
          "data": {
            "image/png": "[encoded data removed]",
            "text/plain": [
              "<IPython.core.display.Image object>"
            ]
          },
          "metadata": {
            "tags": [],
            "image/png": {
              "height": 100
            }
          }
        }
      ]
    },
    {
      "metadata": {
        "id": "K6ejK4ux8XKb",
        "colab_type": "code",
        "colab": {}
      },
      "cell_type": "code",
      "source": [
        "url=\"http://www.getchu.com/campaign/parallelogram/\""
      ],
      "execution_count": 0,
      "outputs": []
    },
    {
      "metadata": {
        "id": "dbUuehlh9cns",
        "colab_type": "code",
        "colab": {}
      },
      "cell_type": "code",
      "source": [
        "r = requests.get(url+\"?gc=gc\")"
      ],
      "execution_count": 0,
      "outputs": []
    },
    {
      "metadata": {
        "id": "OTDv-Jl--lRE",
        "colab_type": "code",
        "colab": {
          "base_uri": "https://localhost:8080/",
          "height": 35
        },
        "outputId": "32009982-48dc-4667-fc99-d2d82ce03913"
      },
      "cell_type": "code",
      "source": [
        "print(r.cookies)"
      ],
      "execution_count": 64,
      "outputs": [
        {
          "output_type": "stream",
          "text": [
            "<RequestsCookieJar[<Cookie getchu_adalt_flag=getchu.com for www.getchu.com/>]>\n"
          ],
          "name": "stdout"
        }
      ]
    },
    {
      "metadata": {
        "id": "LewY4dp1_XdU",
        "colab_type": "code",
        "colab": {}
      },
      "cell_type": "code",
      "source": [
        "cookies = r.cookies"
      ],
      "execution_count": 0,
      "outputs": []
    },
    {
      "metadata": {
        "id": "hgCFK2Ch_PNK",
        "colab_type": "code",
        "colab": {}
      },
      "cell_type": "code",
      "source": [
        "r = requests.get(url, cookies=cookies)\n"
      ],
      "execution_count": 0,
      "outputs": []
    },
    {
      "metadata": {
        "id": "TcHBWMTA_lmi",
        "colab_type": "code",
        "colab": {}
      },
      "cell_type": "code",
      "source": [
        "r = requests.get(url, cookies={\"getchu_adalt_flag\": \"getchu.com\"})"
      ],
      "execution_count": 0,
      "outputs": []
    },
    {
      "metadata": {
        "id": "e5GSkD0e9gJz",
        "colab_type": "code",
        "colab": {
          "base_uri": "https://localhost:8080/",
          "height": 8236
        },
        "outputId": "878643ce-2ffb-4737-a68b-b22431c7b306"
      },
      "cell_type": "code",
      "source": [
        "print(r.content.decode(r.encoding))"
      ],
      "execution_count": 71,
      "outputs": [
        {
          "output_type": "stream",
          "text": [
            "\n",
            "<!DOCTYPE html>\n",
            "<HTML lang=\"ja\">\n",
            "<head>\n",
            "<TITLE>Getchu.com 桐葉先生描き下ろし「空に刻んだパラレログラム」宝生玻璃キャンペーン色紙プレゼント！ - Getchu.com</TITLE>\n",
            "<meta http-equiv=\"x-ua-compatible\" content=\"IE=10\">\n",
            "<meta property=\"og:title\" content=\"Getchu.com 桐葉先生描き下ろし「空に刻んだパラレログラム」宝生玻璃キャンペーン色紙プレゼント！\" />\n",
            "<meta property=\"og:type\" content=\"article\" />\n",
            "<meta property=\"og:description\" content=\"Getchu.com 桐葉先生描き下ろし「空に刻んだパラレログラム」宝生玻璃キャンペーン色紙プレゼント！\" />\n",
            "<meta property=\"og:url\" content=\"http://www.getchu.com/campaign/parallelogram/\" />\n",
            "<meta property=\"og:image\" content=\"http://www.getchu.com/campaign/parallelogram/images/main1.jpg\"/>\n",
            "<meta property=\"og:site_name\" content=\"Getchu.com\" />\n",
            "<meta property=\"og:locale\" content=\"ja_JP\" /><meta http-equiv=\"Content-Type\" content=\"text/html; charset=EUC-JP\">\n",
            "<meta http-equiv=\"Content-Style-Type\" content=\"text/css\">\n",
            "<meta http-equiv=\"X-UA-Compatible\" content=\"IE=edge,chrome=1\">\n",
            "<link rel=\"shortcut icon\" href=\"http://www.getchu.com/favicon.ico\" type=\"image/x-icon\">\n",
            "<link rel=\"stylesheet\" type=\"text/css\" href=\"http://www.getchu.com/css/master.css\">\n",
            "<!--[if lt IE 9]>\n",
            "<script src=\"//ajax.googleapis.com/ajax/libs/jquery/1.11.1/jquery.min.js\"></script>\n",
            "<script src=\"http://www.getchu.com/jquery/jquery.iframe-auto-height.js\"></script>\n",
            "<script src=\"http://www.getchu.com/jquery/jquery.browser.js\"></script>\n",
            "<![endif]-->\n",
            "<!--[if gte IE 9]><!-->\n",
            "<script src=\"//ajax.googleapis.com/ajax/libs/jquery/2.1.3/jquery.min.js\"></script>\n",
            "<script src=\"http://www.getchu.com/jquery/jquery.iframe-auto-height.plugin.1.9.5.min.js\"></script>\n",
            "<script src=\"http://www.getchu.com/jquery/jquery.browser.js\"></script>\n",
            "<!--<![endif]-->\n",
            "<script src=\"//ajax.googleapis.com/ajax/libs/jqueryui/1.11.2/jquery-ui.min.js\"></script>\n",
            "<script type=\"text/javascript\">\n",
            "$(function(){\n",
            "        $('.tabs').tabs();\n",
            "        $('#tabs').tabs();\n",
            "\t});\n",
            "</script>\n",
            "<script src=\"https://rs.adapf.com/sc/ac86ca37d67bb60689cd44da5ce687d95e28c99d.js\"></script>\n",
            "<script type=\"text/javascript\" src=\"//rs.adapf.com/redirect.js\" async defer></script>\n",
            "<script language='javascript' type='text/javascript' src='//dex.advg.jp/dx/p/us0?_aid=3379' async defer></script>\n",
            "</HEAD>\n",
            "<BODY>\n",
            "<div id=\"wrapper\">\n",
            "<a name=\"pagetop\"></a>\n",
            "\n",
            "<!--ヘッダ START-->\n",
            "\n",
            "<div style=\"float: left; width:345px; height:60px;margin:0;padding:0;\">\n",
            "<a href=\"http://www.getchu.com/top.html\"><img src=\"http://www.getchu.com/common/images/logo_getchu_adult.gif\" width=\"247\" height=\"60\" border=\"0\" style=\"margin:0;padding:0;\" title=\"topへ\"><img src=\"http://www.getchu.com/common/images/logo_com10th_1.gif\" width=\"97\" height=\"60\" border=\"0\"  title=\"TOP\"></a></div>\n",
            "\n",
            "<!--\n",
            "<div style=\"float:left;width:240px;height:60px;margin:0;padding:0;background: #e0e0e0 url(http://www.getchu.com/common/images/speech-bubble.gif) no-repeat left top;overflow:hidden;\">\n",
            "\n",
            "<p style=\"margin:4px 5px 4px 14px;padding:0;line-height:1.3em;\">\n",
            "<a href=\"http://www.getchu.com/soft.phtml?id=882468\">\n",
            "<img src=\"http://www.getchu.com/brandnew/882468/c882468icon_50.jpg\" align=\"right\" style=\"border:1px solid #EEE; width:50px; height:50px;\">\n",
            "体験版公開！「D.S. -Dal Segno-」（CIRCUS）！\n",
            "</a>\n",
            "</p>\n",
            "\n",
            "</div>\n",
            "-->\n",
            "\n",
            "<style>\n",
            ".top_selector{\n",
            "    background:#fff;/*#eee*/\n",
            "    border-top:1px solid #CC3333;\n",
            "    border-right:1px solid #CC3333;\n",
            "    border-left:5px solid #CC3333;\n",
            "    border-bottom:1px solid #CC3333;\n",
            "    padding:5px;\n",
            "margin:3px 3px 0 3px;\n",
            "float:left;\n",
            "width:75px;\n",
            "height:20px:\n",
            "}\n",
            ".top_selector a{color: #494949;}\n",
            "\n",
            ".takiba{\n",
            "    border-top:1px solid #0066CC;\n",
            "    border-right:1px solid #0066CC;\n",
            "    border-left:5px solid #0066CC;\n",
            "    border-bottom:1px solid #0066CC;\n",
            "}\n",
            "\n",
            ".tblue{\n",
            "    border-top:1px solid #0066CC;\n",
            "    border-right:1px solid #0066CC;\n",
            "    border-left:5px solid #0066CC;\n",
            "    border-bottom:1px solid #0066CC;\n",
            "}\n",
            "\n",
            ".ttwitter{\n",
            "    border-top:1px solid #6699FF;\n",
            "    border-right:1px solid #6699FF;\n",
            "    border-left:5px solid #6699FF;\n",
            "    border-bottom:1px solid #6699FF;\n",
            "}\n",
            "\n",
            "</style>\n",
            "<div style=\"float:right;width:292px;height:60px;margin-right:3px;\">\n",
            "<div class=\"top_selector\"><a href=\"https://ssl.getchu.com/comike/mypage/\">マイページ</a></div>\n",
            "<div class=\"top_selector\"><a href=\"http://www.getchu.com/info/\">ご利用ガイド</a></div>\n",
            "<div class=\"top_selector\"><a href=\"http://www.getchu.com/history/\">ウェブ履歴</a></div>\n",
            "<div class=\"top_selector ttwitter\"><a href=\"https://twitter.com/getchucom\" target=\"_blank\">Twitter</a></div>\n",
            "<div class=\"top_selector takiba\"><a href=\"http://www.getchu.com/getchu/shop.html\">あきば店</a></div>\n",
            "<div class=\"top_selector tblue\"><a href=\"http://www.getchu.com/\">一般TOP</a></div>\n",
            "</div>\n",
            "<br style=\"clear: left\" /><style type=\"text/css\">\n",
            ".current a,.current a:visited{\n",
            "background-color: #CC3333;\n",
            "color: #fff;\n",
            "font-weight:bold;\n",
            "}\n",
            "select {\n",
            "    font-family: \"MS PGothic\";\n",
            "}\n",
            "#colortabsline{background-color: #CC3333;}\n",
            "</style>\n",
            "<div class=\"ui-headtabs ui-widget ui-widget-content2 ui-corner-all\" style=\"float:left;\">\n",
            "\n",
            "\t<ul class=\"headtabs ui-headtabs-nav ui-helper-reset\">\n",
            "\t\t<li class=\"genretab tabadult\"><a href=\"http://www.getchu.com/top.html\">TOP</a></li>\n",
            "\t\t<li class=\"genretab current\"><a href=\"http://www.getchu.com/pc/\">ゲーム</a></li>\n",
            "\t\t<li class=\"genretab tabanime\"><a href=\"http://www.getchu.com/anime/\">アニメ</a></li>\n",
            "\t<li class=\"genretab tabadultanime\"><a href=\"http://www.getchu.com/anime/adult.html\">アダルトアニメ</a></li>\n",
            "\t\t<li class=\"genretab tabmusic\"><a href=\"http://www.getchu.com/music/\">音楽</a></li>\n",
            "\t\t<li class=\"genretab tabgoods\"><a href=\"http://www.getchu.com/goods/\">グッズ</a></li>\n",
            "\t\t<li class=\"genretab tabdakimakura\"><a href=\"http://www.getchu.com/goods/dakimakura.html\">抱き枕</a></li>\n",
            "<!--\t\t<li class=\"genretab tabbgame\"><a href=\"http://www.getchu.com/goods/bgame/\">ボドゲ</a></li>-->\n",
            "\t\t<li class=\"genretab tabbooks\"><a href=\"http://www.getchu.com/books/\">書籍・雑誌</a></li>\n",
            "\t\t<li class=\"genretab tabdoujin\"><a href=\"http://www.getchu.com/doujin/\">同人</a></li>\n",
            "\n",
            "\t\t<li class=\"genretab tabcosplay\"><a href=\"http://www.getchu.com/doujin/cosplay.html\">コスプレ</a></li>\n",
            "\t\t<li class=\"genretab tabdvdpg\"><a href=\"http://www.getchu.com/dvdpg/\">PG</a></li>\t\t<li class=\"genretab tabboys\"><a href=\"http://www.getchu.com/boys/\">女性向</a></li>\n",
            "\t\t<li class=\"genretab tabdl\"><a href=\"http://www.getchu.com/dl/\">DL</a></li>\n",
            "\n",
            "\t\t<li class=\"genretab tabadultgoods\"><a href=\"http://www.getchu.com/goods/adult.html\">アダルトグッズ</a></li>\n",
            "\n",
            "\t\t<li class=\"genretab tabblog\"><a href=\"http://www.getchu.com/blog/\">ブログ</a></li>\n",
            "</ul>\n",
            "</div>\n",
            "\n",
            "</div>\n",
            "\n",
            "<div id=\"colortabsline\">&nbsp;</div>\n",
            "\n",
            "<div class=\"header_search\">\n",
            "\n",
            "<div id=\"search_container\">\n",
            "<div id=\"search_containerInner\">\n",
            "\n",
            "<div id=\"search_nav\">\n",
            "<form NAME=\"formsearch\" method=\"GET\" action=\"http://www.getchu.com/php/search.phtml\" style=\"display: inline\">\n",
            "<select name=\"genre\" class=\"search_select\" style=\"margin:0;padding:4px;height:26px;\">\n",
            "<option value=\"all\">すべてのジャンル</option>\n",
            "<option value=\"pc_soft\" selected>ゲーム</option>\n",
            "<option value=\"anime_dvd\" >アニメ</option>\n",
            "<option value=\"music_cd\" >音楽</option>\n",
            "<option value=\"goods\" >グッズ</option>\n",
            "<option value=\"books\" >書籍</option>\n",
            "<option value=\"magazine\" >雑誌</option>\n",
            "<option value=\"dvd_game\" >PlayersGame</option>\n",
            "<option value=\"doujin\" >同人</option>\n",
            "<option value=\"all_lady\" >女性向</option>\n",
            "<option value=\"all_dl\" >ダウンロード作品</option>\n",
            "<option value=\"adultgoods\" >アダルトグッズ</option>\n",
            "</select>\n",
            "</div>\n",
            "\n",
            "<div id=\"search_content\">\n",
            "<div id=\"search_contentInner\">\n",
            "<input type=\"text\" name=\"search_keyword\" maxlength=\"256\" istyle=\"1\" class=\"search_text\"><input type=\"hidden\" name=\"check_key_dtl\" value=\"1\">\n",
            "</div>\n",
            "</div>\n",
            "\n",
            "<div id=\"search_aside\">\n",
            "<button type=\"submit\" name=\"submit\" value=\"\" class=\"header_search_button ui-default-button ui-button ui-widget ui-state-default ui-corner-all ui-button-text-icon-primary\" role=\"button\"><span class=\"ui-button-icon-primary ui-icon ui-icon-search\"></span><span class=\"ui-button-text\">&nbsp;</span></button></form>\n",
            "<button onclick=\"location.href='http://www.getchu.com/php/search_top.phtml'\"\n",
            " class=\"header_detail ui-default-button ui-button ui-widget ui-state-default ui-corner-all ui-button-text-icon-secondary\" role=\"button\">\n",
            "<span class=\"ui-button-text\">詳細検索</span>\n",
            "<span class=\"ui-button-icon-secondary ui-icon ui-icon-triangle-1-s\"></span>\n",
            "</button>\n",
            "\n",
            "<button onclick=\"location.href='/campaign/'\"\n",
            " class=\"header_detail ui-default-button ui-button ui-widget ui-state-default ui-corner-all ui-button-text-icon-secondary\" role=\"button\" style=\"width:115px;\">\n",
            "<span class=\"ui-button-text\">キャンペーン</span>\n",
            "<span class=\"ui-button-icon-secondary ui-icon ui-icon-triangle-1-s\"></span>\n",
            "</button>\n",
            "\n",
            "<button onclick=\"location.href='https://ssl.getchu.com/comike/mypage/af_wish_list.phtml'\"\n",
            " class=\"header_wish ui-default-button ui-button ui-widget ui-state-default ui-corner-all ui-button-text-icon-primary\" role=\"button\">\n",
            "<span class=\"ui-button-icon-primary ui-icon ui-icon-star\"></span>\n",
            "<span class=\"ui-button-text\">お気に入り</span>\n",
            "</button>\n",
            "\n",
            "<button onclick=\"location.href='https://ssl.getchu.com/comike/cart.phtml?gc=gc&'\"\n",
            " class=\"header_cart ui-default-button ui-button ui-widget ui-state-default ui-corner-all ui-button-text-icon-primary\" role=\"button\">\n",
            "<span class=\"ui-button-icon-primary ui-icon ui-icon-cart\"></span>\n",
            "<span class=\"ui-button-text\">カートを見る</span>\n",
            "</button>\n",
            "</div>\n",
            "\n",
            "</div>\n",
            "</div>\n",
            "\n",
            "<div id=\"slantedmenu2\">\n",
            "<ul>\n",
            "<li><a href=\"http://www.getchu.com/all/month_title.html?genre=pc_soft\">今月のタイトル</a></li>\n",
            "<li><a href=\"http://www.getchu.com/rank/?genre=pc_soft\">ランキング</a></li>\n",
            "<li><a href=\"http://www.getchu.com/all/rank_reserve.html?genre=pc_soft\">予約</a></li>\n",
            "<li><a href=\"http://www.getchu.com/all/rank_sales.html?genre=pc_soft\">セールス</a></li>\n",
            "<li><a href=\"http://www.getchu.com/all/brand.html?genre=pc_soft\">ブランド一覧</a></li>\n",
            "<li><a href=\"http://www.getchu.com/all/novelty.html?genre=pc_soft\">特典付</a></li>\n",
            "<li><a href=\"http://www.getchu.com/all/novelty_images.html?genre=pc_soft\">特典画像</a></li>\n",
            "<li><a href=\"http://www.getchu.com/pc/movie.html\">デモ動画</a></li>\n",
            "<li><a href=\"http://www.getchu.com/all/demo.html?genre=pc_soft\">体験版・動画DL</a></li>\n",
            "<li><a href=\"http://www.getchu.com/all/campaign.html\">予約キャンペーン</a></li>\n",
            "<li><a href=\"http://www.getchu.com/all/change.html?genre=pc_soft\">発売日変更情報</a></li>\n",
            "</ul>\n",
            "</div>\n",
            "</div>\n",
            "<div id=\"highslide-container\"></div>\n",
            "<link rel=\"stylesheet\" type=\"text/css\" href=\"http://www.getchu.com/campaign/pc.css\"/>\n",
            "\n",
            "<div id=\"campaign_back\">\n",
            "\n",
            "\n",
            "\t<div class=\"banner cut_sp\">\n",
            "\t<TABLE style=\"margin:auto;\">\n",
            "<TR>\n",
            "<TD>\n",
            "<div id=\"bannera2\">\n",
            "    <div class=\"banner\" style=\"height:105px;\">\n",
            "        <script>\n",
            "        $(document).ready(function(){\n",
            "            $.get('/mbanner/php/showBannerAsync.php?gid=33').done(function(html) {$(\"#bannera2 .banner\").append(html);});\n",
            "        });\n",
            "        </script>\n",
            "    </div>\n",
            "</div>\n",
            "\n",
            "</TD>\n",
            "<TD>\n",
            "\n",
            "<div id=\"banner_a_mini\" style=\"float:left;\">\n",
            "<div class=\"banner\" style=\"height:105px;\">\n",
            "<script src=\"/mbanner/php/showBanner.php?gid=110\"></script>\n",
            "</div>\n",
            "</div>\n",
            "\n",
            "\n",
            "</TD>\n",
            "</TR>\n",
            "</TABLE>\n",
            "\t</div>\n",
            "\n",
            "\n",
            "\n",
            "<!--header-->\n",
            "<a name=\"top\" id=\"top\"></a>\n",
            "<div id=\"campaign_body\" style=\"border:0;width:100%;max-width:950px;\">\n",
            "\n",
            "<h3 style=\"padding:3px;border: 2px solid #2792c3; border-radius:6px;background:#fff;color:#2792c3;font-size:16pt;margin-bottom:10px;text-align:center; magrin-top: 5px;\">\n",
            "桐葉先生描き下ろし「空に刻んだパラレログラム」宝生玻璃キャンペーン色紙プレゼント！</h3>\n",
            "\n",
            "<div style=\"text-align:center;margin:10px;\">\n",
            "<img src=\"images/main1.jpg\" style=\"max-width:100%;\">\n",
            "</div>\n",
            "\n",
            "<!--\n",
            "<div style=\"margin:20px; border:3px red solid; text-align:center; font-weight:bold; height:50px; line-height:50px; color:red; font-size:18px\">\n",
            "※本キャンペーンは終了しました。\n",
            "</div>\n",
            "-->\n",
            "\n",
            "<section>\n",
            "<a name=\"about\" id=\"about\"></a>\n",
            "\n",
            "<!--<div class=\"flame_campaign_condition\">-->\n",
            "\n",
            "\n",
            "<div style=\"border:4px solid #0080FF; width:auto;padding:4px;margin: 2px;text-align:center;line-height:1.5;font-size:16px;color:#0080FF;font-weight:bold;\">\n",
            "キャンペーン内容（通販：12月3日（月）12時から、あきば店：12月3日（月）から）\n",
            "</div>\n",
            "\n",
            "\n",
            "<div style=\"border:2px solid #2792c3;padding:10px;margin-bottom:10px;border-radius:10px;\">\n",
            "げっちゅ屋では「<a href=\"http://www.getchu.com/soft.phtml?id=1018316\" class=\"blue\" target=\"_blank\">空に刻んだパラレログラム</a>」発売記念として応援キャンペーンを開催！<br>\n",
            "<br>\n",
            "1回のご注文金額15,000円以上（送料・手数料除く）でご予約・ご購入いただき、お申込いただいた会員のお客様に<br>\n",
            "<span class=\"navyb\">今回のキャンペーンのために原画担当「桐葉」先生に描き下ろしていただいた<br>\n",
            "「空に刻んだパラレログラム」宝生玻璃ちゃん水着色紙</span> をプレゼント！<br>\n",
            "<br>\n",
            "\n",
            "\n",
            "<div style=\"text-align:center;margin:10px;\">\n",
            "<img src=\"http://www.getchu.com/campaign/parallelogram/img/hari.jpg\" style=\"max-width:100%;\">\n",
            "</div>\n",
            "\n",
            "<div style=\"background:#EEE;padding:10px;border-radius:10px;\">\n",
            "・本キャンペーンは注文完了後の申込画面から申込が必要となります。<br>\n",
            "・キャンペーン開始前のご注文は対象外となります。ご了承ください。<br>\n",
            "・本キャンペーンは特典が無くなり次第終了とさせていただきます。ご了承ください。<br>\n",
            "・店舗とは一部実施条件が異なる場合があります。<br>\n",
            "</div>\n",
            "\n",
            "\n",
            "\n",
            "<div style=\"border:4px solid #0080FF; width:auto;padding:4px;margin: 2px;text-align:center;line-height:1.5;font-size:16px;color:#0080FF;font-weight:bold;\">\n",
            "「空に刻んだパラレログラム」とは？\n",
            "</div>\n",
            "\n",
            "<div style=\"margin:3px;line-height:1.7;padding:5px;\">\n",
            "\n",
            "<div style=\"margin:10px auto;\" align=\"center\">\n",
            "<a href=\"http://www.getchu.com/soft.phtml?id=1018316\" class=\"blue\" target=\"_blank\"><img src=\"http://www.getchu.com/brandnew/1018316/c1018316package.jpg\" style=\"max-width:100%;\"></a></div>\n",
            "<p>\n",
            "<a href=\"http://www.getchu.com/soft.phtml?id=1018316\">「空に刻んだパラレログラム」</a>は、12/21発売のウグイスカグラ最新PCゲームタイトル。<br>\n",
            "今作では、ブランドの新しいイメージを打ち出す『瑞々しい青春部活』作品！<br>\n",
            "登場人物それぞれの奮闘と成長、そして恋愛模様をお楽しみいただけます。<br>\n",
            "<br>\n",
            "げっちゅ屋では、<span class=\"navyb\">玻璃ちゃんの描き下ろしB2タペストリー</span> にて予約受付中！<br>\n",
            "<img src=\"http://www.getchu.com/brandnew/1018316/1018316novelty1.jpg\" alt=\"IMG1\" width=\"250\" class=\"soft\" style=\"max-width:100%;\"><br>\n",
            "\n",
            "主人公の妹となる玻璃ちゃんをげっちゅ屋では大プッシュ！<br>\n",
            "今回のキャンペーン色紙に加え、特典でも玻璃ちゃんでお迎えします♪<br>\n",
            "<br>\n",
            "また、早期予約キャンペーンとして<br>\n",
            "<span class=\"navyb\">桐葉先生描き下ろし複製サイン入り色紙3枚セット</span> が付きます！<br>\n",
            "ソフトはマスターアップ済ですので安心してご予約ください♪<br>\n",
            "（※早期予約キャンペーンは上限数に達し次第終了となりますので、ご了承ください）<br>\n",
            "<p>\n",
            "<div style=\"margin:10px auto;\" align=\"center\">\n",
            "<a href=\"http://www.getchu.com/soft.phtml?id=1018316\" class=\"blue\" target=\"_blank\"><img src=\"http://www.getchu.com/campaign/parallelogram/img/shikishi.jpg\" style=\"max-width:100%;\"></a></div>\n",
            "\n",
            "\n",
            "\n",
            "<section class=\"cut_sp\">\n",
            "<iframe style=\"display:block;margin:0px auto;\" width=\"711\" height=\"400\"  align=\"center\" src=\"https://www.youtube.com/embed/x12UsxAEagI\" frameborder=\"0\" allowfullscreen></iframe>\n",
            "</section>\n",
            "</div>\n",
            "\n",
            "\n",
            "\n",
            "\n",
            "<br clear=\"left\">\n",
            "</div>\n",
            "\n",
            "\n",
            "</section>\n",
            "\n",
            "\n",
            "<section class=\"cut_sp\">\n",
            "<div style=\"border:4px solid #0080FF; width:auto;padding:4px;margin: 2px;text-align:center;line-height:1.5;font-size:16px;color:#0080FF;font-weight:bold;\">\n",
            "応援バナー\n",
            "</div>\n",
            "\n",
            "<style type=\"text/css\">\n",
            ".userbanner{ \n",
            "\tmargin:0 10px 15px;\n",
            "}\n",
            ".userbanner img{ \n",
            "\tborder:none;\n",
            "}\n",
            ".textarea_banner{\n",
            "\twidth:90%;\n",
            "\theight:40px;\n",
            "\tborder:solid 1px #999999;\n",
            "\tpadding:1px;\n",
            "}\n",
            "</style>\n",
            "\n",
            "\n",
            "<div class=\"userbanner\">\n",
            "■728×90<br>\n",
            "<img src=\"http://www.getchu.com/campaign/parallelogram/img/728x90.jpg\" width=\"728\" height=\"90\"><br>\n",
            "<form name=\"paste_box\" style=\"width:auto;\">\n",
            "<textarea name=\"blog_url\" rows=\"2\" cols=\"60\" class=\"gray textarea_banner\" readonly=\"readonly\" onclick=\"this.select()\">\n",
            "<a href=\"http://www.getchu.com/campaign/parallelogram/\" target=\"_blank\" title=\"\">\n",
            "<img src=\"http://image.getchu.com/campaign/parallelogram/img/728x90.jpg\" width=\"728\" height=\"90\" border=\"0\"></a>\n",
            "</textarea>\n",
            "</form>\n",
            "</div>\n",
            "\n",
            "<div class=\"userbanner\">\n",
            "■468×60<br>\n",
            "<img src=\"http://www.getchu.com/campaign/parallelogram/img/468x60.jpg\" width=\"468\" height=\"60\"><br>\n",
            "<form name=\"paste_box\" style=\"width:auto;\">\n",
            "<textarea name=\"blog_url\" rows=\"2\" cols=\"60\" class=\"gray textarea_banner\" readonly=\"readonly\" onclick=\"this.select()\">\n",
            "<a href=\"http://www.getchu.com/campaign/parallelogram/\" target=\"_blank\" title=\"\">\n",
            "<img src=\"http://image.getchu.com/campaign/parallelogram/img/468x60.jpg\" width=\"468\" height=\"60\" border=\"0\"></a>\n",
            "</textarea>\n",
            "</form>\n",
            "</div>\n",
            "\n",
            "\t<div style=\"width:40%; float:left; margin:0;\">\n",
            "<div class=\"userbanner\">\n",
            "■160×600<br>\n",
            "<img src=\"http://www.getchu.com/campaign/parallelogram/img/160x600.jpg\" width=\"160\" height=\"600\" style=\"float: left;\">\n",
            "<form name=\"paste_box\" style=\"width:auto;\">\n",
            "<textarea name=\"blog_url\" rows=\"2\" cols=\"60\" class=\"gray textarea_banner\" readonly=\"readonly\" onclick=\"this.select()\">\n",
            "<a href=\"http://www.getchu.com/campaign/parallelogram/\" target=\"_blank\" title=\"\">\n",
            "<img src=\"http://image.getchu.com/campaign/parallelogram/img/160x600.jpg\" width=\"160\" height=\"600\" border=\"0\"></a>\n",
            "</textarea>\n",
            "</form>\n",
            "</div>\n",
            "\t</div>\n",
            "\n",
            "\t<div style=\"width:60%; float:left; margin:0;\">\n",
            "<div class=\"userbanner\">\n",
            "■300×250<br>\n",
            "<img src=\"http://www.getchu.com/campaign/parallelogram/img/300x250.jpg\" width=\"300\" height=\"250\"><br>\n",
            "<form name=\"paste_box\" style=\"width:auto;\">\n",
            "<textarea name=\"blog_url\" rows=\"3\" cols=\"60\" class=\"gray textarea_banner\" readonly=\"readonly\" onclick=\"this.select()\">\n",
            "<a href=\"http://www.getchu.com/campaign/parallelogram/\" target=\"_blank\" title=\"\">\n",
            "<img src=\"http://image.getchu.com/campaign/parallelogram/img/300x250.jpg\" width=\"300\" height=\"250\" border=\"0\"></a>\n",
            "</textarea>\n",
            "</form>\n",
            "</div>\n",
            "\n",
            "<div class=\"userbanner\">\n",
            "■180×60<br>\n",
            "<img src=\"http://www.getchu.com/campaign/parallelogram/img/180x60.jpg\" width=\"180\" height=\"60\"><br>\n",
            "<form name=\"paste_box\" style=\"width:auto;\">\n",
            "<textarea name=\"blog_url\" rows=\"3\" cols=\"60\" class=\"gray textarea_banner\" readonly=\"readonly\" onclick=\"this.select()\">\n",
            "<a href=\"http://www.getchu.com/campaign/parallelogram/\" target=\"_blank\" title=\"\">\n",
            "<img src=\"http://image.getchu.com/campaign/parallelogram/img/180x60.jpg\" width=\"180\" height=\"60\" border=\"0\"></a>\n",
            "</textarea>\n",
            "</form>\n",
            "</div>\n",
            "\n",
            "</div>\n",
            "\n",
            "<div style=\"clear:left;\"></div>\n",
            "</section>\n",
            "\n",
            "\n",
            "\n",
            "</div>\n",
            "\n",
            "\n",
            "\n",
            "<div id=\"normal_footer\"><div class=\"top_return\">\n",
            "<a href=\"#pagetop\">▲このページのTOPへ</a>\n",
            "</div>\n",
            "\n",
            "<div align=\"center\">\n",
            "<div style=\"width:100%;padding:7px 0px;\">\n",
            "｜<a href=\"http://www.getchu.com/top.html\">トップへ戻る</a>｜<a href=\"http://www.getchu.com/mb/\">携帯サイトGetchu.com mobile</a>｜<a href=\"http://dl.getchu.com/\" target=\"_blank\">ダウンロードサイトDL.Getchu.com</a>｜<a href=\"http://www.getchu.com/affiliate/\">アフィリエイト</a>｜<a href=\"http://www.getchu.com/recruit/\">スタッフ募集</a>｜<a href=\"http://www.getchu.com/info/contact.html\">お問い合わせ</a>｜\n",
            "</div>\n",
            "\n",
            "<div style=\"padding:5px 0px; border-top: 1px solid #CCCCCC;\">\n",
            "&copy; Getchu.com 1999-2018</div>\n",
            "\n",
            "</div>\n",
            "\n",
            "<script>\n",
            "   (function(i,s,o,g,r,a,m){i['GoogleAnalyticsObject']=r;i[r]=i[r]||function(){\n",
            "   (i[r].q=i[r].q||[]).push(arguments)},i[r].l=1*new Date();a=s.createElement(o),\n",
            "   m=s.getElementsByTagName(o)[0];a.async=1;a.src=g;m.parentNode.insertBefore(a,m)\n",
            "   })(window,document,'script','//www.google-analytics.com/analytics.js','ga');\n",
            "\n",
            "    ga('create', 'UA-1332747-1', 'auto', {'allowLinker': true});\n",
            "    ga('require', 'linker');\n",
            "    ga('linker:autoLink', ['getchu.com','ssl.getchu.com'],true);\n",
            "    ga('set', 'contentGroup1', '');\n",
            "    ga('set', 'contentGroup2', '');\n",
            "    ga('send', 'pageview');\n",
            "</script>\n",
            "\n",
            "\n",
            "\n",
            "</div>\n",
            "</body>\n",
            "</html>\n"
          ],
          "name": "stdout"
        }
      ]
    }
  ]
}